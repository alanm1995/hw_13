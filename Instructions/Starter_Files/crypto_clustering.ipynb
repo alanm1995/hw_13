{
 "cells": [
  {
   "cell_type": "markdown",
   "metadata": {},
   "source": [
    "# Clustering Crypto"
   ]
  },
  {
   "cell_type": "code",
   "execution_count": 1,
   "metadata": {},
   "outputs": [
    {
     "name": "stdout",
     "output_type": "stream",
     "text": [
      "Populating the interactive namespace from numpy and matplotlib\n"
     ]
    }
   ],
   "source": [
    "# Initial imports\n",
    "import pandas as pd\n",
    "#import hvplot.plot\n",
    "import matplotlib.pyplot as plt\n",
    "from pathlib import Path\n",
    "import plotly.express as px\n",
    "from sklearn.preprocessing import StandardScaler, MinMaxScaler\n",
    "from sklearn.decomposition import PCA\n",
    "from sklearn.cluster import KMeans\n",
    "\n",
    "import matplotlib.pyplot as plt\n",
    "import matplotlib.ticker as mtick\n",
    "import matplotlib.lines\n",
    "import statistics\n",
    "#import ffn\n",
    "\n",
    "%pylab inline\n",
    "\n",
    "%matplotlib inline\n",
    "\n",
    "from pathlib import Path\n",
    "from scipy import misc"
   ]
  },
  {
   "cell_type": "markdown",
   "metadata": {},
   "source": [
    "### Data Preprocessing"
   ]
  },
  {
   "cell_type": "code",
   "execution_count": 48,
   "metadata": {},
   "outputs": [
    {
     "data": {
      "text/html": [
       "<div>\n",
       "<style scoped>\n",
       "    .dataframe tbody tr th:only-of-type {\n",
       "        vertical-align: middle;\n",
       "    }\n",
       "\n",
       "    .dataframe tbody tr th {\n",
       "        vertical-align: top;\n",
       "    }\n",
       "\n",
       "    .dataframe thead th {\n",
       "        text-align: right;\n",
       "    }\n",
       "</style>\n",
       "<table border=\"1\" class=\"dataframe\">\n",
       "  <thead>\n",
       "    <tr style=\"text-align: right;\">\n",
       "      <th></th>\n",
       "      <th>CoinName</th>\n",
       "      <th>Algorithm</th>\n",
       "      <th>IsTrading</th>\n",
       "      <th>ProofType</th>\n",
       "      <th>TotalCoinsMined</th>\n",
       "      <th>TotalCoinSupply</th>\n",
       "    </tr>\n",
       "  </thead>\n",
       "  <tbody>\n",
       "    <tr>\n",
       "      <td>42</td>\n",
       "      <td>42 Coin</td>\n",
       "      <td>Scrypt</td>\n",
       "      <td>True</td>\n",
       "      <td>PoW/PoS</td>\n",
       "      <td>4.199995e+01</td>\n",
       "      <td>42</td>\n",
       "    </tr>\n",
       "    <tr>\n",
       "      <td>365</td>\n",
       "      <td>365Coin</td>\n",
       "      <td>X11</td>\n",
       "      <td>True</td>\n",
       "      <td>PoW/PoS</td>\n",
       "      <td>NaN</td>\n",
       "      <td>2300000000</td>\n",
       "    </tr>\n",
       "    <tr>\n",
       "      <td>404</td>\n",
       "      <td>404Coin</td>\n",
       "      <td>Scrypt</td>\n",
       "      <td>True</td>\n",
       "      <td>PoW/PoS</td>\n",
       "      <td>1.055185e+09</td>\n",
       "      <td>532000000</td>\n",
       "    </tr>\n",
       "    <tr>\n",
       "      <td>611</td>\n",
       "      <td>SixEleven</td>\n",
       "      <td>SHA-256</td>\n",
       "      <td>True</td>\n",
       "      <td>PoW</td>\n",
       "      <td>NaN</td>\n",
       "      <td>611000</td>\n",
       "    </tr>\n",
       "    <tr>\n",
       "      <td>808</td>\n",
       "      <td>808</td>\n",
       "      <td>SHA-256</td>\n",
       "      <td>True</td>\n",
       "      <td>PoW/PoS</td>\n",
       "      <td>0.000000e+00</td>\n",
       "      <td>0</td>\n",
       "    </tr>\n",
       "    <tr>\n",
       "      <td>1337</td>\n",
       "      <td>EliteCoin</td>\n",
       "      <td>X13</td>\n",
       "      <td>True</td>\n",
       "      <td>PoW/PoS</td>\n",
       "      <td>2.927942e+10</td>\n",
       "      <td>314159265359</td>\n",
       "    </tr>\n",
       "    <tr>\n",
       "      <td>2015</td>\n",
       "      <td>2015 coin</td>\n",
       "      <td>X11</td>\n",
       "      <td>True</td>\n",
       "      <td>PoW/PoS</td>\n",
       "      <td>NaN</td>\n",
       "      <td>0</td>\n",
       "    </tr>\n",
       "    <tr>\n",
       "      <td>BTC</td>\n",
       "      <td>Bitcoin</td>\n",
       "      <td>SHA-256</td>\n",
       "      <td>True</td>\n",
       "      <td>PoW</td>\n",
       "      <td>1.792718e+07</td>\n",
       "      <td>21000000</td>\n",
       "    </tr>\n",
       "    <tr>\n",
       "      <td>ETH</td>\n",
       "      <td>Ethereum</td>\n",
       "      <td>Ethash</td>\n",
       "      <td>True</td>\n",
       "      <td>PoW</td>\n",
       "      <td>1.076842e+08</td>\n",
       "      <td>0</td>\n",
       "    </tr>\n",
       "    <tr>\n",
       "      <td>LTC</td>\n",
       "      <td>Litecoin</td>\n",
       "      <td>Scrypt</td>\n",
       "      <td>True</td>\n",
       "      <td>PoW</td>\n",
       "      <td>6.303924e+07</td>\n",
       "      <td>84000000</td>\n",
       "    </tr>\n",
       "  </tbody>\n",
       "</table>\n",
       "</div>"
      ],
      "text/plain": [
       "       CoinName Algorithm  IsTrading ProofType  TotalCoinsMined  \\\n",
       "42      42 Coin    Scrypt       True   PoW/PoS     4.199995e+01   \n",
       "365     365Coin       X11       True   PoW/PoS              NaN   \n",
       "404     404Coin    Scrypt       True   PoW/PoS     1.055185e+09   \n",
       "611   SixEleven   SHA-256       True       PoW              NaN   \n",
       "808         808   SHA-256       True   PoW/PoS     0.000000e+00   \n",
       "1337  EliteCoin       X13       True   PoW/PoS     2.927942e+10   \n",
       "2015  2015 coin       X11       True   PoW/PoS              NaN   \n",
       "BTC     Bitcoin   SHA-256       True       PoW     1.792718e+07   \n",
       "ETH    Ethereum    Ethash       True       PoW     1.076842e+08   \n",
       "LTC    Litecoin    Scrypt       True       PoW     6.303924e+07   \n",
       "\n",
       "     TotalCoinSupply  \n",
       "42                42  \n",
       "365       2300000000  \n",
       "404        532000000  \n",
       "611           611000  \n",
       "808                0  \n",
       "1337    314159265359  \n",
       "2015               0  \n",
       "BTC         21000000  \n",
       "ETH                0  \n",
       "LTC         84000000  "
      ]
     },
     "execution_count": 48,
     "metadata": {},
     "output_type": "execute_result"
    }
   ],
   "source": [
    "# Loade the cryptocurrencies data\n",
    "file_path = Path(\"Resources/crypto_data.csv\")\n",
    "crypto_df = pd.read_csv(file_path, index_col=0)\n",
    "crypto_df.head(10)"
   ]
  },
  {
   "cell_type": "code",
   "execution_count": 49,
   "metadata": {},
   "outputs": [],
   "source": [
    "# Keep only cryptocurrencies that are on trading\n",
    "index = crypto_df[crypto_df['IsTrading'] == False].index\n",
    "\n",
    "crypto_df.drop(index, inplace=True)"
   ]
  },
  {
   "cell_type": "code",
   "execution_count": 50,
   "metadata": {},
   "outputs": [
    {
     "data": {
      "text/plain": [
       "CoinName             0\n",
       "Algorithm            0\n",
       "IsTrading            0\n",
       "ProofType            0\n",
       "TotalCoinsMined    459\n",
       "TotalCoinSupply      0\n",
       "dtype: int64"
      ]
     },
     "execution_count": 50,
     "metadata": {},
     "output_type": "execute_result"
    }
   ],
   "source": [
    "# Keep only cryptocurrencies with a working algorithm\n",
    "crypto_df.isnull().sum()"
   ]
  },
  {
   "cell_type": "code",
   "execution_count": 51,
   "metadata": {},
   "outputs": [],
   "source": [
    "# Remove the \"IsTrading\" column\n",
    "crypto_df.drop('IsTrading', axis = 1, inplace=True)"
   ]
  },
  {
   "cell_type": "code",
   "execution_count": 52,
   "metadata": {},
   "outputs": [],
   "source": [
    "# Remove rows with at least 1 null value\n",
    "crypto_df.dropna(inplace=True)"
   ]
  },
  {
   "cell_type": "code",
   "execution_count": 53,
   "metadata": {},
   "outputs": [],
   "source": [
    "# Remove rows with cryptocurrencies without coins mined\n",
    "index_names = crypto_df[crypto_df['TotalCoinsMined'] == 0].index\n",
    "\n",
    "crypto_df.drop(index_names, inplace=True)"
   ]
  },
  {
   "cell_type": "code",
   "execution_count": 54,
   "metadata": {},
   "outputs": [],
   "source": [
    "# Fetch the cryptocurrencies names prior to drop them from crypto_df\n",
    "coin_names = crypto_df['CoinName']"
   ]
  },
  {
   "cell_type": "code",
   "execution_count": 55,
   "metadata": {},
   "outputs": [],
   "source": [
    "# Remove the cryptocurrency name since it's not going to be used on the clustering algorithm\n",
    "crypto_df.drop('CoinName', axis = 1, inplace=True)"
   ]
  },
  {
   "cell_type": "code",
   "execution_count": 56,
   "metadata": {},
   "outputs": [
    {
     "data": {
      "text/html": [
       "<div>\n",
       "<style scoped>\n",
       "    .dataframe tbody tr th:only-of-type {\n",
       "        vertical-align: middle;\n",
       "    }\n",
       "\n",
       "    .dataframe tbody tr th {\n",
       "        vertical-align: top;\n",
       "    }\n",
       "\n",
       "    .dataframe thead th {\n",
       "        text-align: right;\n",
       "    }\n",
       "</style>\n",
       "<table border=\"1\" class=\"dataframe\">\n",
       "  <thead>\n",
       "    <tr style=\"text-align: right;\">\n",
       "      <th></th>\n",
       "      <th>TotalCoinsMined</th>\n",
       "      <th>TotalCoinSupply</th>\n",
       "      <th>Algorithm_536</th>\n",
       "      <th>Algorithm_Argon2d</th>\n",
       "      <th>Algorithm_BLAKE256</th>\n",
       "      <th>Algorithm_Blake</th>\n",
       "      <th>Algorithm_Blake2S</th>\n",
       "      <th>Algorithm_Blake2b</th>\n",
       "      <th>Algorithm_C11</th>\n",
       "      <th>Algorithm_Cloverhash</th>\n",
       "      <th>...</th>\n",
       "      <th>ProofType_PoW/PoS</th>\n",
       "      <th>ProofType_PoW/PoS</th>\n",
       "      <th>ProofType_PoW/PoW</th>\n",
       "      <th>ProofType_PoW/nPoS</th>\n",
       "      <th>ProofType_Pos</th>\n",
       "      <th>ProofType_Proof of Authority</th>\n",
       "      <th>ProofType_Proof of Trust</th>\n",
       "      <th>ProofType_TPoS</th>\n",
       "      <th>ProofType_Zero-Knowledge Proof</th>\n",
       "      <th>ProofType_dPoW/PoW</th>\n",
       "    </tr>\n",
       "  </thead>\n",
       "  <tbody>\n",
       "    <tr>\n",
       "      <td>42</td>\n",
       "      <td>4.199995e+01</td>\n",
       "      <td>42</td>\n",
       "      <td>0</td>\n",
       "      <td>0</td>\n",
       "      <td>0</td>\n",
       "      <td>0</td>\n",
       "      <td>0</td>\n",
       "      <td>0</td>\n",
       "      <td>0</td>\n",
       "      <td>0</td>\n",
       "      <td>...</td>\n",
       "      <td>1</td>\n",
       "      <td>0</td>\n",
       "      <td>0</td>\n",
       "      <td>0</td>\n",
       "      <td>0</td>\n",
       "      <td>0</td>\n",
       "      <td>0</td>\n",
       "      <td>0</td>\n",
       "      <td>0</td>\n",
       "      <td>0</td>\n",
       "    </tr>\n",
       "    <tr>\n",
       "      <td>404</td>\n",
       "      <td>1.055185e+09</td>\n",
       "      <td>532000000</td>\n",
       "      <td>0</td>\n",
       "      <td>0</td>\n",
       "      <td>0</td>\n",
       "      <td>0</td>\n",
       "      <td>0</td>\n",
       "      <td>0</td>\n",
       "      <td>0</td>\n",
       "      <td>0</td>\n",
       "      <td>...</td>\n",
       "      <td>1</td>\n",
       "      <td>0</td>\n",
       "      <td>0</td>\n",
       "      <td>0</td>\n",
       "      <td>0</td>\n",
       "      <td>0</td>\n",
       "      <td>0</td>\n",
       "      <td>0</td>\n",
       "      <td>0</td>\n",
       "      <td>0</td>\n",
       "    </tr>\n",
       "    <tr>\n",
       "      <td>1337</td>\n",
       "      <td>2.927942e+10</td>\n",
       "      <td>314159265359</td>\n",
       "      <td>0</td>\n",
       "      <td>0</td>\n",
       "      <td>0</td>\n",
       "      <td>0</td>\n",
       "      <td>0</td>\n",
       "      <td>0</td>\n",
       "      <td>0</td>\n",
       "      <td>0</td>\n",
       "      <td>...</td>\n",
       "      <td>1</td>\n",
       "      <td>0</td>\n",
       "      <td>0</td>\n",
       "      <td>0</td>\n",
       "      <td>0</td>\n",
       "      <td>0</td>\n",
       "      <td>0</td>\n",
       "      <td>0</td>\n",
       "      <td>0</td>\n",
       "      <td>0</td>\n",
       "    </tr>\n",
       "    <tr>\n",
       "      <td>BTC</td>\n",
       "      <td>1.792718e+07</td>\n",
       "      <td>21000000</td>\n",
       "      <td>0</td>\n",
       "      <td>0</td>\n",
       "      <td>0</td>\n",
       "      <td>0</td>\n",
       "      <td>0</td>\n",
       "      <td>0</td>\n",
       "      <td>0</td>\n",
       "      <td>0</td>\n",
       "      <td>...</td>\n",
       "      <td>0</td>\n",
       "      <td>0</td>\n",
       "      <td>0</td>\n",
       "      <td>0</td>\n",
       "      <td>0</td>\n",
       "      <td>0</td>\n",
       "      <td>0</td>\n",
       "      <td>0</td>\n",
       "      <td>0</td>\n",
       "      <td>0</td>\n",
       "    </tr>\n",
       "    <tr>\n",
       "      <td>ETH</td>\n",
       "      <td>1.076842e+08</td>\n",
       "      <td>0</td>\n",
       "      <td>0</td>\n",
       "      <td>0</td>\n",
       "      <td>0</td>\n",
       "      <td>0</td>\n",
       "      <td>0</td>\n",
       "      <td>0</td>\n",
       "      <td>0</td>\n",
       "      <td>0</td>\n",
       "      <td>...</td>\n",
       "      <td>0</td>\n",
       "      <td>0</td>\n",
       "      <td>0</td>\n",
       "      <td>0</td>\n",
       "      <td>0</td>\n",
       "      <td>0</td>\n",
       "      <td>0</td>\n",
       "      <td>0</td>\n",
       "      <td>0</td>\n",
       "      <td>0</td>\n",
       "    </tr>\n",
       "  </tbody>\n",
       "</table>\n",
       "<p>5 rows × 98 columns</p>\n",
       "</div>"
      ],
      "text/plain": [
       "      TotalCoinsMined TotalCoinSupply  Algorithm_536  Algorithm_Argon2d  \\\n",
       "42       4.199995e+01              42              0                  0   \n",
       "404      1.055185e+09       532000000              0                  0   \n",
       "1337     2.927942e+10    314159265359              0                  0   \n",
       "BTC      1.792718e+07        21000000              0                  0   \n",
       "ETH      1.076842e+08               0              0                  0   \n",
       "\n",
       "      Algorithm_BLAKE256  Algorithm_Blake  Algorithm_Blake2S  \\\n",
       "42                     0                0                  0   \n",
       "404                    0                0                  0   \n",
       "1337                   0                0                  0   \n",
       "BTC                    0                0                  0   \n",
       "ETH                    0                0                  0   \n",
       "\n",
       "      Algorithm_Blake2b  Algorithm_C11  Algorithm_Cloverhash  ...  \\\n",
       "42                    0              0                     0  ...   \n",
       "404                   0              0                     0  ...   \n",
       "1337                  0              0                     0  ...   \n",
       "BTC                   0              0                     0  ...   \n",
       "ETH                   0              0                     0  ...   \n",
       "\n",
       "      ProofType_PoW/PoS  ProofType_PoW/PoS   ProofType_PoW/PoW  \\\n",
       "42                    1                   0                  0   \n",
       "404                   1                   0                  0   \n",
       "1337                  1                   0                  0   \n",
       "BTC                   0                   0                  0   \n",
       "ETH                   0                   0                  0   \n",
       "\n",
       "      ProofType_PoW/nPoS  ProofType_Pos  ProofType_Proof of Authority  \\\n",
       "42                     0              0                             0   \n",
       "404                    0              0                             0   \n",
       "1337                   0              0                             0   \n",
       "BTC                    0              0                             0   \n",
       "ETH                    0              0                             0   \n",
       "\n",
       "      ProofType_Proof of Trust  ProofType_TPoS  \\\n",
       "42                           0               0   \n",
       "404                          0               0   \n",
       "1337                         0               0   \n",
       "BTC                          0               0   \n",
       "ETH                          0               0   \n",
       "\n",
       "      ProofType_Zero-Knowledge Proof  ProofType_dPoW/PoW  \n",
       "42                                 0                   0  \n",
       "404                                0                   0  \n",
       "1337                               0                   0  \n",
       "BTC                                0                   0  \n",
       "ETH                                0                   0  \n",
       "\n",
       "[5 rows x 98 columns]"
      ]
     },
     "execution_count": 56,
     "metadata": {},
     "output_type": "execute_result"
    }
   ],
   "source": [
    "# Create dummies variables for text features\n",
    "crypto_df_enc = crypto_df.copy()\n",
    "\n",
    "crypto_df_enc = pd.get_dummies(\n",
    "    crypto_df_enc, \n",
    "    columns=['Algorithm', 'ProofType'],\n",
    "    drop_first=True\n",
    ")\n",
    "\n",
    "crypto_df_enc.head()"
   ]
  },
  {
   "cell_type": "code",
   "execution_count": 57,
   "metadata": {},
   "outputs": [],
   "source": [
    "# Standardize data\n",
    "crypto_df_enc_scaled = StandardScaler().fit_transform(crypto_df_enc)"
   ]
  },
  {
   "cell_type": "markdown",
   "metadata": {},
   "source": [
    "### Reducing Dimensions Using PCA"
   ]
  },
  {
   "cell_type": "code",
   "execution_count": 58,
   "metadata": {},
   "outputs": [],
   "source": [
    "# Use PCA to reduce dimension to 3 principal components\n",
    "pca = PCA(n_components=3)\n",
    "\n",
    "crypto_pca = pca.fit_transform(crypto_df_enc_scaled)"
   ]
  },
  {
   "cell_type": "code",
   "execution_count": 59,
   "metadata": {},
   "outputs": [
    {
     "data": {
      "text/html": [
       "<div>\n",
       "<style scoped>\n",
       "    .dataframe tbody tr th:only-of-type {\n",
       "        vertical-align: middle;\n",
       "    }\n",
       "\n",
       "    .dataframe tbody tr th {\n",
       "        vertical-align: top;\n",
       "    }\n",
       "\n",
       "    .dataframe thead th {\n",
       "        text-align: right;\n",
       "    }\n",
       "</style>\n",
       "<table border=\"1\" class=\"dataframe\">\n",
       "  <thead>\n",
       "    <tr style=\"text-align: right;\">\n",
       "      <th></th>\n",
       "      <th>PC1</th>\n",
       "      <th>PC2</th>\n",
       "      <th>PC3</th>\n",
       "    </tr>\n",
       "  </thead>\n",
       "  <tbody>\n",
       "    <tr>\n",
       "      <td>42</td>\n",
       "      <td>-0.332707</td>\n",
       "      <td>1.024059</td>\n",
       "      <td>-0.559119</td>\n",
       "    </tr>\n",
       "    <tr>\n",
       "      <td>404</td>\n",
       "      <td>-0.316030</td>\n",
       "      <td>1.024383</td>\n",
       "      <td>-0.559464</td>\n",
       "    </tr>\n",
       "    <tr>\n",
       "      <td>1337</td>\n",
       "      <td>2.306147</td>\n",
       "      <td>1.749053</td>\n",
       "      <td>-0.589397</td>\n",
       "    </tr>\n",
       "    <tr>\n",
       "      <td>BTC</td>\n",
       "      <td>-0.146876</td>\n",
       "      <td>-1.301096</td>\n",
       "      <td>0.220228</td>\n",
       "    </tr>\n",
       "    <tr>\n",
       "      <td>ETH</td>\n",
       "      <td>-0.149676</td>\n",
       "      <td>-2.045098</td>\n",
       "      <td>0.378727</td>\n",
       "    </tr>\n",
       "  </tbody>\n",
       "</table>\n",
       "</div>"
      ],
      "text/plain": [
       "           PC1       PC2       PC3\n",
       "42   -0.332707  1.024059 -0.559119\n",
       "404  -0.316030  1.024383 -0.559464\n",
       "1337  2.306147  1.749053 -0.589397\n",
       "BTC  -0.146876 -1.301096  0.220228\n",
       "ETH  -0.149676 -2.045098  0.378727"
      ]
     },
     "execution_count": 59,
     "metadata": {},
     "output_type": "execute_result"
    }
   ],
   "source": [
    "# Create a DataFrame with the principal components data\n",
    "crypto_pca_df = pd.DataFrame(\n",
    "    data=crypto_pca, \n",
    "    columns=[\"PC1\", \"PC2\", \"PC3\"],\n",
    "    index=crypto_df.index\n",
    ")\n",
    "\n",
    "crypto_pca_df.head()"
   ]
  },
  {
   "cell_type": "markdown",
   "metadata": {},
   "source": [
    "### Clustering Crytocurrencies Using K-Means\n",
    "\n",
    "#### Find the Best Value for `k` Using the Elbow Curve"
   ]
  },
  {
   "cell_type": "code",
   "execution_count": 61,
   "metadata": {},
   "outputs": [
    {
     "data": {
      "text/plain": [
       "<matplotlib.axes._subplots.AxesSubplot at 0x1a2156c990>"
      ]
     },
     "execution_count": 61,
     "metadata": {},
     "output_type": "execute_result"
    },
    {
     "data": {
      "image/png": "[encoded data removed]",
      "text/plain": [
       "<Figure size 432x288 with 1 Axes>"
      ]
     },
     "metadata": {
      "needs_background": "light"
     },
     "output_type": "display_data"
    }
   ],
   "source": [
    "inertia = []\n",
    "list_k = list(range(1, 11))\n",
    "\n",
    "# Calculate the inertia for the range ok k values\n",
    "for k in list_k:\n",
    "    km = KMeans(n_clusters=k)\n",
    "    km.fit(crypto_pca_df)\n",
    "    inertia.append(km.inertia_)\n",
    "\n",
    "# Create the Elbow Curve using hvPlot\n",
    "elbow_data = {\"k\": list_k, \"inertia\": inertia}\n",
    "\n",
    "df_elbow = pd.DataFrame(elbow_data)\n",
    "\n",
    "df_elbow.plot.line(x=\"k\", y=\"inertia\", xticks=list_k, title=\"Elbow Curve\")"
   ]
  },
  {
   "cell_type": "markdown",
   "metadata": {},
   "source": [
    "Running K-Means with `k=4`"
   ]
  },
  {
   "cell_type": "code",
   "execution_count": 64,
   "metadata": {},
   "outputs": [],
   "source": [
    "# Initialize the K-Means model\n",
    "model = KMeans(\n",
    "    n_clusters=4,\n",
    "    random_state=42\n",
    ")\n",
    "\n",
    "# Fit the model\n",
    "model.fit(crypto_pca_df)\n",
    "# Predict clusters\n",
    "predictions = model.predict(crypto_pca_df)\n",
    "\n",
    "# Add clusters column\n",
    "crypto_pca_df[\"cluster\"] = model.labels_"
   ]
  },
  {
   "cell_type": "code",
   "execution_count": 67,
   "metadata": {},
   "outputs": [
    {
     "data": {
      "text/html": [
       "<div>\n",
       "<style scoped>\n",
       "    .dataframe tbody tr th:only-of-type {\n",
       "        vertical-align: middle;\n",
       "    }\n",
       "\n",
       "    .dataframe tbody tr th {\n",
       "        vertical-align: top;\n",
       "    }\n",
       "\n",
       "    .dataframe thead th {\n",
       "        text-align: right;\n",
       "    }\n",
       "</style>\n",
       "<table border=\"1\" class=\"dataframe\">\n",
       "  <thead>\n",
       "    <tr style=\"text-align: right;\">\n",
       "      <th></th>\n",
       "      <th>Algorithm</th>\n",
       "      <th>ProofType</th>\n",
       "      <th>TotalCoinsMined</th>\n",
       "      <th>TotalCoinSupply</th>\n",
       "      <th>PC1</th>\n",
       "      <th>PC2</th>\n",
       "      <th>PC3</th>\n",
       "      <th>cluster</th>\n",
       "    </tr>\n",
       "  </thead>\n",
       "  <tbody>\n",
       "    <tr>\n",
       "      <td>42</td>\n",
       "      <td>Scrypt</td>\n",
       "      <td>PoW/PoS</td>\n",
       "      <td>4.199995e+01</td>\n",
       "      <td>42</td>\n",
       "      <td>-0.332707</td>\n",
       "      <td>1.024059</td>\n",
       "      <td>-0.559119</td>\n",
       "      <td>1</td>\n",
       "    </tr>\n",
       "    <tr>\n",
       "      <td>404</td>\n",
       "      <td>Scrypt</td>\n",
       "      <td>PoW/PoS</td>\n",
       "      <td>1.055185e+09</td>\n",
       "      <td>532000000</td>\n",
       "      <td>-0.316030</td>\n",
       "      <td>1.024383</td>\n",
       "      <td>-0.559464</td>\n",
       "      <td>1</td>\n",
       "    </tr>\n",
       "    <tr>\n",
       "      <td>1337</td>\n",
       "      <td>X13</td>\n",
       "      <td>PoW/PoS</td>\n",
       "      <td>2.927942e+10</td>\n",
       "      <td>314159265359</td>\n",
       "      <td>2.306147</td>\n",
       "      <td>1.749053</td>\n",
       "      <td>-0.589397</td>\n",
       "      <td>1</td>\n",
       "    </tr>\n",
       "    <tr>\n",
       "      <td>BTC</td>\n",
       "      <td>SHA-256</td>\n",
       "      <td>PoW</td>\n",
       "      <td>1.792718e+07</td>\n",
       "      <td>21000000</td>\n",
       "      <td>-0.146876</td>\n",
       "      <td>-1.301096</td>\n",
       "      <td>0.220228</td>\n",
       "      <td>0</td>\n",
       "    </tr>\n",
       "    <tr>\n",
       "      <td>ETH</td>\n",
       "      <td>Ethash</td>\n",
       "      <td>PoW</td>\n",
       "      <td>1.076842e+08</td>\n",
       "      <td>0</td>\n",
       "      <td>-0.149676</td>\n",
       "      <td>-2.045098</td>\n",
       "      <td>0.378727</td>\n",
       "      <td>0</td>\n",
       "    </tr>\n",
       "  </tbody>\n",
       "</table>\n",
       "</div>"
      ],
      "text/plain": [
       "     Algorithm ProofType  TotalCoinsMined TotalCoinSupply       PC1       PC2  \\\n",
       "42      Scrypt   PoW/PoS     4.199995e+01              42 -0.332707  1.024059   \n",
       "404     Scrypt   PoW/PoS     1.055185e+09       532000000 -0.316030  1.024383   \n",
       "1337       X13   PoW/PoS     2.927942e+10    314159265359  2.306147  1.749053   \n",
       "BTC    SHA-256       PoW     1.792718e+07        21000000 -0.146876 -1.301096   \n",
       "ETH     Ethash       PoW     1.076842e+08               0 -0.149676 -2.045098   \n",
       "\n",
       "           PC3  cluster  \n",
       "42   -0.559119        1  \n",
       "404  -0.559464        1  \n",
       "1337 -0.589397        1  \n",
       "BTC   0.220228        0  \n",
       "ETH   0.378727        0  "
      ]
     },
     "execution_count": 67,
     "metadata": {},
     "output_type": "execute_result"
    }
   ],
   "source": [
    "# Create a new DataFrame including predicted clusters and cryptocurrencies feature\n",
    "crypto_cluster_df = pd.concat([crypto_df, crypto_pca_df], axis = 1)\n",
    "\n",
    "crypto_cluster_df.head()"
   ]
  },
  {
   "cell_type": "markdown",
   "metadata": {},
   "source": [
    "### Visualizing Results\n",
    "\n",
    "#### 3D-Scatter with Clusters"
   ]
  },
  {
   "cell_type": "code",
   "execution_count": 72,
   "metadata": {},
   "outputs": [
    {
     "data": {
      "application/vnd.plotly.v1+json": {
       "config": {
        "plotlyServerURL": "https://plot.ly"
       },
       "data": [
        {
         "customdata": [
          [
           "Scrypt"
          ],
          [
           "Scrypt"
          ],
          [
           "X13"
          ],
          [
           "SHA-256"
          ],
          [
           "Ethash"
          ],
          [
           "Scrypt"
          ],
          [
           "X11"
          ],
          [
           "CryptoNight-V7"
          ],
          [
           "Ethash"
          ],
          [
           "Equihash"
          ],
          [
           "SHA-512"
          ],
          [
           "Multiple"
          ],
          [
           "SHA-256"
          ],
          [
           "SHA-256"
          ],
          [
           "Scrypt"
          ],
          [
           "X15"
          ],
          [
           "X11"
          ],
          [
           "Scrypt"
          ],
          [
           "Scrypt"
          ],
          [
           "Scrypt"
          ],
          [
           "Multiple"
          ],
          [
           "Scrypt"
          ],
          [
           "SHA-256"
          ],
          [
           "Scrypt"
          ],
          [
           "Scrypt"
          ],
          [
           "Scrypt"
          ],
          [
           "Quark"
          ],
          [
           "Groestl"
          ],
          [
           "Scrypt"
          ],
          [
           "Scrypt"
          ],
          [
           "Scrypt"
          ],
          [
           "Scrypt"
          ],
          [
           "Scrypt"
          ],
          [
           "X11"
          ],
          [
           "Scrypt"
          ],
          [
           "Groestl"
          ],
          [
           "Multiple"
          ],
          [
           "SHA-256"
          ],
          [
           "Scrypt"
          ],
          [
           "Scrypt"
          ],
          [
           "Scrypt"
          ],
          [
           "Scrypt"
          ],
          [
           "PoS"
          ],
          [
           "Scrypt"
          ],
          [
           "Scrypt"
          ],
          [
           "NeoScrypt"
          ],
          [
           "Scrypt"
          ],
          [
           "Scrypt"
          ],
          [
           "Scrypt"
          ],
          [
           "Scrypt"
          ],
          [
           "X11"
          ],
          [
           "Scrypt"
          ],
          [
           "X11"
          ],
          [
           "SHA-256"
          ],
          [
           "Scrypt"
          ],
          [
           "Scrypt"
          ],
          [
           "Scrypt"
          ],
          [
           "SHA3"
          ],
          [
           "Scrypt"
          ],
          [
           "HybridScryptHash256"
          ],
          [
           "Scrypt"
          ],
          [
           "Scrypt"
          ],
          [
           "SHA-256"
          ],
          [
           "Scrypt"
          ],
          [
           "X13"
          ],
          [
           "Scrypt"
          ],
          [
           "SHA-256"
          ],
          [
           "Scrypt"
          ],
          [
           "X13"
          ],
          [
           "NeoScrypt"
          ],
          [
           "Scrypt"
          ],
          [
           "Scrypt"
          ],
          [
           "Scrypt"
          ],
          [
           "Scrypt"
          ],
          [
           "Scrypt"
          ],
          [
           "Scrypt"
          ],
          [
           "X11"
          ],
          [
           "X11"
          ],
          [
           "SHA-256"
          ],
          [
           "Multiple"
          ],
          [
           "SHA-256"
          ],
          [
           "PHI1612"
          ],
          [
           "X11"
          ],
          [
           "SHA-256"
          ],
          [
           "SHA-256"
          ],
          [
           "SHA-256"
          ],
          [
           "X11"
          ],
          [
           "Scrypt"
          ],
          [
           "Scrypt"
          ],
          [
           "Scrypt"
          ],
          [
           "Scrypt"
          ],
          [
           "Lyra2REv2"
          ],
          [
           "Scrypt"
          ],
          [
           "X11"
          ],
          [
           "Multiple"
          ],
          [
           "SHA-256"
          ],
          [
           "X13"
          ],
          [
           "Scrypt"
          ],
          [
           "CryptoNight"
          ],
          [
           "CryptoNight"
          ],
          [
           "Shabal256"
          ],
          [
           "Counterparty"
          ],
          [
           "Scrypt"
          ],
          [
           "SHA-256"
          ],
          [
           "Groestl"
          ],
          [
           "Scrypt"
          ],
          [
           "Scrypt"
          ],
          [
           "Scrypt"
          ],
          [
           "X13"
          ],
          [
           "Scrypt"
          ],
          [
           "Scrypt"
          ],
          [
           "Scrypt"
          ],
          [
           "Scrypt"
          ],
          [
           "X13"
          ],
          [
           "Scrypt"
          ],
          [
           "Stanford Folding"
          ],
          [
           "X11"
          ],
          [
           "Multiple"
          ],
          [
           "QuBit"
          ],
          [
           "Scrypt"
          ],
          [
           "Scrypt"
          ],
          [
           "Scrypt"
          ],
          [
           "M7 POW"
          ],
          [
           "Scrypt"
          ],
          [
           "SHA-256"
          ],
          [
           "Scrypt"
          ],
          [
           "X11"
          ],
          [
           "SHA3"
          ],
          [
           "X11"
          ],
          [
           "Lyra2RE"
          ],
          [
           "SHA-256"
          ],
          [
           "QUAIT"
          ],
          [
           "X11"
          ],
          [
           "X11"
          ],
          [
           "Scrypt"
          ],
          [
           "Scrypt"
          ],
          [
           "Scrypt"
          ],
          [
           "Ethash"
          ],
          [
           "X13"
          ],
          [
           "Blake2b"
          ],
          [
           "SHA-256"
          ],
          [
           "X15"
          ],
          [
           "X11"
          ],
          [
           "SHA-256"
          ],
          [
           "BLAKE256"
          ],
          [
           "Scrypt"
          ],
          [
           "1GB AES Pattern Search"
          ],
          [
           "SHA-256"
          ],
          [
           "X11"
          ],
          [
           "Scrypt"
          ],
          [
           "SHA-256"
          ],
          [
           "SHA-256"
          ],
          [
           "NIST5"
          ],
          [
           "Scrypt"
          ],
          [
           "Scrypt"
          ],
          [
           "X11"
          ],
          [
           "Dagger"
          ],
          [
           "Scrypt"
          ],
          [
           "X11GOST"
          ],
          [
           "X11"
          ],
          [
           "Scrypt"
          ],
          [
           "SHA-256"
          ],
          [
           "Scrypt"
          ],
          [
           "PoS"
          ],
          [
           "Scrypt"
          ],
          [
           "X11"
          ],
          [
           "X11"
          ],
          [
           "SHA-256"
          ],
          [
           "SHA-256"
          ],
          [
           "NIST5"
          ],
          [
           "X11"
          ],
          [
           "Scrypt"
          ],
          [
           "POS 3.0"
          ],
          [
           "Scrypt"
          ],
          [
           "Scrypt"
          ],
          [
           "Scrypt"
          ],
          [
           "X13"
          ],
          [
           "X11"
          ],
          [
           "X11"
          ],
          [
           "Equihash"
          ],
          [
           "X11"
          ],
          [
           "Scrypt"
          ],
          [
           "CryptoNight"
          ],
          [
           "SHA-256"
          ],
          [
           "SHA-256"
          ],
          [
           "X11"
          ],
          [
           "Scrypt"
          ],
          [
           "Multiple"
          ],
          [
           "Scrypt"
          ],
          [
           "Scrypt"
          ],
          [
           "Scrypt"
          ],
          [
           "SHA-256"
          ],
          [
           "Scrypt"
          ],
          [
           "Scrypt"
          ],
          [
           "SHA-256D"
          ],
          [
           "PoS"
          ],
          [
           "Scrypt"
          ],
          [
           "X11"
          ],
          [
           "Lyra2Z"
          ],
          [
           "PoS"
          ],
          [
           "X13"
          ],
          [
           "X14"
          ],
          [
           "PoS"
          ],
          [
           "SHA-256D"
          ],
          [
           "Ethash"
          ],
          [
           "Equihash"
          ],
          [
           "DPoS"
          ],
          [
           "X11"
          ],
          [
           "Scrypt"
          ],
          [
           "X11"
          ],
          [
           "X13"
          ],
          [
           "X11"
          ],
          [
           "PoS"
          ],
          [
           "Scrypt"
          ],
          [
           "Scrypt"
          ],
          [
           "X11"
          ],
          [
           "PoS"
          ],
          [
           "X11"
          ],
          [
           "SHA-256"
          ],
          [
           "Scrypt"
          ],
          [
           "X11"
          ],
          [
           "Scrypt"
          ],
          [
           "Scrypt"
          ],
          [
           "X11"
          ],
          [
           "CryptoNight"
          ],
          [
           "Scrypt"
          ],
          [
           "Scrypt"
          ],
          [
           "Scrypt"
          ],
          [
           "Scrypt"
          ],
          [
           "Quark"
          ],
          [
           "QuBit"
          ],
          [
           "Scrypt"
          ],
          [
           "CryptoNight"
          ],
          [
           "Lyra2RE"
          ],
          [
           "Scrypt"
          ],
          [
           "SHA-256"
          ],
          [
           "X11"
          ],
          [
           "Scrypt"
          ],
          [
           "X11"
          ],
          [
           "Scrypt"
          ],
          [
           "CryptoNight-V7"
          ],
          [
           "Scrypt"
          ],
          [
           "Scrypt"
          ],
          [
           "Scrypt"
          ],
          [
           "X13"
          ],
          [
           "X11"
          ],
          [
           "Equihash"
          ],
          [
           "Scrypt"
          ],
          [
           "Scrypt"
          ],
          [
           "Lyra2RE"
          ],
          [
           "Scrypt"
          ],
          [
           "Dagger-Hashimoto"
          ],
          [
           "X11"
          ],
          [
           "Blake2S"
          ],
          [
           "X11"
          ],
          [
           "Scrypt"
          ],
          [
           "PoS"
          ],
          [
           "X11"
          ],
          [
           "NIST5"
          ],
          [
           "PoS"
          ],
          [
           "X11"
          ],
          [
           "Scrypt"
          ],
          [
           "Scrypt"
          ],
          [
           "Scrypt"
          ],
          [
           "SHA-256"
          ],
          [
           "X11"
          ],
          [
           "Scrypt"
          ],
          [
           "Scrypt"
          ],
          [
           "SHA-256"
          ],
          [
           "PoS"
          ],
          [
           "Scrypt"
          ],
          [
           "X15"
          ],
          [
           "SHA-256"
          ],
          [
           "Scrypt"
          ],
          [
           "POS 3.0"
          ],
          [
           "CryptoNight-V7"
          ],
          [
           "536"
          ],
          [
           "Argon2d"
          ],
          [
           "Blake2b"
          ],
          [
           "Cloverhash"
          ],
          [
           "CryptoNight"
          ],
          [
           "NIST5"
          ],
          [
           "X11"
          ],
          [
           "NIST5"
          ],
          [
           "Skein"
          ],
          [
           "Scrypt"
          ],
          [
           "X13"
          ],
          [
           "Scrypt"
          ],
          [
           "X11"
          ],
          [
           "X11"
          ],
          [
           "Scrypt"
          ],
          [
           "CryptoNight"
          ],
          [
           "X13"
          ],
          [
           "Time Travel"
          ],
          [
           "Scrypt"
          ],
          [
           "Keccak"
          ],
          [
           "SkunkHash v2 Raptor"
          ],
          [
           "X11"
          ],
          [
           "Skein"
          ],
          [
           "SHA-256"
          ],
          [
           "X11"
          ],
          [
           "Scrypt"
          ],
          [
           "VeChainThor Authority"
          ],
          [
           "Scrypt"
          ],
          [
           "PoS"
          ],
          [
           "Scrypt"
          ],
          [
           "Scrypt"
          ],
          [
           "Scrypt"
          ],
          [
           "Scrypt"
          ],
          [
           "Scrypt"
          ],
          [
           "Scrypt"
          ],
          [
           "Scrypt"
          ],
          [
           "CryptoNight"
          ],
          [
           "SHA-512"
          ],
          [
           "Ouroboros"
          ],
          [
           "X11"
          ],
          [
           "Equihash"
          ],
          [
           "NeoScrypt"
          ],
          [
           "X11"
          ],
          [
           "Scrypt"
          ],
          [
           "NeoScrypt"
          ],
          [
           "Lyra2REv2"
          ],
          [
           "Equihash"
          ],
          [
           "Scrypt"
          ],
          [
           "SHA-256"
          ],
          [
           "NIST5"
          ],
          [
           "PHI1612"
          ],
          [
           "Dagger"
          ],
          [
           "Scrypt"
          ],
          [
           "Quark"
          ],
          [
           "Scrypt"
          ],
          [
           "POS 2.0"
          ],
          [
           "Scrypt"
          ],
          [
           "SHA-256"
          ],
          [
           "X11"
          ],
          [
           "NeoScrypt"
          ],
          [
           "Ethash"
          ],
          [
           "NeoScrypt"
          ],
          [
           "X11"
          ],
          [
           "DPoS"
          ],
          [
           "NIST5"
          ],
          [
           "X13"
          ],
          [
           "Multiple"
          ],
          [
           "Scrypt"
          ],
          [
           "CryptoNight"
          ],
          [
           "CryptoNight"
          ],
          [
           "Ethash"
          ],
          [
           "NIST5"
          ],
          [
           "Quark"
          ],
          [
           "X11"
          ],
          [
           "CryptoNight-V7"
          ],
          [
           "Scrypt"
          ],
          [
           "Scrypt"
          ],
          [
           "Scrypt"
          ],
          [
           "X11"
          ],
          [
           "BLAKE256"
          ],
          [
           "X11"
          ],
          [
           "NeoScrypt"
          ],
          [
           "Quark"
          ],
          [
           "NeoScrypt"
          ],
          [
           "Scrypt"
          ],
          [
           "Scrypt"
          ],
          [
           "Scrypt"
          ],
          [
           "X11"
          ],
          [
           "X11"
          ],
          [
           "SHA-256"
          ],
          [
           "C11"
          ],
          [
           "POS 3.0"
          ],
          [
           "Ethash"
          ],
          [
           "Scrypt"
          ],
          [
           "CryptoNight"
          ],
          [
           "SkunkHash"
          ],
          [
           "Scrypt"
          ],
          [
           "CryptoNight"
          ],
          [
           "Scrypt"
          ],
          [
           "Dagger"
          ],
          [
           "Lyra2REv2"
          ],
          [
           "X13"
          ],
          [
           "Proof-of-BibleHash"
          ],
          [
           "SHA-256 + Hive"
          ],
          [
           "Scrypt"
          ],
          [
           "Scrypt"
          ],
          [
           "X11"
          ],
          [
           "C11"
          ],
          [
           "Proof-of-Authority"
          ],
          [
           "X11"
          ],
          [
           "XEVAN"
          ],
          [
           "Scrypt"
          ],
          [
           "VBFT"
          ],
          [
           "Ethash"
          ],
          [
           "CryptoNight"
          ],
          [
           "Scrypt"
          ],
          [
           "IMesh"
          ],
          [
           "NIST5"
          ],
          [
           "Scrypt"
          ],
          [
           "Scrypt"
          ],
          [
           "Equihash"
          ],
          [
           "Scrypt"
          ],
          [
           "Lyra2Z"
          ],
          [
           "Green Protocol"
          ],
          [
           "PoS"
          ],
          [
           "Scrypt"
          ],
          [
           "Semux BFT consensus"
          ],
          [
           "X11"
          ],
          [
           "Quark"
          ],
          [
           "PoS"
          ],
          [
           "CryptoNight"
          ],
          [
           "X16R"
          ],
          [
           "Scrypt"
          ],
          [
           "NIST5"
          ],
          [
           "Lyra2RE"
          ],
          [
           "XEVAN"
          ],
          [
           "Tribus"
          ],
          [
           "Scrypt"
          ],
          [
           "Lyra2Z"
          ],
          [
           "CryptoNight"
          ],
          [
           "CryptoNight Heavy"
          ],
          [
           "CryptoNight"
          ],
          [
           "Scrypt"
          ],
          [
           "Scrypt"
          ],
          [
           "Jump Consistent Hash"
          ],
          [
           "SHA-256D"
          ],
          [
           "CryptoNight"
          ],
          [
           "Scrypt"
          ],
          [
           "X15"
          ],
          [
           "Scrypt"
          ],
          [
           "Quark"
          ],
          [
           "SHA-256"
          ],
          [
           "DPoS"
          ],
          [
           "X16R"
          ],
          [
           "HMQ1725"
          ],
          [
           "X11"
          ],
          [
           "X16R"
          ],
          [
           "Quark"
          ],
          [
           "Quark"
          ],
          [
           "Scrypt"
          ],
          [
           "Lyra2REv2"
          ],
          [
           "Quark"
          ],
          [
           "Scrypt"
          ],
          [
           "Scrypt"
          ],
          [
           "CryptoNight-V7"
          ],
          [
           "Cryptonight-GPU"
          ],
          [
           "XEVAN"
          ],
          [
           "CryptoNight Heavy"
          ],
          [
           "X11"
          ],
          [
           "X11"
          ],
          [
           "Scrypt"
          ],
          [
           "PoS"
          ],
          [
           "SHA-256"
          ],
          [
           "Keccak"
          ],
          [
           "X11"
          ],
          [
           "X11"
          ],
          [
           "Scrypt"
          ],
          [
           "SHA-512"
          ],
          [
           "X16R"
          ],
          [
           "ECC 256K1"
          ],
          [
           "Equihash"
          ],
          [
           "XEVAN"
          ],
          [
           "Lyra2Z"
          ],
          [
           "SHA-256"
          ],
          [
           "XEVAN"
          ],
          [
           "X11"
          ],
          [
           "CryptoNight"
          ],
          [
           "Quark"
          ],
          [
           "Blake"
          ],
          [
           "Blake"
          ],
          [
           "Equihash"
          ],
          [
           "Exosis"
          ],
          [
           "Scrypt"
          ],
          [
           "Scrypt"
          ],
          [
           "Equihash"
          ],
          [
           "Quark"
          ],
          [
           "Equihash"
          ],
          [
           "Quark"
          ],
          [
           "Scrypt"
          ],
          [
           "QuBit"
          ],
          [
           "X11"
          ],
          [
           "Scrypt"
          ],
          [
           "XEVAN"
          ],
          [
           "SHA-256D"
          ],
          [
           "X11"
          ],
          [
           "SHA-256"
          ],
          [
           "X13"
          ],
          [
           "SHA-256"
          ],
          [
           "X11"
          ],
          [
           "DPoS"
          ],
          [
           "Scrypt"
          ],
          [
           "Scrypt"
          ],
          [
           "X11"
          ],
          [
           "NeoScrypt"
          ],
          [
           "Scrypt"
          ],
          [
           "Blake"
          ],
          [
           "Scrypt"
          ],
          [
           "SHA-256"
          ],
          [
           "Scrypt"
          ],
          [
           "X11"
          ],
          [
           "Scrypt"
          ],
          [
           "Scrypt"
          ],
          [
           "SHA-256"
          ],
          [
           "X11"
          ],
          [
           "SHA-256"
          ],
          [
           "Scrypt"
          ],
          [
           "Scrypt"
          ],
          [
           "Scrypt"
          ],
          [
           "Groestl"
          ],
          [
           "X11"
          ],
          [
           "Scrypt"
          ],
          [
           "PoS"
          ],
          [
           "Scrypt"
          ],
          [
           "Scrypt"
          ],
          [
           "X11"
          ],
          [
           "SHA-256"
          ],
          [
           "DPoS"
          ],
          [
           "Scrypt"
          ],
          [
           "Scrypt"
          ],
          [
           "NeoScrypt"
          ],
          [
           "SHA3-256"
          ],
          [
           "Multiple"
          ],
          [
           "X13"
          ],
          [
           "Equihash+Scrypt"
          ],
          [
           "DPoS"
          ],
          [
           "Ethash"
          ],
          [
           "DPoS"
          ],
          [
           "SHA-256"
          ],
          [
           "Leased POS"
          ],
          [
           "PoS"
          ],
          [
           "TRC10"
          ],
          [
           "PoS"
          ],
          [
           "SHA-256"
          ],
          [
           "Scrypt"
          ],
          [
           "CryptoNight"
          ],
          [
           "Equihash"
          ],
          [
           "Scrypt"
          ]
         ],
         "hovertemplate": "<b>%{hovertext}</b><br><br>PC3=%{x}<br>PC2=%{y}<br>PC1=%{z}<br>Algorithm=%{customdata[0]}<extra></extra>",
         "hovertext": [
          "42 Coin",
          "404Coin",
          "EliteCoin",
          "Bitcoin",
          "Ethereum",
          "Litecoin",
          "Dash",
          "Monero",
          "Ethereum Classic",
          "ZCash",
          "Bitshares",
          "DigiByte",
          "BitcoinDark",
          "PayCoin",
          "ProsperCoin",
          "KoboCoin",
          "Spreadcoin",
          "Argentum",
          "Aurora Coin",
          "BlueCoin",
          "MyriadCoin",
          "MoonCoin",
          "ZetaCoin",
          "SexCoin",
          "Quatloo",
          "EnergyCoin",
          "QuarkCoin",
          "Riecoin",
          "Digitalcoin ",
          "BitBar",
          "Catcoin",
          "CryptoBullion",
          "CannaCoin",
          "CryptCoin",
          "CasinoCoin",
          "Diamond",
          "Verge",
          "DevCoin",
          "EarthCoin",
          "E-Gulden",
          "Einsteinium",
          "Emerald",
          "Exclusive Coin",
          "FlutterCoin",
          "Franko",
          "FeatherCoin",
          "GrandCoin",
          "GlobalCoin",
          "GoldCoin",
          "HoboNickels",
          "HyperStake",
          "Infinite Coin",
          "IOCoin",
          "IXcoin",
          "KrugerCoin",
          "LuckyCoin",
          "Litebar ",
          "MaxCoin",
          "MegaCoin",
          "MediterraneanCoin",
          "MintCoin",
          "MinCoin",
          "MazaCoin",
          "Nautilus Coin",
          "NavCoin",
          "NobleCoin",
          "Namecoin",
          "NyanCoin",
          "OpalCoin",
          "Orbitcoin",
          "PotCoin",
          "PhoenixCoin",
          "Reddcoin",
          "RonPaulCoin",
          "StableCoin",
          "SmartCoin",
          "SuperCoin",
          "SyncCoin",
          "SysCoin",
          "TeslaCoin",
          "TigerCoin",
          "TittieCoin",
          "TorCoin",
          "TerraCoin",
          "UnbreakableCoin",
          "Unobtanium",
          "UroCoin",
          "UnitaryStatus Dollar",
          "UltraCoin",
          "ViaCoin",
          "VeriCoin",
          "Vertcoin",
          "WorldCoin",
          "X11 Coin",
          "Crypti",
          "JouleCoin",
          "StealthCoin",
          "ZCC Coin",
          "ByteCoin",
          "DigitalNote ",
          "BurstCoin",
          "StorjCoin",
          "MonaCoin",
          "Neutron",
          "FairCoin",
          "Gulden",
          "RubyCoin",
          "PesetaCoin",
          "Kore",
          "Wild Beast Coin",
          "Dnotes",
          "Flo",
          "8BIT Coin",
          "Sativa Coin",
          "ArtByte",
          "Folding Coin",
          "Ucoin",
          "Unitus",
          "CypherPunkCoin",
          "OmniCron",
          "Vtorrent",
          "GreenCoin",
          "Cryptonite",
          "MasterCoin",
          "SoonCoin",
          "1Credit",
          "IslaCoin",
          "Nexus",
          "MarsCoin ",
          "Crypto",
          "Anarchists Prime",
          "Droidz",
          "BowsCoin",
          "Squall Coin",
          "Song Coin",
          "BitZeny",
          "Diggits",
          "Expanse",
          "Paycon",
          "Siacoin",
          "Emercoin",
          "EverGreenCoin",
          "MindCoin",
          "I0coin",
          "Decred",
          "Revolution VR",
          "HOdlcoin",
          "EDRCoin",
          "Hitcoin",
          "Gamecredits",
          "DubaiCoin",
          "CarpeDiemCoin",
          "PWR Coin",
          "BillaryCoin",
          "GPU Coin",
          "Adzcoin",
          "SoilCoin",
          "YoCoin",
          "SibCoin",
          "EuropeCoin",
          "ZeitCoin",
          "SwingCoin",
          "SafeExchangeCoin",
          "Nebuchadnezzar",
          "Francs",
          "BolivarCoin",
          "Ratecoin",
          "Revenu",
          "Clockcoin",
          "VIP Tokens",
          "BitSend",
          "Omni",
          "Let it Ride",
          "PutinCoin",
          "iBankCoin",
          "Frankywillcoin",
          "MudraCoin",
          "PizzaCoin",
          "Lutetium Coin",
          "Komodo",
          "GoldBlocks",
          "CarterCoin",
          "Karbo",
          "BitTokens",
          "ZayedCoin",
          "MustangCoin",
          "ZoneCoin",
          "Circuits of Value",
          "RootCoin",
          "DopeCoin",
          "BitCurrency",
          "DollarCoin",
          "Swiscoin",
          "Shilling",
          "BuzzCoin",
          "Opair",
          "PesoBit",
          "Halloween Coin",
          "ZCoin",
          "CoffeeCoin",
          "RoyalCoin",
          "GanjaCoin V2",
          "TeamUP",
          "LanaCoin",
          "Elementrem",
          "ZClassic",
          "ARK",
          "InsaneCoin",
          "KiloCoin",
          "ArtexCoin",
          "EmberCoin",
          "XenixCoin",
          "FreeCoin",
          "PLNCoin",
          "AquariusCoin",
          "Kurrent",
          "Creatio",
          "Eternity",
          "Eurocoin",
          "BitcoinFast",
          "Stakenet",
          "BitConnect Coin",
          "MoneyCoin",
          "Enigma",
          "Cannabis Industry Coin",
          "Russiacoin",
          "PandaCoin",
          "GameUnits",
          "GAKHcoin",
          "Allsafe",
          "LiteCreed",
          "OsmiumCoin",
          "Bikercoins",
          "HexxCoin",
          "Klingon Empire Darsek",
          "Internet of People",
          "KushCoin",
          "Printerium",
          "PacCoin",
          "Impeach",
          "Citadel",
          "Zilbercoin",
          "FirstCoin",
          "BeaverCoin",
          "FindCoin",
          "VaultCoin",
          "Zero",
          "OpenChat",
          "Canada eCoin",
          "Zoin",
          "RenosCoin",
          "DubaiCoin",
          "VirtacoinPlus",
          "TajCoin",
          "Impact",
          "EB3coin",
          "Atmos",
          "HappyCoin",
          "Coinonat",
          "MacronCoin",
          "Condensate",
          "Independent Money System",
          "ArgusCoin",
          "LomoCoin",
          "ProCurrency",
          "GoldReserve",
          "BenjiRolls",
          "GrowthCoin",
          "ILCoin",
          "Phreak",
          "Degas Coin",
          "HTML5 Coin",
          "Ultimate Secure Cash",
          "EquiTrader",
          "QTUM",
          "Quantum Resistant Ledger",
          "Espers",
          "Dynamic",
          "Nano",
          "ChanCoin",
          "Dinastycoin",
          "Denarius",
          "DigitalPrice",
          "Virta Unique Coin",
          "Bitcoin Planet",
          "Unify",
          "BritCoin",
          "SocialCoin",
          "ArcticCoin",
          "DAS",
          "Linda",
          "LeviarCoin",
          "DeepOnion",
          "Bitcore",
          "gCn Coin",
          "SmartCash",
          "Signatum",
          "Onix",
          "Cream",
          "Bitcoin Cash",
          "Monoeci",
          "Draftcoin",
          "Vechain",
          "Sojourn Coin",
          "Stakecoin",
          "NewYorkCoin",
          "FrazCoin",
          "Kronecoin",
          "AdCoin",
          "Linx",
          "CoinonatX",
          "Ethereum Dark",
          "Sumokoin",
          "Obsidian",
          "Cardano",
          "Regalcoin",
          "BitcoinZ",
          "TrezarCoin",
          "Elements",
          "TerraNovaCoin",
          "VIVO Coin",
          "Rupee",
          "Bitcoin Gold",
          "WomenCoin",
          "Theresa May Coin",
          "NamoCoin",
          "LUXCoin",
          "Pirl",
          "Xios",
          "Bitcloud 2.0",
          "eBoost",
          "KekCoin",
          "BlackholeCoin",
          "Infinity Economics",
          "Pura",
          "Innova",
          "Ellaism",
          "GoByte",
          "Magnet",
          "Lamden Tau",
          "Electra",
          "Bitcoin Diamond",
          "SHIELD",
          "Cash & Back Coin",
          "UltraNote",
          "BitCoal",
          "DaxxCoin",
          "Bulwark",
          "Kalkulus",
          "AC3",
          "Lethean",
          "GermanCoin",
          "LiteCoin Ultra",
          "PopularCoin",
          "PhantomX",
          "Photon",
          "Sucre",
          "SparksPay",
          "Digiwage",
          "GunCoin",
          "IrishCoin",
          "Trollcoin",
          "Litecoin Plus",
          "Monkey Project",
          "Pioneer Coin",
          "UnitedBitcoin",
          "Interzone",
          "TokenPay",
          "1717 Masonic Commemorative Token",
          "My Big Coin",
          "TurtleCoin",
          "MUNcoin",
          "Unified Society USDEX",
          "Niobio Cash",
          "ShareChain",
          "Travelflex",
          "KREDS",
          "Tokyo Coin",
          "BiblePay",
          "LitecoinCash",
          "BitFlip",
          "LottoCoin",
          "Crypto Improvement Fund",
          "Stipend",
          "Poa Network",
          "Pushi",
          "Ellerium",
          "Velox",
          "Ontology",
          "Callisto Network",
          "BitTube",
          "Poseidon",
          "Aidos Kuneen",
          "Bitspace",
          "Briacoin",
          "Ignition",
          "Bitrolium",
          "MedicCoin",
          "Alpenschillling",
          "Bitcoin Green",
          "Deviant Coin",
          "Abjcoin",
          "Semux",
          "FuturoCoin",
          "Carebit",
          "Zealium",
          "Monero Classic",
          "Proton",
          "iDealCash",
          "Jumpcoin",
          "Infinex",
          "Bitcoin Incognito",
          "KEYCO",
          "HollyWoodCoin",
          "GINcoin",
          "PlatinCoin",
          "Loki",
          "Newton Coin",
          "Swisscoin",
          "Xt3ch",
          "MassGrid",
          "TheVig",
          "PluraCoin",
          "EmaratCoin",
          "Dekado",
          "Lynx",
          "Poseidon Quark",
          "BitcoinWSpectrum",
          "Muse",
          "Motion",
          "PlusOneCoin",
          "Axe",
          "Trivechain",
          "Dystem",
          "Giant",
          "Peony Coin",
          "Absolute Coin",
          "Vitae",
          "HexCoin",
          "TPCash",
          "Webchain",
          "Ryo",
          "Urals Coin",
          "Qwertycoin",
          "ARENON",
          "EUNO",
          "MMOCoin",
          "Ketan",
          "Project Pai",
          "XDNA",
          "PAXEX",
          "Azart",
          "ThunderStake",
          "Kcash",
          "Xchange",
          "Acute Angle Cloud",
          "CrypticCoin",
          "Bettex coin",
          "Actinium",
          "Bitcoin SV",
          "BitMoney",
          "Junson Ming Chan Coin",
          "FREDEnergy",
          "HerbCoin",
          "Universal Molecule",
          "Lithium",
          "PirateCash",
          "Exosis",
          "Block-Logic",
          "Oduwa",
          "Beam",
          "Galilel",
          "Bithereum",
          "Crypto Sports",
          "Credit",
          "SLICE",
          "Dash Platinum",
          "Nasdacoin",
          "Beetle Coin",
          "Titan Coin",
          "Award",
          "BLAST",
          "Bitcoin Rhodium",
          "GlobalToken",
          "Insane Coin",
          "ALAX",
          "LiteDoge",
          "SolarCoin",
          "TruckCoin",
          "UFO Coin",
          "OrangeCoin",
          "BlakeCoin",
          "BitstarCoin",
          "NeosCoin",
          "HyperCoin",
          "PinkCoin",
          "Crypto Escudo",
          "AudioCoin",
          "IncaKoin",
          "Piggy Coin",
          "Crown Coin",
          "Genstake",
          "SmileyCoin",
          "XiaoMiCoin",
          "Groestlcoin",
          "CapriCoin",
          " ClubCoin",
          "Radium",
          "Bata",
          "Pakcoin",
          "Creditbit ",
          "OKCash",
          "Lisk",
          "HiCoin",
          "WhiteCoin",
          "FriendshipCoin",
          "Fiii",
          "JoinCoin",
          "Triangles Coin",
          "Vollar",
          "EOS",
          "Reality Clash",
          "Oxycoin",
          "TigerCash",
          "Waves",
          "Particl",
          "BitTorrent",
          "Nxt",
          "ZEPHYR",
          "Gapcoin",
          "Beldex",
          "Horizen",
          "BitcoinPlus"
         ],
         "legendgroup": "",
         "marker": {
          "color": "#636efa",
          "symbol": "circle"
         },
         "mode": "markers",
         "name": "",
         "scene": "scene",
         "showlegend": false,
         "type": "scatter3d",
         "x": [
          -0.5591188318623601,
          -0.5594643761908605,
          -0.5893973126322529,
          0.2202279214523815,
          0.37872653004352497,
          -0.01090488550055068,
          -0.5203381821041124,
          0.3916862477453781,
          0.37871986265110025,
          0.345982823500446,
          0.030182454770433093,
          0.331342180049267,
          -0.32800265014534885,
          -0.034008803651871575,
          -0.010885338591825318,
          -0.6586743833268565,
          0.027896997621404847,
          -0.01088836961103957,
          -0.5591249476247255,
          -0.5593194784216262,
          0.33485189767178525,
          -0.01979778531444888,
          0.22017638280598004,
          -0.01092954892972082,
          -0.010887674525612788,
          -0.5591576911503501,
          0.059046849832015025,
          0.17436129425559962,
          -0.010894708043907108,
          -0.5591188569011167,
          -0.0108857969754736,
          -0.5591191831834842,
          -0.010884820004769844,
          0.02789898689367061,
          -0.5737351244989479,
          -0.37385805714658193,
          0.3300170556738115,
          0.21381835950620653,
          -0.015155859522971004,
          -0.010890120005125051,
          -0.010959102207329131,
          -0.010889928976790237,
          -0.09410480741171422,
          -0.359249373863362,
          -0.010883651301494901,
          0.2693446890142189,
          -0.011195188485253362,
          -0.010905392051398064,
          -0.010897861309340971,
          -0.5591498053559272,
          -0.2268678358964701,
          -0.0415936001470423,
          -0.5203409039046852,
          0.22022692293882126,
          -0.010937013828056657,
          -0.010889596562588656,
          -0.010883409675629454,
          -0.5721935668428728,
          -0.010896051852558179,
          0.38833192504062625,
          -0.2718457667118052,
          -0.010885094555679485,
          -0.32856749328120755,
          -0.26512730989398076,
          -0.5728793062283574,
          -0.01197839043348518,
          0.22022892899721505,
          -0.010996543727633906,
          -0.5728632239298522,
          -0.27881852625975706,
          -0.5591988967182637,
          -0.5591444609448807,
          -0.5683757516818998,
          -0.010883865801404487,
          -0.010896479876449167,
          -0.010892299936920301,
          -0.22635382472032703,
          -0.5203348199634499,
          0.22003557074695673,
          0.08116496469992672,
          0.2202192308696284,
          -0.3083755183777342,
          -0.5203355038564866,
          0.22022585249043644,
          0.2202314931996109,
          0.22023400056198122,
          0.02790060143155413,
          -0.5595029907938927,
          -0.5591370160743491,
          -0.010890873887129553,
          -0.445089822412707,
          0.21664653969629255,
          -0.010926959549143635,
          -0.5203371421043437,
          0.0811610531357689,
          0.2202206483467956,
          -0.5728688879756,
          -0.5591887779483299,
          0.3543507471506907,
          0.4143426437304749,
          -0.8737966417969186,
          -0.11555714931207114,
          -0.010907003732747115,
          -0.328015664458832,
          -0.37387370892388705,
          -0.011053085657068605,
          -0.26513040913364144,
          -0.010930316037063114,
          -0.5728593552499919,
          -0.010883148072700716,
          -0.2651885805595156,
          -0.010934826312337952,
          -0.5591192953454316,
          -0.5728609111426737,
          -0.011156503079167372,
          0.44215219099116576,
          -0.2263391265271576,
          0.3354108647625264,
          0.272613576890837,
          -0.010886309787544119,
          -0.5591229605588909,
          -0.01257098304329644,
          0.38500648383334357,
          -0.010883239610919615,
          0.22022964698431935,
          -0.013018884351839448,
          -0.520335297547954,
          -0.3574974348358299,
          0.027890042005439406,
          0.4002042500251487,
          0.2202281650468269,
          -0.6899120940532572,
          0.027895485842567867,
          -0.3678047244030293,
          -0.010898193528455146,
          -0.01091271013957316,
          -0.2651557234969547,
          0.37875682671762273,
          -0.5728668749279474,
          0.4569843244891094,
          -0.32803854484019523,
          -0.6586630754205988,
          0.02789560070204047,
          0.2202269519491069,
          -0.3723377774286722,
          -0.010954216168097632,
          0.2033194542613179,
          -0.32800340193537514,
          -0.5244234774033687,
          -0.010907031730817359,
          -0.32800359576434407,
          0.21286721589172858,
          -0.5583720358552442,
          -0.5591226484152391,
          -0.26513973834639265,
          0.027884788159101316,
          0.43414478139904283,
          -0.01088713895381704,
          0.3758371193033863,
          -0.5203470206076569,
          -0.279094496144829,
          -0.32800404318564236,
          -0.5609037441628842,
          -0.09410979361370611,
          -0.010885568779445498,
          0.02789609075058415,
          -0.520379048884803,
          -0.3280072806056603,
          -0.3280191821515784,
          -0.5552208658161091,
          -0.5203457473889077,
          -0.010883238583799387,
          -0.12954790762427576,
          -0.5594220114592752,
          -0.5591212903375967,
          -0.5591527302052869,
          -0.27886765326794855,
          0.027899967171573514,
          -0.22656052506680766,
          0.21839123045039052,
          -0.520340894918069,
          -0.5591345515302666,
          0.41675297638181447,
          -0.3280024079658447,
          0.22023187217592796,
          -0.5203350968756586,
          -0.559120134677487,
          0.33508779879016937,
          -0.5591194444031136,
          -0.010924568711174039,
          -0.2651753789660975,
          0.2202309472244453,
          -0.4217020856257119,
          -0.010887237171576993,
          -0.6665802149747589,
          -0.09412810940167966,
          -0.5591294173272904,
          -0.5204532198367545,
          0.4042669965677484,
          -0.09415090258107381,
          -0.27886227882668996,
          -0.7766022723969949,
          -0.0941156283813851,
          -0.6604498328540742,
          0.37875165003463185,
          0.3459833822540055,
          -0.010539597445639768,
          -0.5203413081083764,
          -0.011177169343484165,
          0.027629182023561943,
          -0.6019897201861617,
          -0.5203361257830491,
          -0.0941199631208541,
          -0.5591251229237351,
          -0.5591205803978377,
          0.027876312477233853,
          -0.09410979361370611,
          -0.5203381290477422,
          -0.328006117484068,
          -0.5591259903760522,
          -0.4006353443719694,
          -0.5591229808206222,
          -0.5591373836723131,
          -0.5203351928932065,
          0.4167548822186812,
          -0.5591248203462202,
          -0.2765537864011467,
          -0.5591202303068589,
          -0.559119955846121,
          -0.19510792100525776,
          -0.27563159054290065,
          -0.010883374936444527,
          0.41675214355404905,
          0.4002092922881755,
          -0.5591380071019736,
          -0.3280030176032881,
          -0.5203368236885314,
          -0.5591230290824551,
          0.025409869917247446,
          -0.5591194383547108,
          0.3916839206872966,
          -0.26512402486096476,
          -0.39126373302237455,
          -0.010884091321148254,
          -0.27886635501176066,
          0.02786817236885836,
          0.3459830620586102,
          -0.5594578154197573,
          -0.010916878528565288,
          0.40020377318676825,
          -0.2651340079206373,
          0.41757493863081724,
          -0.5203412974953016,
          -0.6598318483663578,
          -0.520372306817805,
          -0.010996131142396231,
          -0.09414066752936058,
          -0.5203439368656753,
          -0.006960939996158332,
          -0.09423905620396629,
          -0.5203848453872402,
          -0.5591210196362058,
          -0.5591198584157405,
          -0.5591422052417074,
          -0.03577763806592543,
          -0.5203411703629751,
          -0.010890256786774077,
          -0.2652614505131633,
          0.2197599284591152,
          -0.09410730707714218,
          -0.5591280138921428,
          -0.6735864081928754,
          -0.03401263679575624,
          -0.010889018759793655,
          -0.1295688428327698,
          0.39166744231926365,
          -0.7321068972291429,
          0.33114136936856114,
          0.46738573405749545,
          0.32331762422144616,
          0.41613787565908167,
          -0.5551939747925202,
          0.02788756534449845,
          -0.5552150864064069,
          -0.6810737872761844,
          -0.010889203022633496,
          -0.5728658502835409,
          -0.010886402599567965,
          0.027891366383989737,
          0.027899715664733222,
          -0.5631357076414072,
          0.4167499531287278,
          -0.5728657974594304,
          0.5151121347129715,
          -0.06701372367872499,
          0.11964071548207712,
          -0.043514791727483036,
          0.027836771705997704,
          -0.6810865845475254,
          0.2202278998492162,
          -0.5203390092563891,
          -0.26512812249966117,
          4.154716180264853,
          -0.011126945683452455,
          -0.09410570708909799,
          -0.056039968586987544,
          -0.010886558154782303,
          -0.010890491057482521,
          -0.010895659964011062,
          -0.010895997771085065,
          -0.559126122020727,
          -0.5591202555791239,
          0.4167507899432243,
          0.03112172825277775,
          -0.09003693537199417,
          -0.5203377396219527,
          0.34385247458617063,
          -0.2788843793469759,
          0.027005719247659214,
          -0.5591195573131198,
          0.26941643816227845,
          -0.037582282300762396,
          0.3459797228775861,
          -0.5750011732932127,
          -0.3280331206763669,
          -0.5553972920213311,
          -0.6018108661512857,
          0.434132917645719,
          -0.5591199981766375,
          -0.4891155991329351,
          -0.010916924818009075,
          -0.07534994691201362,
          -0.5591243419346088,
          -0.03705557785590217,
          0.0278375296609071,
          0.2694153226594219,
          0.3787500048858769,
          0.26941580055110087,
          -0.5203502244982162,
          -0.010605106299548174,
          -0.5648564353607404,
          -0.5729212674744306,
          0.3352639880999594,
          -0.5591587500901848,
          0.40869377691814823,
          0.41675396746118387,
          0.3783638971983778,
          -0.2612002452197569,
          -0.1951100699951142,
          0.027862852838200555,
          0.3915291431132469,
          -0.5618305022477865,
          -0.5591249727529114,
          -0.012250875311853126,
          -0.5203502449180982,
          0.16431103215021442,
          0.02789918759847956,
          0.2694154149710797,
          -0.195115657824094,
          0.26931210608713263,
          -0.010898877505013515,
          -0.5593263519145029,
          -0.559119715546924,
          -0.22633969205536786,
          0.027897771590196088,
          0.22022723386468035,
          0.1421227220083894,
          -0.12954198101341985,
          0.12452118927349565,
          -0.27211275237364263,
          0.3767603062729326,
          0.4098336338526387,
          -0.5591983747965723,
          0.41670558660432366,
          -0.01427286533439729,
          0.4341110669467549,
          0.21643582157882277,
          -0.27895272477861677,
          13.946299076959871,
          13.754114593050263,
          -0.010887888319314884,
          -0.01588615657568519,
          0.027822653860884845,
          -0.40611278520329347,
          9.829554481446893,
          -0.5203360844868766,
          -0.5843044205235123,
          -0.2651327780564713,
          -0.15887262372156827,
          0.3785314443653092,
          0.4167071861579981,
          -0.010884802386757778,
          0.4780365099529423,
          -0.5551979399878277,
          -0.5591191685200657,
          -0.559119321211991,
          0.34596148549315064,
          -0.26521783696381634,
          0.4042542852910673,
          -0.04837292294526817,
          -0.09411196483454941,
          -0.5591226482604963,
          -0.10428243740914114,
          0.027888619224767496,
          -0.4891500267077258,
          -0.09410836839455891,
          0.4167501938318509,
          -0.012800545628431036,
          -0.559681128657538,
          -0.006963763770481174,
          0.4002078970791823,
          -0.43177662704753106,
          0.3147321236620959,
          -0.2651346511172544,
          0.4042674333564099,
          0.41674172267432696,
          0.439200953481352,
          0.3994445342931411,
          -0.5625764642787927,
          -0.2651252559325306,
          0.4333929988713382,
          -0.659946681948901,
          0.41655560584598933,
          -0.5591276023325564,
          -0.36467283785107657,
          -0.4127677719775137,
          -0.1951201993868289,
          -0.03402530822028246,
          -0.055391095471821285,
          0.2414376067833532,
          0.5096608789358236,
          0.027898918496165267,
          -0.30680869256222987,
          -0.19510697551487396,
          -0.4891032470731325,
          -0.26551403197531,
          -0.33157658223255565,
          -0.19512743085178483,
          -0.010883990139949833,
          -0.5591437537059185,
          0.391646132445955,
          0.38095600538302155,
          -0.03607662459028852,
          0.40349222607990354,
          -0.22634517440908034,
          -0.5203456968828707,
          -0.26516188956001024,
          -0.0941108344095486,
          0.21952220430695393,
          -0.42778134239120646,
          -0.22634155683232643,
          0.027898818418613386,
          -0.5598714106659624,
          0.31506346801215596,
          0.2414352836957955,
          0.09301003034461164,
          0.34447189153459007,
          -0.29030919251209175,
          0.40426362764819196,
          0.22022790082020327,
          -0.5394604158613133,
          -0.23177215712449253,
          0.41597854099500375,
          -0.4891136624022064,
          0.39240227440806213,
          0.3923996236053847,
          0.0917401539441272,
          0.33320294065219797,
          -0.010896957265964081,
          -0.5591239856519581,
          0.3459682723445691,
          -0.48910746774185243,
          0.34597698350985445,
          -0.1951051729042603,
          -0.570589126671705,
          0.27260918374179777,
          -0.2263384961881772,
          -0.5591272698883197,
          -0.5843773212662611,
          -0.6603329846177963,
          -0.5203494393001652,
          0.22021607129132362,
          -0.024623054097555264,
          0.2202034514871672,
          -0.5203430237227766,
          -0.010841512316203823,
          -0.5647685899693047,
          -0.0131780167817587,
          -0.5204114167236932,
          0.2681178050480216,
          -0.5591245918690343,
          0.3922353292980538,
          -0.5591265888432062,
          -0.03400660017492693,
          -0.5591218730734806,
          -0.5204842138617396,
          -0.011152610748361637,
          -0.559672278708532,
          -0.33367093558132177,
          -0.5205141004954426,
          0.22022583621793407,
          -0.5591381261644913,
          -0.021385484072849435,
          -0.5592557882818948,
          0.17435330735881233,
          -0.5204032328180068,
          -0.5591552668086779,
          -0.0941044295092215,
          -0.010884741131393687,
          -0.010909258966244537,
          -0.48370144989544095,
          -0.3280277503674986,
          -0.010544137332585857,
          -0.26851194324130634,
          -0.5592053718096277,
          -0.2788191723854716,
          20.06964358248622,
          0.3354303080298091,
          -0.5728584852730386,
          0.32934677588094613,
          -0.01082478411088909,
          0.3787522322710896,
          -0.01085694122310317,
          -0.034343709285986006,
          9.889514292661135,
          -0.09410614570658868,
          -0.6862631272680328,
          0.016339137686690847,
          0.010199708713094714,
          -0.5591293504730205,
          0.416413648740722,
          0.3459828508203044,
          -0.26512188887686816
         ],
         "y": [
          1.0240593104574405,
          1.0243829409705636,
          1.7490532666383156,
          -1.3010960842023636,
          -2.0450980604127493,
          -1.13290809454692,
          1.209588698094441,
          -2.236571135227127,
          -2.045168868210651,
          -2.157099302012928,
          1.9751673134375467,
          -1.8191057035268592,
          0.8558639753230393,
          0.6455875186861777,
          -1.1329137077339337,
          1.8896529888386235,
          -0.9473780284803268,
          -1.132925656950027,
          1.0240622018885026,
          1.0243664036439102,
          -1.817147699621421,
          -1.2674018369079814,
          -1.301074604719487,
          -1.1329343850679738,
          -1.1329406086242702,
          1.0241187853133125,
          -0.4544428500544893,
          -1.157131318330745,
          -1.132909847532346,
          1.024059155909331,
          -1.13291300616951,
          1.0240594624037902,
          -1.132911469263778,
          -0.9473803015510285,
          0.33633664977830247,
          0.9998426695149772,
          -1.8153628151576198,
          -1.2993792692465638,
          -1.131577434907779,
          -1.132906389694821,
          -1.1329083618381728,
          -1.1329109255718022,
          1.570444335306013,
          0.2855943091860904,
          -1.1329125234009536,
          -1.640649321288097,
          -1.132979408708192,
          -1.1329019184375966,
          -1.1329143107046244,
          1.0240604231847261,
          1.0001182902316208,
          -1.120857107097433,
          1.2095928638592097,
          -1.3010945559593925,
          -1.1329289088373438,
          -1.1329068050598918,
          -1.1329090795324441,
          2.5015762014081497,
          -1.1329054121317614,
          -2.226917430081086,
          0.8240654658004021,
          -1.1329098377309708,
          0.855803702507758,
          0.8137765049097243,
          1.8449663706988437,
          -1.1370192682671867,
          -1.3010976262678704,
          -1.1328654105882299,
          1.844941756451526,
          0.5163361993590797,
          1.0240198264526221,
          1.0240607304767821,
          1.0382271928670785,
          -1.1329159618661808,
          -1.1329849978491962,
          -1.1329147036191758,
          0.9993315868751613,
          1.2095920389012278,
          -1.3011361533088603,
          0.12942412643092338,
          -1.3010928178279442,
          1.6325598436167668,
          1.2095892282660783,
          -1.3011010188550742,
          -1.3011243114417812,
          -1.3010973835961117,
          -0.9473758287135747,
          1.0240300355887209,
          1.0240485644221329,
          -1.132906007411149,
          0.33709831923283184,
          -1.2128779018848226,
          -1.1329442970921804,
          1.2095934716130952,
          0.12946869046551052,
          -1.3010942111390231,
          1.8449504253754863,
          1.023780591064714,
          -2.1834778456719937,
          -2.2079916685379612,
          0.5466809493238924,
          1.516471555288486,
          -1.132913000083397,
          0.8558661483990506,
          0.9998683145282574,
          -1.133296965491265,
          0.8137874901614122,
          -1.1329009549600133,
          1.8449312060895409,
          -1.1329099729385235,
          0.8136836359994952,
          -1.1328915883551762,
          1.024060019842822,
          1.8449343589575988,
          -1.1328763575217513,
          -2.211217142333824,
          0.9993013755629232,
          -1.8172316625094689,
          -1.5860932843503963,
          -1.1329054206365083,
          1.024057914054941,
          -1.1341834288500643,
          -2.1989566963376492,
          -1.1329090580037684,
          -1.3010987251600559,
          -1.1651313063341955,
          1.2095927702386806,
          3.368249641647403,
          -0.9473723978358832,
          -2.213350898080918,
          -1.3011090949565247,
          2.036635266362579,
          -0.9473761004487598,
          0.7636403555973685,
          -1.1329670367334175,
          -1.132960157139366,
          0.8137876569348393,
          -2.045150952051817,
          1.8449280557122023,
          -2.1704519246650724,
          0.8555416266564828,
          1.889760557425556,
          -0.9473743473774876,
          -1.3010946003601567,
          0.931864331683945,
          -1.1328812004895707,
          -1.1506780653543518,
          0.8558651259512056,
          1.2056075258913144,
          -1.132904809702867,
          0.8558698590011841,
          -1.2981651288354505,
          1.5782524620650464,
          1.0240489493041105,
          0.8137164925187419,
          -0.9473840311602755,
          -2.236929320482536,
          -1.1329677964230156,
          -2.1606773016759933,
          1.2094625757020228,
          0.7969682345736081,
          0.8558591634795373,
          0.33130047579028377,
          1.5704442513148562,
          -1.1329129696544857,
          -0.9473785693639754,
          1.2096307994607496,
          0.8557936280098676,
          0.8556952339604561,
          1.573394820020452,
          1.2095551414401542,
          -1.1329090584069015,
          1.514447493448592,
          1.023751785998624,
          1.0240459706046092,
          1.0240726151823616,
          1.634581841468424,
          -0.9473845022960693,
          0.9993944925145836,
          -1.924755729973686,
          1.2095820484567639,
          1.0240486501245813,
          -2.207826852250273,
          0.8558639904361021,
          -1.3010977855070738,
          1.2095913057866627,
          1.024053203219439,
          -1.8172001320070128,
          1.0240602479782872,
          -1.1329227187244746,
          0.8138563172993707,
          -1.3010967179345256,
          0.3086850961615474,
          -1.1329142738818243,
          1.9459345342822107,
          1.5704514522077744,
          1.0240755117182363,
          1.209194592695472,
          -2.176976170022948,
          1.570499453905609,
          1.6346498059391137,
          1.96285497925546,
          1.5703447792759757,
          1.941371723875831,
          -2.0451466164046517,
          -2.157100157195307,
          1.6181536494071131,
          1.209590396315014,
          -1.1363166858040261,
          -0.9471533030007402,
          1.8891924760222285,
          1.209592551357382,
          1.5704482427340094,
          1.0240540713590085,
          1.0240457841662574,
          -0.9474266103105766,
          1.5704442513148562,
          1.2095739575109228,
          0.8558700536936603,
          1.024057536193657,
          0.45088291754965437,
          1.0240548588806664,
          1.023836697257746,
          1.2095906811969432,
          -2.207834012672575,
          1.0240129246220222,
          0.8187277926793207,
          1.024056435767133,
          1.02405975160864,
          1.4922015406529634,
          0.5708590876342484,
          -1.1329096590063028,
          -2.207831364189674,
          -2.2133370934178687,
          1.0238957719467816,
          0.8558649234971812,
          1.2095914975022342,
          1.0240580189314896,
          -0.9821410345436768,
          1.0240517774300835,
          -2.236638941656045,
          0.8137565013937911,
          0.17105602161580064,
          -1.1329088116657453,
          1.6346514057967008,
          -0.947711968601867,
          -2.157098124037882,
          1.0241923577569745,
          -1.1328959113721264,
          -2.2133328898388926,
          0.8137797173799545,
          -2.222634964697062,
          1.209563375950843,
          2.0272815329369034,
          1.2096069785455283,
          -1.1342791291146728,
          1.5704566729289413,
          1.2095674155547045,
          -0.5835944471859776,
          1.5704954962378486,
          1.2094757175222794,
          1.0240544758340984,
          1.0240498485199054,
          1.0237093106989952,
          0.619366587326035,
          1.2095863277616743,
          -1.1329117819285275,
          0.8132165050464663,
          -1.3013361441479014,
          1.5704365878943678,
          1.0240328575544797,
          1.8778915481741096,
          0.6455210204337054,
          -1.1329277496013952,
          1.5144538812473567,
          -2.2365828593649932,
          1.7815890843426772,
          -2.1948559760154853,
          -2.1865027410195212,
          -2.3218118016293205,
          -2.207653118096622,
          1.5733845246770473,
          -0.9473944540629492,
          1.5733744013353101,
          1.88106640895282,
          -1.132907128388732,
          1.8449342029385443,
          -1.1329329110011634,
          -0.9473848406962064,
          -0.9473817641440935,
          1.0109185535298086,
          -2.2078391991257162,
          1.8449384048714514,
          -2.386157726538481,
          -1.1241547333855884,
          -1.1478669829193204,
          1.5065015002588025,
          -0.9477024866374394,
          1.8810859954069374,
          -1.3010960511383352,
          1.2095947834253402,
          0.813777275701432,
          2.086203264256316,
          -1.136586440595859,
          1.570421948665754,
          -1.0637956325795928,
          -1.1329114553977253,
          -1.1329301255011117,
          -1.1329283867670765,
          -1.13292786974727,
          1.02405185386608,
          1.0240598692505307,
          -2.2078539390816725,
          1.9750834864986777,
          1.4971997680631717,
          1.209586092001773,
          -2.161931899621382,
          0.5162841337981346,
          -0.946700587099041,
          1.0240543512916143,
          -1.6406399307464732,
          0.7338134724732633,
          -2.157094556453834,
          1.038723191079625,
          0.8558805207132945,
          1.5732366353037466,
          1.8428493046170715,
          -2.2369598885409943,
          1.024052994302432,
          1.7024314636666662,
          -1.1328958405252996,
          1.6573140128863992,
          1.0240620388185402,
          0.6467835252351049,
          -0.9474143168367556,
          -1.6406451673660174,
          -2.045242005564159,
          -1.6406408065822218,
          1.209560064870769,
          1.618109246954914,
          1.576603757644375,
          1.8449495807791856,
          -1.8172614754144638,
          1.024039393677781,
          -2.2282789626426247,
          -2.207829333547967,
          -2.048400775840638,
          1.363097747740649,
          1.4922029008548554,
          -0.9475302290458638,
          -2.236716256895229,
          1.0089209131832804,
          1.024010843244291,
          -1.13274449373198,
          1.2095963588000935,
          -1.2420815008732387,
          -0.947381303125025,
          -1.6406360500950132,
          1.4921728758124388,
          -1.6406627193287477,
          -1.132909574429175,
          1.0240297278112935,
          1.0240591198761595,
          0.9993018553408751,
          -0.9473803703729491,
          -1.3010947101022072,
          -1.160657419353081,
          1.5144417017358036,
          -0.0984663950780899,
          0.22133901436473472,
          -2.532386645532518,
          -2.161528414432399,
          1.024091552994735,
          -2.2078800833905716,
          -1.1315786673723962,
          -2.2369047240271733,
          -1.212947339536306,
          1.6344805810552006,
          3.0900359696504394,
          2.8490569046721888,
          -1.132917135020016,
          -1.1323526832061634,
          -0.9474494151299442,
          0.996311991692055,
          1.62219955319492,
          1.2095843303340545,
          1.4622896100607323,
          0.8137432799695404,
          1.5229282438331893,
          -2.047307003761739,
          -2.2081386849094664,
          -1.1329145284054407,
          -2.125311988396066,
          1.5733751625537362,
          1.0240586684148596,
          1.0240581305662946,
          -2.1570855466931813,
          0.8137284134528456,
          -2.1770641915854685,
          1.4295372227835499,
          1.5704213418330712,
          1.024053578345103,
          1.5672740720449219,
          -0.9473960670456693,
          1.7024841556895236,
          1.570418923602155,
          -2.207825834001952,
          0.6563083753082705,
          1.0229440045704195,
          -0.5835796122586036,
          -2.213341238412701,
          1.016356494905712,
          -2.294052175412517,
          0.8137839524917181,
          -2.176972633608495,
          -2.208037234608172,
          -2.2609394641570195,
          -2.2523143724230765,
          1.025416392964125,
          0.8137626290756566,
          -2.0744946827942354,
          1.9434586783263732,
          -2.2079066885137353,
          1.0240403288913258,
          1.6794613849454603,
          0.22220607640496035,
          1.491975366985163,
          0.6455789229227001,
          1.5501158876942134,
          -1.2903652894488675,
          -2.239251856696699,
          -0.947381354186873,
          0.8665958994150205,
          1.4921977789239993,
          1.7024877261297964,
          0.8078627810123464,
          0.9440832934157326,
          1.4921986101062632,
          -1.132916197944591,
          1.0237116806513398,
          -2.2371848410560804,
          -2.307047096174518,
          -0.6947244530062053,
          -2.277392321623447,
          0.9992971298947236,
          1.2095893979503207,
          0.8137353705009379,
          1.5703725473726664,
          -1.3008179937933997,
          1.0096436903603396,
          0.9992742333365324,
          -0.9473827441089878,
          1.018267229134216,
          2.830312851921785,
          -1.2903917950244097,
          0.13126205416584255,
          -2.157710568167029,
          1.2520112318723697,
          -2.1769951632302735,
          -1.3010960526244477,
          1.1075364113755597,
          1.0076244421409846,
          -2.209754754292191,
          1.7024848223456805,
          -2.283021644887856,
          -2.2829867679060185,
          -0.21044228505010337,
          -2.128441841868415,
          -1.1329341166861366,
          1.0240590972051786,
          -2.157170311155215,
          1.7024888294794023,
          -2.1570941775556016,
          1.4921979634451639,
          1.0127589713252154,
          -1.5861251378719645,
          0.9993005265497145,
          1.0240398200794383,
          1.4622314457725414,
          1.9421596330670903,
          1.2094523897209521,
          -1.3010945355631391,
          -0.31203418924141035,
          -1.3011153411335932,
          1.2095930220937323,
          1.6182781840421234,
          1.0192043066081913,
          -1.1672409675158324,
          1.2097092720071716,
          -1.640185026126361,
          1.0239909716370414,
          -2.2854259919848405,
          1.0240502521183725,
          0.6455808671532592,
          1.024063965101996,
          1.2096278027609728,
          -1.132882314804105,
          1.0208557527324567,
          0.8644745783131893,
          1.2094806582155573,
          -1.3011009939497162,
          1.0240830541530315,
          -1.1361236024742845,
          1.0241146154777645,
          -1.1571271954776614,
          1.2096165055765182,
          1.0240533511103624,
          1.5704402849610746,
          -1.132908449787439,
          -1.132939206647897,
          0.5193410855382762,
          0.8558703724931522,
          1.618147127204548,
          0.8151018489003984,
          1.0240760294747862,
          0.5163154313759282,
          4.657987939586972,
          -1.8172625009448193,
          1.8449344575592064,
          -2.2233180439186757,
          1.6186383543752259,
          -2.0451468449259913,
          1.6186875714142472,
          0.6457191467989375,
          2.085408422589754,
          1.5704430527709992,
          1.904321780941724,
          1.6498554905063523,
          0.7138839035545892,
          1.0239789661084686,
          -2.207843815747054,
          -2.1570993438264625,
          0.8137740639819179
         ],
         "z": [
          -0.33270710217718263,
          -0.3160303906023759,
          2.3061473625591415,
          -0.14687592845534514,
          -0.14967616855220153,
          -0.1630178750961053,
          -0.39685790549858063,
          -0.15086168680346912,
          -0.148117412202251,
          -0.14941311788531636,
          -0.27409795966233524,
          0.15503077569717938,
          -0.31539489390051784,
          -0.27195046075059115,
          -0.16416503774370736,
          -0.24223027773227135,
          -0.22852359341971934,
          -0.1637813522485126,
          -0.33236640640685333,
          -0.32493660549929854,
          -0.09855954417760308,
          2.5590016492975867,
          -0.14395847384560823,
          -0.16103467648274447,
          -0.16358532022239552,
          -0.33120218762869175,
          -0.22893764799524774,
          -0.20482229145698166,
          -0.1636339431312335,
          -0.3327030362153081,
          -0.16414728578848461,
          -0.3326873036454709,
          -0.1642337988047163,
          -0.22861301869369852,
          0.6711593790732104,
          -0.37427507056657633,
          0.1788210174244854,
          0.23127359641878323,
          0.0846971481350345,
          -0.16397986657735275,
          -0.1595817896474735,
          -0.16391914073126038,
          -0.3453954562965477,
          -0.26991583167476774,
          -0.1642908522903152,
          -0.17665543480121604,
          -0.1434975007502649,
          -0.16308496084441002,
          -0.1633626982606063,
          -0.33076441372415893,
          -0.3332171398712381,
          1.5860454185166686,
          -0.39675249754579234,
          -0.14683725873404524,
          -0.1606500790071227,
          -0.16400633116456861,
          -0.16436143341316853,
          -0.4243851552482047,
          -0.1636200875850199,
          -0.1639747770343585,
          -0.0289262053832531,
          -0.16424261245691674,
          -0.27867400553215266,
          -0.2890136084994563,
          -0.2791629736686254,
          -0.029067993416874105,
          -0.14691494793372253,
          -0.15790135193463659,
          -0.27978579746260357,
          -0.34984664724464587,
          -0.3270053151070671,
          -0.3311076359765525,
          0.025788290538150186,
          -0.16422207492140822,
          -0.16231535120814594,
          -0.16370841278436013,
          -0.35312339834354206,
          -0.3971243536031676,
          -0.13405730902013163,
          -0.2566402408865098,
          -0.14637827162046474,
          -0.3153821058443165,
          -0.3970359436966346,
          -0.14666574853913858,
          -0.1466488609490444,
          -0.14723986224265304,
          -0.22878702076565638,
          -0.3079207447378082,
          -0.3313835694607223,
          -0.16393828461689533,
          -0.29164979768888394,
          -0.20238382028693874,
          -0.16103945395476024,
          -0.39700036765117014,
          -0.25710806439306744,
          -0.146445626940167,
          -0.2795664443358937,
          -0.32380520252005646,
          3.856406756557286,
          0.452592918665701,
          0.011106670509248273,
          -0.3555223976440936,
          -0.16280504390713604,
          -0.31460600326713833,
          -0.3736960453713271,
          -0.1473943329685823,
          -0.28899378735288617,
          -0.16152279649960205,
          -0.2798613040058208,
          -0.16436364983157745,
          -0.28364442695618824,
          -0.16138767476796304,
          -0.3326891529952771,
          -0.2798134346584891,
          -0.1476005496277455,
          -0.1302531090569575,
          -0.35356875793752635,
          -0.13259297877513207,
          -0.16164513374476103,
          -0.16423660164877107,
          -0.33242334766568393,
          -0.03708387795635827,
          -0.12038683762404441,
          -0.16437254373759508,
          -0.14694275362655435,
          0.48809450045521074,
          -0.3971058642439643,
          -0.43672909760734396,
          -0.22817371127137542,
          -0.1466957118085898,
          -0.14668247698039244,
          -0.4443145866039658,
          -0.22845885324867687,
          -0.3559254134544577,
          -0.16249522288612217,
          -0.16168679714587172,
          -0.28739412295774935,
          -0.1507447739218162,
          -0.27933475032292726,
          0.3802780107438614,
          -0.3079479596994091,
          -0.24467291392111057,
          -0.2284942668332284,
          -0.14683838222371323,
          -0.07806823533726938,
          -0.1603271043663949,
          -0.09570508299962159,
          -0.31536577911221225,
          -0.07435553427033581,
          -0.1629347574199787,
          -0.31542949303621465,
          0.271987409135618,
          -0.2354452161560328,
          -0.3322991884319999,
          -0.2872634961132164,
          -0.2276543970896097,
          -0.14447877975451653,
          -0.16318275654972855,
          -0.15832732087320445,
          -0.39427372008604644,
          0.8649121192037461,
          -0.31522946982935557,
          -0.06018875005107189,
          -0.3450784926646245,
          -0.16416231627936403,
          -0.2284575073841712,
          -0.39494701282241007,
          -0.3139724632018602,
          -0.31163953603639,
          -0.3569241064625881,
          -0.3958403324438431,
          -0.16437260228020076,
          -0.36086360864345335,
          -0.3085796235901784,
          -0.3323373325822687,
          -0.33077500379789393,
          -0.23511068688925144,
          -0.2286076306533581,
          -0.3410496025651348,
          -0.25904321739250735,
          -0.3965794393959761,
          -0.3315409453448906,
          0.29737842693429134,
          -0.3154104659334963,
          -0.1470986880890028,
          -0.3970950565043412,
          -0.332526593308825,
          -0.11264981675640426,
          -0.33268338039560186,
          -0.16153720072467456,
          -0.28725222773341164,
          -0.14705727922555795,
          -0.23898399542079016,
          -0.1640357732005015,
          0.030637708920073732,
          -0.3440347456837046,
          -0.3322971560962001,
          -0.3832494372614999,
          -0.15545503493682078,
          -0.343362592953089,
          -0.23654195650804385,
          -0.41362301288608605,
          -0.34311227309194625,
          -0.2841516739189021,
          -0.1504867047231471,
          -0.1494347568949179,
          3.728135283666889,
          -0.396687299211317,
          -0.09106250149310259,
          -0.21517914450828882,
          0.8534685059644654,
          -0.3970499249931867,
          -0.34449886290739196,
          -0.33222478547967,
          -0.33237927713594595,
          -0.22643435372674667,
          -0.3450784926646245,
          -0.3966246232731067,
          -0.3152729994334268,
          -0.33222550105535686,
          -0.37262708783916415,
          -0.3323730183617834,
          -0.32795905422737776,
          -0.39707895184968534,
          0.29737274289780297,
          -0.3315833815061316,
          0.35477003403424934,
          -0.332572434464697,
          -0.33264303865623096,
          -0.35857019960757774,
          -0.32911680261041903,
          -0.16435432963829116,
          0.29750357626070767,
          -0.1472364912175291,
          -0.3288679585479012,
          -0.3153868563291041,
          -0.39698883091013615,
          -0.33242069393393403,
          0.4869800294035838,
          -0.332547779797175,
          -0.14962584677224502,
          -0.2889004136383306,
          -0.28497133364802524,
          -0.1643225870450788,
          -0.23630962684565804,
          -0.22133805338581086,
          -0.1494471289068812,
          -0.3133861110809281,
          -0.16245432841096705,
          -0.14695462753044586,
          -0.2886412105807148,
          -0.15165194248655223,
          -0.3962541947841843,
          -0.4226011756633201,
          -0.39499135706636973,
          -0.1352320864312355,
          -0.3433236564881503,
          -0.39615197912952993,
          -0.18979430594603816,
          -0.3377191336536429,
          -0.3920904719622645,
          -0.3324910075764774,
          -0.3324902247859158,
          -0.32560883710779726,
          0.2609551157415039,
          -0.3966307029395045,
          -0.16388464342892506,
          -0.2715327546988116,
          -0.11339918962008767,
          -0.34511285870286407,
          -0.33170123416819686,
          0.8904814134375689,
          -0.27064028995037837,
          -0.16370666785622184,
          -0.35964100513966885,
          -0.1494831305001611,
          0.6024670094808712,
          -0.15892132039862547,
          -0.020432970342061436,
          -0.1564448644770761,
          0.333523834045288,
          -0.35846096907805064,
          -0.22766286070220262,
          -0.3569621349897173,
          -0.42188874100196216,
          -0.16402605073329257,
          -0.27949829357625955,
          -0.16378940541153014,
          -0.22805778776058858,
          -0.22863566825000559,
          0.13250948740356835,
          0.297768004746195,
          -0.2795690936980159,
          -0.11742143862697685,
          3.2480205508750455,
          -0.13128291678675905,
          -0.3595854925220363,
          -0.21950268311978097,
          -0.4213931373986348,
          -0.14687509182354377,
          -0.3969032405766655,
          -0.288974546446349,
          4.41236091843142,
          -0.0899109887256374,
          -0.3449791208592405,
          1.5844212344741584,
          -0.16412400045649742,
          -0.16357533282765765,
          -0.16327606585566645,
          -0.16326298350407115,
          -0.33212594599233486,
          -0.33262595482265545,
          0.2979516667869271,
          -0.3322061078537554,
          0.6509053552715173,
          -0.3968440762433848,
          0.06301409466449796,
          -0.34484245262090135,
          -0.1829831214119301,
          -0.33258156994276106,
          -0.18134774569440468,
          -0.3280833619889878,
          -0.14929303917313883,
          0.43719984031776177,
          -0.3137317928281164,
          -0.3432172818269137,
          -0.3943870077601279,
          -0.14323710135515283,
          -0.3325318796164312,
          -0.4003920859408814,
          -0.16245253574638724,
          -0.3602690360235162,
          -0.3324021273434824,
          -0.09829687463289412,
          -0.2241768449722791,
          -0.18119306989528625,
          -0.14885122374439527,
          -0.18129332596996334,
          -0.3956359807568004,
          3.7329946680275468,
          0.20147031878848629,
          -0.27623738211003507,
          -0.12281741275522114,
          -0.32986063143331057,
          1.1358390378879246,
          0.29735552781326013,
          -0.07370160465581199,
          -0.31484345635249417,
          -0.3584560096713147,
          -0.22391892738294214,
          -0.13858758384369643,
          0.08196242319415244,
          -0.3315403207419274,
          -0.08044617079826459,
          -0.3962173392589842,
          1.0962340910090214,
          -0.22860964390652883,
          -0.18134527874145714,
          -0.35762030043791887,
          -0.17437792167269897,
          -0.16337441002011488,
          -0.3190966437881912,
          -0.33264810742034456,
          -0.35354066348632834,
          -0.22853498789815785,
          -0.14685446507594935,
          -0.19668857341500462,
          -0.361145771365419,
          -0.2759034692091081,
          -0.27994296637776533,
          8.03920187299903,
          -0.12675779147595975,
          -0.3281898263359521,
          0.30123264780786246,
          0.02882540641037796,
          -0.14273959503328937,
          -0.18793111222384415,
          -0.22810025140613668,
          -0.19827921337077867,
          -0.36012829652536943,
          -0.16394862523747175,
          0.14336887956226624,
          -0.22267178392862327,
          -0.36504525198431287,
          -0.39589398481866334,
          -0.39692056129042536,
          -0.3045618378502692,
          -0.2881341037565477,
          -0.33945259073725964,
          -0.1018660240554484,
          0.30528290506142725,
          -0.16418580351138695,
          -0.15712924629463815,
          -0.35805968471019567,
          -0.33267548536438896,
          -0.3326571858648293,
          -0.14828329393737882,
          -0.2825114057826957,
          -0.15323737021130457,
          -0.3432294206741102,
          -0.3445732778840897,
          -0.33237351135780663,
          3.931976109370542,
          -0.22770367462611435,
          -0.3990587993623666,
          -0.344762102870713,
          0.2975382093991849,
          -0.31418758074659514,
          -0.27921023077202844,
          -0.18985372258161418,
          -0.14708163524604995,
          -0.2635152680554911,
          -0.14456498658787598,
          -0.28866848681336427,
          -0.15553945512431785,
          0.30146817157936245,
          0.5924686495425852,
          2.1071518115242185,
          -0.1356329855297217,
          -0.2889208614314553,
          -0.1789218729930924,
          -0.3495032773987447,
          0.31115319934725155,
          -0.3318472273873523,
          -0.2006353712587504,
          2.2510362181589967,
          -0.3541620868240301,
          -0.27076776542929887,
          1.0188255816320166,
          -0.189362937333546,
          -0.14814585271314046,
          -0.22859179061059762,
          -0.3569045020847076,
          -0.35856965741872193,
          -0.40207716271624105,
          -0.1695979628887785,
          -0.37139256622568684,
          -0.3572882245677133,
          -0.1642104146471454,
          -0.3255488692894906,
          -0.1384702440108822,
          -0.1241936340905919,
          -0.13500022370782677,
          3.116878884727853,
          -0.3531177821556345,
          -0.39639347232569305,
          -0.2861644356220284,
          -0.34386150069191346,
          -0.10667000919250698,
          -0.3598183408770738,
          -0.3529791925908525,
          -0.2285631425674867,
          -0.19208636736614393,
          -0.3172173398486434,
          -0.1887903792055973,
          -0.13832337468414102,
          -0.04396148532390267,
          -0.26117400368145904,
          -0.15493687915407375,
          -0.14687512942722789,
          0.5576948649837759,
          -0.1432860828681781,
          0.3773483460913747,
          -0.40137127962014457,
          -0.1297311330910558,
          -0.1301232471166494,
          -0.2736845779854606,
          -0.1600003260460317,
          -0.1631019633152016,
          -0.33237745551425507,
          -0.14735210489099262,
          -0.40182771678788143,
          -0.1491257261254132,
          -0.3586867208210452,
          0.5747485155264457,
          -0.1608556912246297,
          -0.35359502717960994,
          -0.3318601020508008,
          -0.2990136356330491,
          -0.30419674198062696,
          -0.3939570998873594,
          -0.14615070152079157,
          -0.11161934706378715,
          -0.14501789065373805,
          -0.3966208581196059,
          3.74524657062077,
          0.1028504240747371,
          0.532035042076015,
          -0.39415797505928585,
          -0.10645011012190128,
          -0.331245417453551,
          -0.0805652739285516,
          -0.33207068324827044,
          -0.2719831542742918,
          -0.33258932458063833,
          -0.38824220050593816,
          -0.14775128904095858,
          -0.2462462910337068,
          -0.09483713849878189,
          -0.383988233380689,
          -0.14666511834925927,
          -0.3318669902899327,
          0.552000945583833,
          -0.32492592073483256,
          -0.20438292597798316,
          -0.39318675535300285,
          -0.330305183364489,
          -0.3453543537351514,
          -0.1642872650095233,
          -0.16224158101397998,
          -0.4091026576885285,
          -0.3139088049335642,
          3.728527353538947,
          -0.09605064728489762,
          -0.3274977217141831,
          -0.3494723464513604,
          -0.5677955112051964,
          -0.13332862315470856,
          -0.2799685696169014,
          -0.1338275691813363,
          3.738405654854833,
          -0.15051989036107086,
          3.7396510125770046,
          -0.2528648097725242,
          -0.4128655926007058,
          -0.34529015586614764,
          34.090531670475436,
          -0.29355439006339135,
          2.473906921034945,
          -0.3307514757423725,
          0.31912942268362277,
          -0.14941417590930547,
          -0.2893175607066995
         ]
        }
       ],
       "layout": {
        "legend": {
         "tracegroupgap": 0,
         "x": 0,
         "y": 1
        },
        "margin": {
         "t": 60
        },
        "scene": {
         "domain": {
          "x": [
           0,
           1
          ],
          "y": [
           0,
           1
          ]
         },
         "xaxis": {
          "title": {
           "text": "PC3"
          }
         },
         "yaxis": {
          "title": {
           "text": "PC2"
          }
         },
         "zaxis": {
          "title": {
           "text": "PC1"
          }
         }
        },
        "template": {
         "data": {
          "bar": [
           {
            "error_x": {
             "color": "#2a3f5f"
            },
            "error_y": {
             "color": "#2a3f5f"
            },
            "marker": {
             "line": {
              "color": "#E5ECF6",
              "width": 0.5
             }
            },
            "type": "bar"
           }
          ],
          "barpolar": [
           {
            "marker": {
             "line": {
              "color": "#E5ECF6",
              "width": 0.5
             }
            },
            "type": "barpolar"
           }
          ],
          "carpet": [
           {
            "aaxis": {
             "endlinecolor": "#2a3f5f",
             "gridcolor": "white",
             "linecolor": "white",
             "minorgridcolor": "white",
             "startlinecolor": "#2a3f5f"
            },
            "baxis": {
             "endlinecolor": "#2a3f5f",
             "gridcolor": "white",
             "linecolor": "white",
             "minorgridcolor": "white",
             "startlinecolor": "#2a3f5f"
            },
            "type": "carpet"
           }
          ],
          "choropleth": [
           {
            "colorbar": {
             "outlinewidth": 0,
             "ticks": ""
            },
            "type": "choropleth"
           }
          ],
          "contour": [
           {
            "colorbar": {
             "outlinewidth": 0,
             "ticks": ""
            },
            "colorscale": [
             [
              0,
              "#0d0887"
             ],
             [
              0.1111111111111111,
              "#46039f"
             ],
             [
              0.2222222222222222,
              "#7201a8"
             ],
             [
              0.3333333333333333,
              "#9c179e"
             ],
             [
              0.4444444444444444,
              "#bd3786"
             ],
             [
              0.5555555555555556,
              "#d8576b"
             ],
             [
              0.6666666666666666,
              "#ed7953"
             ],
             [
              0.7777777777777778,
              "#fb9f3a"
             ],
             [
              0.8888888888888888,
              "#fdca26"
             ],
             [
              1,
              "#f0f921"
             ]
            ],
            "type": "contour"
           }
          ],
          "contourcarpet": [
           {
            "colorbar": {
             "outlinewidth": 0,
             "ticks": ""
            },
            "type": "contourcarpet"
           }
          ],
          "heatmap": [
           {
            "colorbar": {
             "outlinewidth": 0,
             "ticks": ""
            },
            "colorscale": [
             [
              0,
              "#0d0887"
             ],
             [
              0.1111111111111111,
              "#46039f"
             ],
             [
              0.2222222222222222,
              "#7201a8"
             ],
             [
              0.3333333333333333,
              "#9c179e"
             ],
             [
              0.4444444444444444,
              "#bd3786"
             ],
             [
              0.5555555555555556,
              "#d8576b"
             ],
             [
              0.6666666666666666,
              "#ed7953"
             ],
             [
              0.7777777777777778,
              "#fb9f3a"
             ],
             [
              0.8888888888888888,
              "#fdca26"
             ],
             [
              1,
              "#f0f921"
             ]
            ],
            "type": "heatmap"
           }
          ],
          "heatmapgl": [
           {
            "colorbar": {
             "outlinewidth": 0,
             "ticks": ""
            },
            "colorscale": [
             [
              0,
              "#0d0887"
             ],
             [
              0.1111111111111111,
              "#46039f"
             ],
             [
              0.2222222222222222,
              "#7201a8"
             ],
             [
              0.3333333333333333,
              "#9c179e"
             ],
             [
              0.4444444444444444,
              "#bd3786"
             ],
             [
              0.5555555555555556,
              "#d8576b"
             ],
             [
              0.6666666666666666,
              "#ed7953"
             ],
             [
              0.7777777777777778,
              "#fb9f3a"
             ],
             [
              0.8888888888888888,
              "#fdca26"
             ],
             [
              1,
              "#f0f921"
             ]
            ],
            "type": "heatmapgl"
           }
          ],
          "histogram": [
           {
            "marker": {
             "colorbar": {
              "outlinewidth": 0,
              "ticks": ""
             }
            },
            "type": "histogram"
           }
          ],
          "histogram2d": [
           {
            "colorbar": {
             "outlinewidth": 0,
             "ticks": ""
            },
            "colorscale": [
             [
              0,
              "#0d0887"
             ],
             [
              0.1111111111111111,
              "#46039f"
             ],
             [
              0.2222222222222222,
              "#7201a8"
             ],
             [
              0.3333333333333333,
              "#9c179e"
             ],
             [
              0.4444444444444444,
              "#bd3786"
             ],
             [
              0.5555555555555556,
              "#d8576b"
             ],
             [
              0.6666666666666666,
              "#ed7953"
             ],
             [
              0.7777777777777778,
              "#fb9f3a"
             ],
             [
              0.8888888888888888,
              "#fdca26"
             ],
             [
              1,
              "#f0f921"
             ]
            ],
            "type": "histogram2d"
           }
          ],
          "histogram2dcontour": [
           {
            "colorbar": {
             "outlinewidth": 0,
             "ticks": ""
            },
            "colorscale": [
             [
              0,
              "#0d0887"
             ],
             [
              0.1111111111111111,
              "#46039f"
             ],
             [
              0.2222222222222222,
              "#7201a8"
             ],
             [
              0.3333333333333333,
              "#9c179e"
             ],
             [
              0.4444444444444444,
              "#bd3786"
             ],
             [
              0.5555555555555556,
              "#d8576b"
             ],
             [
              0.6666666666666666,
              "#ed7953"
             ],
             [
              0.7777777777777778,
              "#fb9f3a"
             ],
             [
              0.8888888888888888,
              "#fdca26"
             ],
             [
              1,
              "#f0f921"
             ]
            ],
            "type": "histogram2dcontour"
           }
          ],
          "mesh3d": [
           {
            "colorbar": {
             "outlinewidth": 0,
             "ticks": ""
            },
            "type": "mesh3d"
           }
          ],
          "parcoords": [
           {
            "line": {
             "colorbar": {
              "outlinewidth": 0,
              "ticks": ""
             }
            },
            "type": "parcoords"
           }
          ],
          "pie": [
           {
            "automargin": true,
            "type": "pie"
           }
          ],
          "scatter": [
           {
            "marker": {
             "colorbar": {
              "outlinewidth": 0,
              "ticks": ""
             }
            },
            "type": "scatter"
           }
          ],
          "scatter3d": [
           {
            "line": {
             "colorbar": {
              "outlinewidth": 0,
              "ticks": ""
             }
            },
            "marker": {
             "colorbar": {
              "outlinewidth": 0,
              "ticks": ""
             }
            },
            "type": "scatter3d"
           }
          ],
          "scattercarpet": [
           {
            "marker": {
             "colorbar": {
              "outlinewidth": 0,
              "ticks": ""
             }
            },
            "type": "scattercarpet"
           }
          ],
          "scattergeo": [
           {
            "marker": {
             "colorbar": {
              "outlinewidth": 0,
              "ticks": ""
             }
            },
            "type": "scattergeo"
           }
          ],
          "scattergl": [
           {
            "marker": {
             "colorbar": {
              "outlinewidth": 0,
              "ticks": ""
             }
            },
            "type": "scattergl"
           }
          ],
          "scattermapbox": [
           {
            "marker": {
             "colorbar": {
              "outlinewidth": 0,
              "ticks": ""
             }
            },
            "type": "scattermapbox"
           }
          ],
          "scatterpolar": [
           {
            "marker": {
             "colorbar": {
              "outlinewidth": 0,
              "ticks": ""
             }
            },
            "type": "scatterpolar"
           }
          ],
          "scatterpolargl": [
           {
            "marker": {
             "colorbar": {
              "outlinewidth": 0,
              "ticks": ""
             }
            },
            "type": "scatterpolargl"
           }
          ],
          "scatterternary": [
           {
            "marker": {
             "colorbar": {
              "outlinewidth": 0,
              "ticks": ""
             }
            },
            "type": "scatterternary"
           }
          ],
          "surface": [
           {
            "colorbar": {
             "outlinewidth": 0,
             "ticks": ""
            },
            "colorscale": [
             [
              0,
              "#0d0887"
             ],
             [
              0.1111111111111111,
              "#46039f"
             ],
             [
              0.2222222222222222,
              "#7201a8"
             ],
             [
              0.3333333333333333,
              "#9c179e"
             ],
             [
              0.4444444444444444,
              "#bd3786"
             ],
             [
              0.5555555555555556,
              "#d8576b"
             ],
             [
              0.6666666666666666,
              "#ed7953"
             ],
             [
              0.7777777777777778,
              "#fb9f3a"
             ],
             [
              0.8888888888888888,
              "#fdca26"
             ],
             [
              1,
              "#f0f921"
             ]
            ],
            "type": "surface"
           }
          ],
          "table": [
           {
            "cells": {
             "fill": {
              "color": "#EBF0F8"
             },
             "line": {
              "color": "white"
             }
            },
            "header": {
             "fill": {
              "color": "#C8D4E3"
             },
             "line": {
              "color": "white"
             }
            },
            "type": "table"
           }
          ]
         },
         "layout": {
          "annotationdefaults": {
           "arrowcolor": "#2a3f5f",
           "arrowhead": 0,
           "arrowwidth": 1
          },
          "coloraxis": {
           "colorbar": {
            "outlinewidth": 0,
            "ticks": ""
           }
          },
          "colorscale": {
           "diverging": [
            [
             0,
             "#8e0152"
            ],
            [
             0.1,
             "#c51b7d"
            ],
            [
             0.2,
             "#de77ae"
            ],
            [
             0.3,
             "#f1b6da"
            ],
            [
             0.4,
             "#fde0ef"
            ],
            [
             0.5,
             "#f7f7f7"
            ],
            [
             0.6,
             "#e6f5d0"
            ],
            [
             0.7,
             "#b8e186"
            ],
            [
             0.8,
             "#7fbc41"
            ],
            [
             0.9,
             "#4d9221"
            ],
            [
             1,
             "#276419"
            ]
           ],
           "sequential": [
            [
             0,
             "#0d0887"
            ],
            [
             0.1111111111111111,
             "#46039f"
            ],
            [
             0.2222222222222222,
             "#7201a8"
            ],
            [
             0.3333333333333333,
             "#9c179e"
            ],
            [
             0.4444444444444444,
             "#bd3786"
            ],
            [
             0.5555555555555556,
             "#d8576b"
            ],
            [
             0.6666666666666666,
             "#ed7953"
            ],
            [
             0.7777777777777778,
             "#fb9f3a"
            ],
            [
             0.8888888888888888,
             "#fdca26"
            ],
            [
             1,
             "#f0f921"
            ]
           ],
           "sequentialminus": [
            [
             0,
             "#0d0887"
            ],
            [
             0.1111111111111111,
             "#46039f"
            ],
            [
             0.2222222222222222,
             "#7201a8"
            ],
            [
             0.3333333333333333,
             "#9c179e"
            ],
            [
             0.4444444444444444,
             "#bd3786"
            ],
            [
             0.5555555555555556,
             "#d8576b"
            ],
            [
             0.6666666666666666,
             "#ed7953"
            ],
            [
             0.7777777777777778,
             "#fb9f3a"
            ],
            [
             0.8888888888888888,
             "#fdca26"
            ],
            [
             1,
             "#f0f921"
            ]
           ]
          },
          "colorway": [
           "#636efa",
           "#EF553B",
           "#00cc96",
           "#ab63fa",
           "#FFA15A",
           "#19d3f3",
           "#FF6692",
           "#B6E880",
           "#FF97FF",
           "#FECB52"
          ],
          "font": {
           "color": "#2a3f5f"
          },
          "geo": {
           "bgcolor": "white",
           "lakecolor": "white",
           "landcolor": "#E5ECF6",
           "showlakes": true,
           "showland": true,
           "subunitcolor": "white"
          },
          "hoverlabel": {
           "align": "left"
          },
          "hovermode": "closest",
          "mapbox": {
           "style": "light"
          },
          "paper_bgcolor": "white",
          "plot_bgcolor": "#E5ECF6",
          "polar": {
           "angularaxis": {
            "gridcolor": "white",
            "linecolor": "white",
            "ticks": ""
           },
           "bgcolor": "#E5ECF6",
           "radialaxis": {
            "gridcolor": "white",
            "linecolor": "white",
            "ticks": ""
           }
          },
          "scene": {
           "xaxis": {
            "backgroundcolor": "#E5ECF6",
            "gridcolor": "white",
            "gridwidth": 2,
            "linecolor": "white",
            "showbackground": true,
            "ticks": "",
            "zerolinecolor": "white"
           },
           "yaxis": {
            "backgroundcolor": "#E5ECF6",
            "gridcolor": "white",
            "gridwidth": 2,
            "linecolor": "white",
            "showbackground": true,
            "ticks": "",
            "zerolinecolor": "white"
           },
           "zaxis": {
            "backgroundcolor": "#E5ECF6",
            "gridcolor": "white",
            "gridwidth": 2,
            "linecolor": "white",
            "showbackground": true,
            "ticks": "",
            "zerolinecolor": "white"
           }
          },
          "shapedefaults": {
           "line": {
            "color": "#2a3f5f"
           }
          },
          "ternary": {
           "aaxis": {
            "gridcolor": "white",
            "linecolor": "white",
            "ticks": ""
           },
           "baxis": {
            "gridcolor": "white",
            "linecolor": "white",
            "ticks": ""
           },
           "bgcolor": "#E5ECF6",
           "caxis": {
            "gridcolor": "white",
            "linecolor": "white",
            "ticks": ""
           }
          },
          "title": {
           "x": 0.05
          },
          "xaxis": {
           "automargin": true,
           "gridcolor": "white",
           "linecolor": "white",
           "ticks": "",
           "title": {
            "standoff": 15
           },
           "zerolinecolor": "white",
           "zerolinewidth": 2
          },
          "yaxis": {
           "automargin": true,
           "gridcolor": "white",
           "linecolor": "white",
           "ticks": "",
           "title": {
            "standoff": 15
           },
           "zerolinecolor": "white",
           "zerolinewidth": 2
          }
         }
        },
        "width": 800
       }
      },
      "text/html": [
       "<div>\n",
       "        \n",
       "        \n",
       "            <div id=\"73f3df42-521c-4f27-a0dd-d4c00e96db4a\" class=\"plotly-graph-div\" style=\"height:525px; width:800px;\"></div>\n",
       "            <script type=\"text/javascript\">\n",
       "                require([\"plotly\"], function(Plotly) {\n",
       "                    window.PLOTLYENV=window.PLOTLYENV || {};\n",
       "                    \n",
       "                if (document.getElementById(\"73f3df42-521c-4f27-a0dd-d4c00e96db4a\")) {\n",
       "                    Plotly.newPlot(\n",
       "                        '73f3df42-521c-4f27-a0dd-d4c00e96db4a',\n",
       "                        [{\"customdata\": [[\"Scrypt\"], [\"Scrypt\"], [\"X13\"], [\"SHA-256\"], [\"Ethash\"], [\"Scrypt\"], [\"X11\"], [\"CryptoNight-V7\"], [\"Ethash\"], [\"Equihash\"], [\"SHA-512\"], [\"Multiple\"], [\"SHA-256\"], [\"SHA-256\"], [\"Scrypt\"], [\"X15\"], [\"X11\"], [\"Scrypt\"], [\"Scrypt\"], [\"Scrypt\"], [\"Multiple\"], [\"Scrypt\"], [\"SHA-256\"], [\"Scrypt\"], [\"Scrypt\"], [\"Scrypt\"], [\"Quark\"], [\"Groestl\"], [\"Scrypt\"], [\"Scrypt\"], [\"Scrypt\"], [\"Scrypt\"], [\"Scrypt\"], [\"X11\"], [\"Scrypt\"], [\"Groestl\"], [\"Multiple\"], [\"SHA-256\"], [\"Scrypt\"], [\"Scrypt\"], [\"Scrypt\"], [\"Scrypt\"], [\"PoS\"], [\"Scrypt\"], [\"Scrypt\"], [\"NeoScrypt\"], [\"Scrypt\"], [\"Scrypt\"], [\"Scrypt\"], [\"Scrypt\"], [\"X11\"], [\"Scrypt\"], [\"X11\"], [\"SHA-256\"], [\"Scrypt\"], [\"Scrypt\"], [\"Scrypt\"], [\"SHA3\"], [\"Scrypt\"], [\"HybridScryptHash256\"], [\"Scrypt\"], [\"Scrypt\"], [\"SHA-256\"], [\"Scrypt\"], [\"X13\"], [\"Scrypt\"], [\"SHA-256\"], [\"Scrypt\"], [\"X13\"], [\"NeoScrypt\"], [\"Scrypt\"], [\"Scrypt\"], [\"Scrypt\"], [\"Scrypt\"], [\"Scrypt\"], [\"Scrypt\"], [\"X11\"], [\"X11\"], [\"SHA-256\"], [\"Multiple\"], [\"SHA-256\"], [\"PHI1612\"], [\"X11\"], [\"SHA-256\"], [\"SHA-256\"], [\"SHA-256\"], [\"X11\"], [\"Scrypt\"], [\"Scrypt\"], [\"Scrypt\"], [\"Scrypt\"], [\"Lyra2REv2\"], [\"Scrypt\"], [\"X11\"], [\"Multiple\"], [\"SHA-256\"], [\"X13\"], [\"Scrypt\"], [\"CryptoNight\"], [\"CryptoNight\"], [\"Shabal256\"], [\"Counterparty\"], [\"Scrypt\"], [\"SHA-256\"], [\"Groestl\"], [\"Scrypt\"], [\"Scrypt\"], [\"Scrypt\"], [\"X13\"], [\"Scrypt\"], [\"Scrypt\"], [\"Scrypt\"], [\"Scrypt\"], [\"X13\"], [\"Scrypt\"], [\"Stanford Folding\"], [\"X11\"], [\"Multiple\"], [\"QuBit\"], [\"Scrypt\"], [\"Scrypt\"], [\"Scrypt\"], [\"M7 POW\"], [\"Scrypt\"], [\"SHA-256\"], [\"Scrypt\"], [\"X11\"], [\"SHA3\"], [\"X11\"], [\"Lyra2RE\"], [\"SHA-256\"], [\"QUAIT\"], [\"X11\"], [\"X11\"], [\"Scrypt\"], [\"Scrypt\"], [\"Scrypt\"], [\"Ethash\"], [\"X13\"], [\"Blake2b\"], [\"SHA-256\"], [\"X15\"], [\"X11\"], [\"SHA-256\"], [\"BLAKE256\"], [\"Scrypt\"], [\"1GB AES Pattern Search\"], [\"SHA-256\"], [\"X11\"], [\"Scrypt\"], [\"SHA-256\"], [\"SHA-256\"], [\"NIST5\"], [\"Scrypt\"], [\"Scrypt\"], [\"X11\"], [\"Dagger\"], [\"Scrypt\"], [\"X11GOST\"], [\"X11\"], [\"Scrypt\"], [\"SHA-256\"], [\"Scrypt\"], [\"PoS\"], [\"Scrypt\"], [\"X11\"], [\"X11\"], [\"SHA-256\"], [\"SHA-256\"], [\"NIST5\"], [\"X11\"], [\"Scrypt\"], [\"POS 3.0\"], [\"Scrypt\"], [\"Scrypt\"], [\"Scrypt\"], [\"X13\"], [\"X11\"], [\"X11\"], [\"Equihash\"], [\"X11\"], [\"Scrypt\"], [\"CryptoNight\"], [\"SHA-256\"], [\"SHA-256\"], [\"X11\"], [\"Scrypt\"], [\"Multiple\"], [\"Scrypt\"], [\"Scrypt\"], [\"Scrypt\"], [\"SHA-256\"], [\"Scrypt\"], [\"Scrypt\"], [\"SHA-256D\"], [\"PoS\"], [\"Scrypt\"], [\"X11\"], [\"Lyra2Z\"], [\"PoS\"], [\"X13\"], [\"X14\"], [\"PoS\"], [\"SHA-256D\"], [\"Ethash\"], [\"Equihash\"], [\"DPoS\"], [\"X11\"], [\"Scrypt\"], [\"X11\"], [\"X13\"], [\"X11\"], [\"PoS\"], [\"Scrypt\"], [\"Scrypt\"], [\"X11\"], [\"PoS\"], [\"X11\"], [\"SHA-256\"], [\"Scrypt\"], [\"X11\"], [\"Scrypt\"], [\"Scrypt\"], [\"X11\"], [\"CryptoNight\"], [\"Scrypt\"], [\"Scrypt\"], [\"Scrypt\"], [\"Scrypt\"], [\"Quark\"], [\"QuBit\"], [\"Scrypt\"], [\"CryptoNight\"], [\"Lyra2RE\"], [\"Scrypt\"], [\"SHA-256\"], [\"X11\"], [\"Scrypt\"], [\"X11\"], [\"Scrypt\"], [\"CryptoNight-V7\"], [\"Scrypt\"], [\"Scrypt\"], [\"Scrypt\"], [\"X13\"], [\"X11\"], [\"Equihash\"], [\"Scrypt\"], [\"Scrypt\"], [\"Lyra2RE\"], [\"Scrypt\"], [\"Dagger-Hashimoto\"], [\"X11\"], [\"Blake2S\"], [\"X11\"], [\"Scrypt\"], [\"PoS\"], [\"X11\"], [\"NIST5\"], [\"PoS\"], [\"X11\"], [\"Scrypt\"], [\"Scrypt\"], [\"Scrypt\"], [\"SHA-256\"], [\"X11\"], [\"Scrypt\"], [\"Scrypt\"], [\"SHA-256\"], [\"PoS\"], [\"Scrypt\"], [\"X15\"], [\"SHA-256\"], [\"Scrypt\"], [\"POS 3.0\"], [\"CryptoNight-V7\"], [\"536\"], [\"Argon2d\"], [\"Blake2b\"], [\"Cloverhash\"], [\"CryptoNight\"], [\"NIST5\"], [\"X11\"], [\"NIST5\"], [\"Skein\"], [\"Scrypt\"], [\"X13\"], [\"Scrypt\"], [\"X11\"], [\"X11\"], [\"Scrypt\"], [\"CryptoNight\"], [\"X13\"], [\"Time Travel\"], [\"Scrypt\"], [\"Keccak\"], [\"SkunkHash v2 Raptor\"], [\"X11\"], [\"Skein\"], [\"SHA-256\"], [\"X11\"], [\"Scrypt\"], [\"VeChainThor Authority\"], [\"Scrypt\"], [\"PoS\"], [\"Scrypt\"], [\"Scrypt\"], [\"Scrypt\"], [\"Scrypt\"], [\"Scrypt\"], [\"Scrypt\"], [\"Scrypt\"], [\"CryptoNight\"], [\"SHA-512\"], [\"Ouroboros\"], [\"X11\"], [\"Equihash\"], [\"NeoScrypt\"], [\"X11\"], [\"Scrypt\"], [\"NeoScrypt\"], [\"Lyra2REv2\"], [\"Equihash\"], [\"Scrypt\"], [\"SHA-256\"], [\"NIST5\"], [\"PHI1612\"], [\"Dagger\"], [\"Scrypt\"], [\"Quark\"], [\"Scrypt\"], [\"POS 2.0\"], [\"Scrypt\"], [\"SHA-256\"], [\"X11\"], [\"NeoScrypt\"], [\"Ethash\"], [\"NeoScrypt\"], [\"X11\"], [\"DPoS\"], [\"NIST5\"], [\"X13\"], [\"Multiple\"], [\"Scrypt\"], [\"CryptoNight\"], [\"CryptoNight\"], [\"Ethash\"], [\"NIST5\"], [\"Quark\"], [\"X11\"], [\"CryptoNight-V7\"], [\"Scrypt\"], [\"Scrypt\"], [\"Scrypt\"], [\"X11\"], [\"BLAKE256\"], [\"X11\"], [\"NeoScrypt\"], [\"Quark\"], [\"NeoScrypt\"], [\"Scrypt\"], [\"Scrypt\"], [\"Scrypt\"], [\"X11\"], [\"X11\"], [\"SHA-256\"], [\"C11\"], [\"POS 3.0\"], [\"Ethash\"], [\"Scrypt\"], [\"CryptoNight\"], [\"SkunkHash\"], [\"Scrypt\"], [\"CryptoNight\"], [\"Scrypt\"], [\"Dagger\"], [\"Lyra2REv2\"], [\"X13\"], [\"Proof-of-BibleHash\"], [\"SHA-256 + Hive\"], [\"Scrypt\"], [\"Scrypt\"], [\"X11\"], [\"C11\"], [\"Proof-of-Authority\"], [\"X11\"], [\"XEVAN\"], [\"Scrypt\"], [\"VBFT\"], [\"Ethash\"], [\"CryptoNight\"], [\"Scrypt\"], [\"IMesh\"], [\"NIST5\"], [\"Scrypt\"], [\"Scrypt\"], [\"Equihash\"], [\"Scrypt\"], [\"Lyra2Z\"], [\"Green Protocol\"], [\"PoS\"], [\"Scrypt\"], [\"Semux BFT consensus\"], [\"X11\"], [\"Quark\"], [\"PoS\"], [\"CryptoNight\"], [\"X16R\"], [\"Scrypt\"], [\"NIST5\"], [\"Lyra2RE\"], [\"XEVAN\"], [\"Tribus\"], [\"Scrypt\"], [\"Lyra2Z\"], [\"CryptoNight\"], [\"CryptoNight Heavy\"], [\"CryptoNight\"], [\"Scrypt\"], [\"Scrypt\"], [\"Jump Consistent Hash\"], [\"SHA-256D\"], [\"CryptoNight\"], [\"Scrypt\"], [\"X15\"], [\"Scrypt\"], [\"Quark\"], [\"SHA-256\"], [\"DPoS\"], [\"X16R\"], [\"HMQ1725\"], [\"X11\"], [\"X16R\"], [\"Quark\"], [\"Quark\"], [\"Scrypt\"], [\"Lyra2REv2\"], [\"Quark\"], [\"Scrypt\"], [\"Scrypt\"], [\"CryptoNight-V7\"], [\"Cryptonight-GPU\"], [\"XEVAN\"], [\"CryptoNight Heavy\"], [\"X11\"], [\"X11\"], [\"Scrypt\"], [\"PoS\"], [\"SHA-256\"], [\"Keccak\"], [\"X11\"], [\"X11\"], [\"Scrypt\"], [\"SHA-512\"], [\"X16R\"], [\"ECC 256K1\"], [\"Equihash\"], [\"XEVAN\"], [\"Lyra2Z\"], [\"SHA-256\"], [\"XEVAN\"], [\"X11\"], [\"CryptoNight\"], [\"Quark\"], [\"Blake\"], [\"Blake\"], [\"Equihash\"], [\"Exosis\"], [\"Scrypt\"], [\"Scrypt\"], [\"Equihash\"], [\"Quark\"], [\"Equihash\"], [\"Quark\"], [\"Scrypt\"], [\"QuBit\"], [\"X11\"], [\"Scrypt\"], [\"XEVAN\"], [\"SHA-256D\"], [\"X11\"], [\"SHA-256\"], [\"X13\"], [\"SHA-256\"], [\"X11\"], [\"DPoS\"], [\"Scrypt\"], [\"Scrypt\"], [\"X11\"], [\"NeoScrypt\"], [\"Scrypt\"], [\"Blake\"], [\"Scrypt\"], [\"SHA-256\"], [\"Scrypt\"], [\"X11\"], [\"Scrypt\"], [\"Scrypt\"], [\"SHA-256\"], [\"X11\"], [\"SHA-256\"], [\"Scrypt\"], [\"Scrypt\"], [\"Scrypt\"], [\"Groestl\"], [\"X11\"], [\"Scrypt\"], [\"PoS\"], [\"Scrypt\"], [\"Scrypt\"], [\"X11\"], [\"SHA-256\"], [\"DPoS\"], [\"Scrypt\"], [\"Scrypt\"], [\"NeoScrypt\"], [\"SHA3-256\"], [\"Multiple\"], [\"X13\"], [\"Equihash+Scrypt\"], [\"DPoS\"], [\"Ethash\"], [\"DPoS\"], [\"SHA-256\"], [\"Leased POS\"], [\"PoS\"], [\"TRC10\"], [\"PoS\"], [\"SHA-256\"], [\"Scrypt\"], [\"CryptoNight\"], [\"Equihash\"], [\"Scrypt\"]], \"hovertemplate\": \"<b>%{hovertext}</b><br><br>PC3=%{x}<br>PC2=%{y}<br>PC1=%{z}<br>Algorithm=%{customdata[0]}<extra></extra>\", \"hovertext\": [\"42 Coin\", \"404Coin\", \"EliteCoin\", \"Bitcoin\", \"Ethereum\", \"Litecoin\", \"Dash\", \"Monero\", \"Ethereum Classic\", \"ZCash\", \"Bitshares\", \"DigiByte\", \"BitcoinDark\", \"PayCoin\", \"ProsperCoin\", \"KoboCoin\", \"Spreadcoin\", \"Argentum\", \"Aurora Coin\", \"BlueCoin\", \"MyriadCoin\", \"MoonCoin\", \"ZetaCoin\", \"SexCoin\", \"Quatloo\", \"EnergyCoin\", \"QuarkCoin\", \"Riecoin\", \"Digitalcoin \", \"BitBar\", \"Catcoin\", \"CryptoBullion\", \"CannaCoin\", \"CryptCoin\", \"CasinoCoin\", \"Diamond\", \"Verge\", \"DevCoin\", \"EarthCoin\", \"E-Gulden\", \"Einsteinium\", \"Emerald\", \"Exclusive Coin\", \"FlutterCoin\", \"Franko\", \"FeatherCoin\", \"GrandCoin\", \"GlobalCoin\", \"GoldCoin\", \"HoboNickels\", \"HyperStake\", \"Infinite Coin\", \"IOCoin\", \"IXcoin\", \"KrugerCoin\", \"LuckyCoin\", \"Litebar \", \"MaxCoin\", \"MegaCoin\", \"MediterraneanCoin\", \"MintCoin\", \"MinCoin\", \"MazaCoin\", \"Nautilus Coin\", \"NavCoin\", \"NobleCoin\", \"Namecoin\", \"NyanCoin\", \"OpalCoin\", \"Orbitcoin\", \"PotCoin\", \"PhoenixCoin\", \"Reddcoin\", \"RonPaulCoin\", \"StableCoin\", \"SmartCoin\", \"SuperCoin\", \"SyncCoin\", \"SysCoin\", \"TeslaCoin\", \"TigerCoin\", \"TittieCoin\", \"TorCoin\", \"TerraCoin\", \"UnbreakableCoin\", \"Unobtanium\", \"UroCoin\", \"UnitaryStatus Dollar\", \"UltraCoin\", \"ViaCoin\", \"VeriCoin\", \"Vertcoin\", \"WorldCoin\", \"X11 Coin\", \"Crypti\", \"JouleCoin\", \"StealthCoin\", \"ZCC Coin\", \"ByteCoin\", \"DigitalNote \", \"BurstCoin\", \"StorjCoin\", \"MonaCoin\", \"Neutron\", \"FairCoin\", \"Gulden\", \"RubyCoin\", \"PesetaCoin\", \"Kore\", \"Wild Beast Coin\", \"Dnotes\", \"Flo\", \"8BIT Coin\", \"Sativa Coin\", \"ArtByte\", \"Folding Coin\", \"Ucoin\", \"Unitus\", \"CypherPunkCoin\", \"OmniCron\", \"Vtorrent\", \"GreenCoin\", \"Cryptonite\", \"MasterCoin\", \"SoonCoin\", \"1Credit\", \"IslaCoin\", \"Nexus\", \"MarsCoin \", \"Crypto\", \"Anarchists Prime\", \"Droidz\", \"BowsCoin\", \"Squall Coin\", \"Song Coin\", \"BitZeny\", \"Diggits\", \"Expanse\", \"Paycon\", \"Siacoin\", \"Emercoin\", \"EverGreenCoin\", \"MindCoin\", \"I0coin\", \"Decred\", \"Revolution VR\", \"HOdlcoin\", \"EDRCoin\", \"Hitcoin\", \"Gamecredits\", \"DubaiCoin\", \"CarpeDiemCoin\", \"PWR Coin\", \"BillaryCoin\", \"GPU Coin\", \"Adzcoin\", \"SoilCoin\", \"YoCoin\", \"SibCoin\", \"EuropeCoin\", \"ZeitCoin\", \"SwingCoin\", \"SafeExchangeCoin\", \"Nebuchadnezzar\", \"Francs\", \"BolivarCoin\", \"Ratecoin\", \"Revenu\", \"Clockcoin\", \"VIP Tokens\", \"BitSend\", \"Omni\", \"Let it Ride\", \"PutinCoin\", \"iBankCoin\", \"Frankywillcoin\", \"MudraCoin\", \"PizzaCoin\", \"Lutetium Coin\", \"Komodo\", \"GoldBlocks\", \"CarterCoin\", \"Karbo\", \"BitTokens\", \"ZayedCoin\", \"MustangCoin\", \"ZoneCoin\", \"Circuits of Value\", \"RootCoin\", \"DopeCoin\", \"BitCurrency\", \"DollarCoin\", \"Swiscoin\", \"Shilling\", \"BuzzCoin\", \"Opair\", \"PesoBit\", \"Halloween Coin\", \"ZCoin\", \"CoffeeCoin\", \"RoyalCoin\", \"GanjaCoin V2\", \"TeamUP\", \"LanaCoin\", \"Elementrem\", \"ZClassic\", \"ARK\", \"InsaneCoin\", \"KiloCoin\", \"ArtexCoin\", \"EmberCoin\", \"XenixCoin\", \"FreeCoin\", \"PLNCoin\", \"AquariusCoin\", \"Kurrent\", \"Creatio\", \"Eternity\", \"Eurocoin\", \"BitcoinFast\", \"Stakenet\", \"BitConnect Coin\", \"MoneyCoin\", \"Enigma\", \"Cannabis Industry Coin\", \"Russiacoin\", \"PandaCoin\", \"GameUnits\", \"GAKHcoin\", \"Allsafe\", \"LiteCreed\", \"OsmiumCoin\", \"Bikercoins\", \"HexxCoin\", \"Klingon Empire Darsek\", \"Internet of People\", \"KushCoin\", \"Printerium\", \"PacCoin\", \"Impeach\", \"Citadel\", \"Zilbercoin\", \"FirstCoin\", \"BeaverCoin\", \"FindCoin\", \"VaultCoin\", \"Zero\", \"OpenChat\", \"Canada eCoin\", \"Zoin\", \"RenosCoin\", \"DubaiCoin\", \"VirtacoinPlus\", \"TajCoin\", \"Impact\", \"EB3coin\", \"Atmos\", \"HappyCoin\", \"Coinonat\", \"MacronCoin\", \"Condensate\", \"Independent Money System\", \"ArgusCoin\", \"LomoCoin\", \"ProCurrency\", \"GoldReserve\", \"BenjiRolls\", \"GrowthCoin\", \"ILCoin\", \"Phreak\", \"Degas Coin\", \"HTML5 Coin\", \"Ultimate Secure Cash\", \"EquiTrader\", \"QTUM\", \"Quantum Resistant Ledger\", \"Espers\", \"Dynamic\", \"Nano\", \"ChanCoin\", \"Dinastycoin\", \"Denarius\", \"DigitalPrice\", \"Virta Unique Coin\", \"Bitcoin Planet\", \"Unify\", \"BritCoin\", \"SocialCoin\", \"ArcticCoin\", \"DAS\", \"Linda\", \"LeviarCoin\", \"DeepOnion\", \"Bitcore\", \"gCn Coin\", \"SmartCash\", \"Signatum\", \"Onix\", \"Cream\", \"Bitcoin Cash\", \"Monoeci\", \"Draftcoin\", \"Vechain\", \"Sojourn Coin\", \"Stakecoin\", \"NewYorkCoin\", \"FrazCoin\", \"Kronecoin\", \"AdCoin\", \"Linx\", \"CoinonatX\", \"Ethereum Dark\", \"Sumokoin\", \"Obsidian\", \"Cardano\", \"Regalcoin\", \"BitcoinZ\", \"TrezarCoin\", \"Elements\", \"TerraNovaCoin\", \"VIVO Coin\", \"Rupee\", \"Bitcoin Gold\", \"WomenCoin\", \"Theresa May Coin\", \"NamoCoin\", \"LUXCoin\", \"Pirl\", \"Xios\", \"Bitcloud 2.0\", \"eBoost\", \"KekCoin\", \"BlackholeCoin\", \"Infinity Economics\", \"Pura\", \"Innova\", \"Ellaism\", \"GoByte\", \"Magnet\", \"Lamden Tau\", \"Electra\", \"Bitcoin Diamond\", \"SHIELD\", \"Cash & Back Coin\", \"UltraNote\", \"BitCoal\", \"DaxxCoin\", \"Bulwark\", \"Kalkulus\", \"AC3\", \"Lethean\", \"GermanCoin\", \"LiteCoin Ultra\", \"PopularCoin\", \"PhantomX\", \"Photon\", \"Sucre\", \"SparksPay\", \"Digiwage\", \"GunCoin\", \"IrishCoin\", \"Trollcoin\", \"Litecoin Plus\", \"Monkey Project\", \"Pioneer Coin\", \"UnitedBitcoin\", \"Interzone\", \"TokenPay\", \"1717 Masonic Commemorative Token\", \"My Big Coin\", \"TurtleCoin\", \"MUNcoin\", \"Unified Society USDEX\", \"Niobio Cash\", \"ShareChain\", \"Travelflex\", \"KREDS\", \"Tokyo Coin\", \"BiblePay\", \"LitecoinCash\", \"BitFlip\", \"LottoCoin\", \"Crypto Improvement Fund\", \"Stipend\", \"Poa Network\", \"Pushi\", \"Ellerium\", \"Velox\", \"Ontology\", \"Callisto Network\", \"BitTube\", \"Poseidon\", \"Aidos Kuneen\", \"Bitspace\", \"Briacoin\", \"Ignition\", \"Bitrolium\", \"MedicCoin\", \"Alpenschillling\", \"Bitcoin Green\", \"Deviant Coin\", \"Abjcoin\", \"Semux\", \"FuturoCoin\", \"Carebit\", \"Zealium\", \"Monero Classic\", \"Proton\", \"iDealCash\", \"Jumpcoin\", \"Infinex\", \"Bitcoin Incognito\", \"KEYCO\", \"HollyWoodCoin\", \"GINcoin\", \"PlatinCoin\", \"Loki\", \"Newton Coin\", \"Swisscoin\", \"Xt3ch\", \"MassGrid\", \"TheVig\", \"PluraCoin\", \"EmaratCoin\", \"Dekado\", \"Lynx\", \"Poseidon Quark\", \"BitcoinWSpectrum\", \"Muse\", \"Motion\", \"PlusOneCoin\", \"Axe\", \"Trivechain\", \"Dystem\", \"Giant\", \"Peony Coin\", \"Absolute Coin\", \"Vitae\", \"HexCoin\", \"TPCash\", \"Webchain\", \"Ryo\", \"Urals Coin\", \"Qwertycoin\", \"ARENON\", \"EUNO\", \"MMOCoin\", \"Ketan\", \"Project Pai\", \"XDNA\", \"PAXEX\", \"Azart\", \"ThunderStake\", \"Kcash\", \"Xchange\", \"Acute Angle Cloud\", \"CrypticCoin\", \"Bettex coin\", \"Actinium\", \"Bitcoin SV\", \"BitMoney\", \"Junson Ming Chan Coin\", \"FREDEnergy\", \"HerbCoin\", \"Universal Molecule\", \"Lithium\", \"PirateCash\", \"Exosis\", \"Block-Logic\", \"Oduwa\", \"Beam\", \"Galilel\", \"Bithereum\", \"Crypto Sports\", \"Credit\", \"SLICE\", \"Dash Platinum\", \"Nasdacoin\", \"Beetle Coin\", \"Titan Coin\", \"Award\", \"BLAST\", \"Bitcoin Rhodium\", \"GlobalToken\", \"Insane Coin\", \"ALAX\", \"LiteDoge\", \"SolarCoin\", \"TruckCoin\", \"UFO Coin\", \"OrangeCoin\", \"BlakeCoin\", \"BitstarCoin\", \"NeosCoin\", \"HyperCoin\", \"PinkCoin\", \"Crypto Escudo\", \"AudioCoin\", \"IncaKoin\", \"Piggy Coin\", \"Crown Coin\", \"Genstake\", \"SmileyCoin\", \"XiaoMiCoin\", \"Groestlcoin\", \"CapriCoin\", \" ClubCoin\", \"Radium\", \"Bata\", \"Pakcoin\", \"Creditbit \", \"OKCash\", \"Lisk\", \"HiCoin\", \"WhiteCoin\", \"FriendshipCoin\", \"Fiii\", \"JoinCoin\", \"Triangles Coin\", \"Vollar\", \"EOS\", \"Reality Clash\", \"Oxycoin\", \"TigerCash\", \"Waves\", \"Particl\", \"BitTorrent\", \"Nxt\", \"ZEPHYR\", \"Gapcoin\", \"Beldex\", \"Horizen\", \"BitcoinPlus\"], \"legendgroup\": \"\", \"marker\": {\"color\": \"#636efa\", \"symbol\": \"circle\"}, \"mode\": \"markers\", \"name\": \"\", \"scene\": \"scene\", \"showlegend\": false, \"type\": \"scatter3d\", \"x\": [-0.5591188318623601, -0.5594643761908605, -0.5893973126322529, 0.2202279214523815, 0.37872653004352497, -0.01090488550055068, -0.5203381821041124, 0.3916862477453781, 0.37871986265110025, 0.345982823500446, 0.030182454770433093, 0.331342180049267, -0.32800265014534885, -0.034008803651871575, -0.010885338591825318, -0.6586743833268565, 0.027896997621404847, -0.01088836961103957, -0.5591249476247255, -0.5593194784216262, 0.33485189767178525, -0.01979778531444888, 0.22017638280598004, -0.01092954892972082, -0.010887674525612788, -0.5591576911503501, 0.059046849832015025, 0.17436129425559962, -0.010894708043907108, -0.5591188569011167, -0.0108857969754736, -0.5591191831834842, -0.010884820004769844, 0.02789898689367061, -0.5737351244989479, -0.37385805714658193, 0.3300170556738115, 0.21381835950620653, -0.015155859522971004, -0.010890120005125051, -0.010959102207329131, -0.010889928976790237, -0.09410480741171422, -0.359249373863362, -0.010883651301494901, 0.2693446890142189, -0.011195188485253362, -0.010905392051398064, -0.010897861309340971, -0.5591498053559272, -0.2268678358964701, -0.0415936001470423, -0.5203409039046852, 0.22022692293882126, -0.010937013828056657, -0.010889596562588656, -0.010883409675629454, -0.5721935668428728, -0.010896051852558179, 0.38833192504062625, -0.2718457667118052, -0.010885094555679485, -0.32856749328120755, -0.26512730989398076, -0.5728793062283574, -0.01197839043348518, 0.22022892899721505, -0.010996543727633906, -0.5728632239298522, -0.27881852625975706, -0.5591988967182637, -0.5591444609448807, -0.5683757516818998, -0.010883865801404487, -0.010896479876449167, -0.010892299936920301, -0.22635382472032703, -0.5203348199634499, 0.22003557074695673, 0.08116496469992672, 0.2202192308696284, -0.3083755183777342, -0.5203355038564866, 0.22022585249043644, 0.2202314931996109, 0.22023400056198122, 0.02790060143155413, -0.5595029907938927, -0.5591370160743491, -0.010890873887129553, -0.445089822412707, 0.21664653969629255, -0.010926959549143635, -0.5203371421043437, 0.0811610531357689, 0.2202206483467956, -0.5728688879756, -0.5591887779483299, 0.3543507471506907, 0.4143426437304749, -0.8737966417969186, -0.11555714931207114, -0.010907003732747115, -0.328015664458832, -0.37387370892388705, -0.011053085657068605, -0.26513040913364144, -0.010930316037063114, -0.5728593552499919, -0.010883148072700716, -0.2651885805595156, -0.010934826312337952, -0.5591192953454316, -0.5728609111426737, -0.011156503079167372, 0.44215219099116576, -0.2263391265271576, 0.3354108647625264, 0.272613576890837, -0.010886309787544119, -0.5591229605588909, -0.01257098304329644, 0.38500648383334357, -0.010883239610919615, 0.22022964698431935, -0.013018884351839448, -0.520335297547954, -0.3574974348358299, 0.027890042005439406, 0.4002042500251487, 0.2202281650468269, -0.6899120940532572, 0.027895485842567867, -0.3678047244030293, -0.010898193528455146, -0.01091271013957316, -0.2651557234969547, 0.37875682671762273, -0.5728668749279474, 0.4569843244891094, -0.32803854484019523, -0.6586630754205988, 0.02789560070204047, 0.2202269519491069, -0.3723377774286722, -0.010954216168097632, 0.2033194542613179, -0.32800340193537514, -0.5244234774033687, -0.010907031730817359, -0.32800359576434407, 0.21286721589172858, -0.5583720358552442, -0.5591226484152391, -0.26513973834639265, 0.027884788159101316, 0.43414478139904283, -0.01088713895381704, 0.3758371193033863, -0.5203470206076569, -0.279094496144829, -0.32800404318564236, -0.5609037441628842, -0.09410979361370611, -0.010885568779445498, 0.02789609075058415, -0.520379048884803, -0.3280072806056603, -0.3280191821515784, -0.5552208658161091, -0.5203457473889077, -0.010883238583799387, -0.12954790762427576, -0.5594220114592752, -0.5591212903375967, -0.5591527302052869, -0.27886765326794855, 0.027899967171573514, -0.22656052506680766, 0.21839123045039052, -0.520340894918069, -0.5591345515302666, 0.41675297638181447, -0.3280024079658447, 0.22023187217592796, -0.5203350968756586, -0.559120134677487, 0.33508779879016937, -0.5591194444031136, -0.010924568711174039, -0.2651753789660975, 0.2202309472244453, -0.4217020856257119, -0.010887237171576993, -0.6665802149747589, -0.09412810940167966, -0.5591294173272904, -0.5204532198367545, 0.4042669965677484, -0.09415090258107381, -0.27886227882668996, -0.7766022723969949, -0.0941156283813851, -0.6604498328540742, 0.37875165003463185, 0.3459833822540055, -0.010539597445639768, -0.5203413081083764, -0.011177169343484165, 0.027629182023561943, -0.6019897201861617, -0.5203361257830491, -0.0941199631208541, -0.5591251229237351, -0.5591205803978377, 0.027876312477233853, -0.09410979361370611, -0.5203381290477422, -0.328006117484068, -0.5591259903760522, -0.4006353443719694, -0.5591229808206222, -0.5591373836723131, -0.5203351928932065, 0.4167548822186812, -0.5591248203462202, -0.2765537864011467, -0.5591202303068589, -0.559119955846121, -0.19510792100525776, -0.27563159054290065, -0.010883374936444527, 0.41675214355404905, 0.4002092922881755, -0.5591380071019736, -0.3280030176032881, -0.5203368236885314, -0.5591230290824551, 0.025409869917247446, -0.5591194383547108, 0.3916839206872966, -0.26512402486096476, -0.39126373302237455, -0.010884091321148254, -0.27886635501176066, 0.02786817236885836, 0.3459830620586102, -0.5594578154197573, -0.010916878528565288, 0.40020377318676825, -0.2651340079206373, 0.41757493863081724, -0.5203412974953016, -0.6598318483663578, -0.520372306817805, -0.010996131142396231, -0.09414066752936058, -0.5203439368656753, -0.006960939996158332, -0.09423905620396629, -0.5203848453872402, -0.5591210196362058, -0.5591198584157405, -0.5591422052417074, -0.03577763806592543, -0.5203411703629751, -0.010890256786774077, -0.2652614505131633, 0.2197599284591152, -0.09410730707714218, -0.5591280138921428, -0.6735864081928754, -0.03401263679575624, -0.010889018759793655, -0.1295688428327698, 0.39166744231926365, -0.7321068972291429, 0.33114136936856114, 0.46738573405749545, 0.32331762422144616, 0.41613787565908167, -0.5551939747925202, 0.02788756534449845, -0.5552150864064069, -0.6810737872761844, -0.010889203022633496, -0.5728658502835409, -0.010886402599567965, 0.027891366383989737, 0.027899715664733222, -0.5631357076414072, 0.4167499531287278, -0.5728657974594304, 0.5151121347129715, -0.06701372367872499, 0.11964071548207712, -0.043514791727483036, 0.027836771705997704, -0.6810865845475254, 0.2202278998492162, -0.5203390092563891, -0.26512812249966117, 4.154716180264853, -0.011126945683452455, -0.09410570708909799, -0.056039968586987544, -0.010886558154782303, -0.010890491057482521, -0.010895659964011062, -0.010895997771085065, -0.559126122020727, -0.5591202555791239, 0.4167507899432243, 0.03112172825277775, -0.09003693537199417, -0.5203377396219527, 0.34385247458617063, -0.2788843793469759, 0.027005719247659214, -0.5591195573131198, 0.26941643816227845, -0.037582282300762396, 0.3459797228775861, -0.5750011732932127, -0.3280331206763669, -0.5553972920213311, -0.6018108661512857, 0.434132917645719, -0.5591199981766375, -0.4891155991329351, -0.010916924818009075, -0.07534994691201362, -0.5591243419346088, -0.03705557785590217, 0.0278375296609071, 0.2694153226594219, 0.3787500048858769, 0.26941580055110087, -0.5203502244982162, -0.010605106299548174, -0.5648564353607404, -0.5729212674744306, 0.3352639880999594, -0.5591587500901848, 0.40869377691814823, 0.41675396746118387, 0.3783638971983778, -0.2612002452197569, -0.1951100699951142, 0.027862852838200555, 0.3915291431132469, -0.5618305022477865, -0.5591249727529114, -0.012250875311853126, -0.5203502449180982, 0.16431103215021442, 0.02789918759847956, 0.2694154149710797, -0.195115657824094, 0.26931210608713263, -0.010898877505013515, -0.5593263519145029, -0.559119715546924, -0.22633969205536786, 0.027897771590196088, 0.22022723386468035, 0.1421227220083894, -0.12954198101341985, 0.12452118927349565, -0.27211275237364263, 0.3767603062729326, 0.4098336338526387, -0.5591983747965723, 0.41670558660432366, -0.01427286533439729, 0.4341110669467549, 0.21643582157882277, -0.27895272477861677, 13.946299076959871, 13.754114593050263, -0.010887888319314884, -0.01588615657568519, 0.027822653860884845, -0.40611278520329347, 9.829554481446893, -0.5203360844868766, -0.5843044205235123, -0.2651327780564713, -0.15887262372156827, 0.3785314443653092, 0.4167071861579981, -0.010884802386757778, 0.4780365099529423, -0.5551979399878277, -0.5591191685200657, -0.559119321211991, 0.34596148549315064, -0.26521783696381634, 0.4042542852910673, -0.04837292294526817, -0.09411196483454941, -0.5591226482604963, -0.10428243740914114, 0.027888619224767496, -0.4891500267077258, -0.09410836839455891, 0.4167501938318509, -0.012800545628431036, -0.559681128657538, -0.006963763770481174, 0.4002078970791823, -0.43177662704753106, 0.3147321236620959, -0.2651346511172544, 0.4042674333564099, 0.41674172267432696, 0.439200953481352, 0.3994445342931411, -0.5625764642787927, -0.2651252559325306, 0.4333929988713382, -0.659946681948901, 0.41655560584598933, -0.5591276023325564, -0.36467283785107657, -0.4127677719775137, -0.1951201993868289, -0.03402530822028246, -0.055391095471821285, 0.2414376067833532, 0.5096608789358236, 0.027898918496165267, -0.30680869256222987, -0.19510697551487396, -0.4891032470731325, -0.26551403197531, -0.33157658223255565, -0.19512743085178483, -0.010883990139949833, -0.5591437537059185, 0.391646132445955, 0.38095600538302155, -0.03607662459028852, 0.40349222607990354, -0.22634517440908034, -0.5203456968828707, -0.26516188956001024, -0.0941108344095486, 0.21952220430695393, -0.42778134239120646, -0.22634155683232643, 0.027898818418613386, -0.5598714106659624, 0.31506346801215596, 0.2414352836957955, 0.09301003034461164, 0.34447189153459007, -0.29030919251209175, 0.40426362764819196, 0.22022790082020327, -0.5394604158613133, -0.23177215712449253, 0.41597854099500375, -0.4891136624022064, 0.39240227440806213, 0.3923996236053847, 0.0917401539441272, 0.33320294065219797, -0.010896957265964081, -0.5591239856519581, 0.3459682723445691, -0.48910746774185243, 0.34597698350985445, -0.1951051729042603, -0.570589126671705, 0.27260918374179777, -0.2263384961881772, -0.5591272698883197, -0.5843773212662611, -0.6603329846177963, -0.5203494393001652, 0.22021607129132362, -0.024623054097555264, 0.2202034514871672, -0.5203430237227766, -0.010841512316203823, -0.5647685899693047, -0.0131780167817587, -0.5204114167236932, 0.2681178050480216, -0.5591245918690343, 0.3922353292980538, -0.5591265888432062, -0.03400660017492693, -0.5591218730734806, -0.5204842138617396, -0.011152610748361637, -0.559672278708532, -0.33367093558132177, -0.5205141004954426, 0.22022583621793407, -0.5591381261644913, -0.021385484072849435, -0.5592557882818948, 0.17435330735881233, -0.5204032328180068, -0.5591552668086779, -0.0941044295092215, -0.010884741131393687, -0.010909258966244537, -0.48370144989544095, -0.3280277503674986, -0.010544137332585857, -0.26851194324130634, -0.5592053718096277, -0.2788191723854716, 20.06964358248622, 0.3354303080298091, -0.5728584852730386, 0.32934677588094613, -0.01082478411088909, 0.3787522322710896, -0.01085694122310317, -0.034343709285986006, 9.889514292661135, -0.09410614570658868, -0.6862631272680328, 0.016339137686690847, 0.010199708713094714, -0.5591293504730205, 0.416413648740722, 0.3459828508203044, -0.26512188887686816], \"y\": [1.0240593104574405, 1.0243829409705636, 1.7490532666383156, -1.3010960842023636, -2.0450980604127493, -1.13290809454692, 1.209588698094441, -2.236571135227127, -2.045168868210651, -2.157099302012928, 1.9751673134375467, -1.8191057035268592, 0.8558639753230393, 0.6455875186861777, -1.1329137077339337, 1.8896529888386235, -0.9473780284803268, -1.132925656950027, 1.0240622018885026, 1.0243664036439102, -1.817147699621421, -1.2674018369079814, -1.301074604719487, -1.1329343850679738, -1.1329406086242702, 1.0241187853133125, -0.4544428500544893, -1.157131318330745, -1.132909847532346, 1.024059155909331, -1.13291300616951, 1.0240594624037902, -1.132911469263778, -0.9473803015510285, 0.33633664977830247, 0.9998426695149772, -1.8153628151576198, -1.2993792692465638, -1.131577434907779, -1.132906389694821, -1.1329083618381728, -1.1329109255718022, 1.570444335306013, 0.2855943091860904, -1.1329125234009536, -1.640649321288097, -1.132979408708192, -1.1329019184375966, -1.1329143107046244, 1.0240604231847261, 1.0001182902316208, -1.120857107097433, 1.2095928638592097, -1.3010945559593925, -1.1329289088373438, -1.1329068050598918, -1.1329090795324441, 2.5015762014081497, -1.1329054121317614, -2.226917430081086, 0.8240654658004021, -1.1329098377309708, 0.855803702507758, 0.8137765049097243, 1.8449663706988437, -1.1370192682671867, -1.3010976262678704, -1.1328654105882299, 1.844941756451526, 0.5163361993590797, 1.0240198264526221, 1.0240607304767821, 1.0382271928670785, -1.1329159618661808, -1.1329849978491962, -1.1329147036191758, 0.9993315868751613, 1.2095920389012278, -1.3011361533088603, 0.12942412643092338, -1.3010928178279442, 1.6325598436167668, 1.2095892282660783, -1.3011010188550742, -1.3011243114417812, -1.3010973835961117, -0.9473758287135747, 1.0240300355887209, 1.0240485644221329, -1.132906007411149, 0.33709831923283184, -1.2128779018848226, -1.1329442970921804, 1.2095934716130952, 0.12946869046551052, -1.3010942111390231, 1.8449504253754863, 1.023780591064714, -2.1834778456719937, -2.2079916685379612, 0.5466809493238924, 1.516471555288486, -1.132913000083397, 0.8558661483990506, 0.9998683145282574, -1.133296965491265, 0.8137874901614122, -1.1329009549600133, 1.8449312060895409, -1.1329099729385235, 0.8136836359994952, -1.1328915883551762, 1.024060019842822, 1.8449343589575988, -1.1328763575217513, -2.211217142333824, 0.9993013755629232, -1.8172316625094689, -1.5860932843503963, -1.1329054206365083, 1.024057914054941, -1.1341834288500643, -2.1989566963376492, -1.1329090580037684, -1.3010987251600559, -1.1651313063341955, 1.2095927702386806, 3.368249641647403, -0.9473723978358832, -2.213350898080918, -1.3011090949565247, 2.036635266362579, -0.9473761004487598, 0.7636403555973685, -1.1329670367334175, -1.132960157139366, 0.8137876569348393, -2.045150952051817, 1.8449280557122023, -2.1704519246650724, 0.8555416266564828, 1.889760557425556, -0.9473743473774876, -1.3010946003601567, 0.931864331683945, -1.1328812004895707, -1.1506780653543518, 0.8558651259512056, 1.2056075258913144, -1.132904809702867, 0.8558698590011841, -1.2981651288354505, 1.5782524620650464, 1.0240489493041105, 0.8137164925187419, -0.9473840311602755, -2.236929320482536, -1.1329677964230156, -2.1606773016759933, 1.2094625757020228, 0.7969682345736081, 0.8558591634795373, 0.33130047579028377, 1.5704442513148562, -1.1329129696544857, -0.9473785693639754, 1.2096307994607496, 0.8557936280098676, 0.8556952339604561, 1.573394820020452, 1.2095551414401542, -1.1329090584069015, 1.514447493448592, 1.023751785998624, 1.0240459706046092, 1.0240726151823616, 1.634581841468424, -0.9473845022960693, 0.9993944925145836, -1.924755729973686, 1.2095820484567639, 1.0240486501245813, -2.207826852250273, 0.8558639904361021, -1.3010977855070738, 1.2095913057866627, 1.024053203219439, -1.8172001320070128, 1.0240602479782872, -1.1329227187244746, 0.8138563172993707, -1.3010967179345256, 0.3086850961615474, -1.1329142738818243, 1.9459345342822107, 1.5704514522077744, 1.0240755117182363, 1.209194592695472, -2.176976170022948, 1.570499453905609, 1.6346498059391137, 1.96285497925546, 1.5703447792759757, 1.941371723875831, -2.0451466164046517, -2.157100157195307, 1.6181536494071131, 1.209590396315014, -1.1363166858040261, -0.9471533030007402, 1.8891924760222285, 1.209592551357382, 1.5704482427340094, 1.0240540713590085, 1.0240457841662574, -0.9474266103105766, 1.5704442513148562, 1.2095739575109228, 0.8558700536936603, 1.024057536193657, 0.45088291754965437, 1.0240548588806664, 1.023836697257746, 1.2095906811969432, -2.207834012672575, 1.0240129246220222, 0.8187277926793207, 1.024056435767133, 1.02405975160864, 1.4922015406529634, 0.5708590876342484, -1.1329096590063028, -2.207831364189674, -2.2133370934178687, 1.0238957719467816, 0.8558649234971812, 1.2095914975022342, 1.0240580189314896, -0.9821410345436768, 1.0240517774300835, -2.236638941656045, 0.8137565013937911, 0.17105602161580064, -1.1329088116657453, 1.6346514057967008, -0.947711968601867, -2.157098124037882, 1.0241923577569745, -1.1328959113721264, -2.2133328898388926, 0.8137797173799545, -2.222634964697062, 1.209563375950843, 2.0272815329369034, 1.2096069785455283, -1.1342791291146728, 1.5704566729289413, 1.2095674155547045, -0.5835944471859776, 1.5704954962378486, 1.2094757175222794, 1.0240544758340984, 1.0240498485199054, 1.0237093106989952, 0.619366587326035, 1.2095863277616743, -1.1329117819285275, 0.8132165050464663, -1.3013361441479014, 1.5704365878943678, 1.0240328575544797, 1.8778915481741096, 0.6455210204337054, -1.1329277496013952, 1.5144538812473567, -2.2365828593649932, 1.7815890843426772, -2.1948559760154853, -2.1865027410195212, -2.3218118016293205, -2.207653118096622, 1.5733845246770473, -0.9473944540629492, 1.5733744013353101, 1.88106640895282, -1.132907128388732, 1.8449342029385443, -1.1329329110011634, -0.9473848406962064, -0.9473817641440935, 1.0109185535298086, -2.2078391991257162, 1.8449384048714514, -2.386157726538481, -1.1241547333855884, -1.1478669829193204, 1.5065015002588025, -0.9477024866374394, 1.8810859954069374, -1.3010960511383352, 1.2095947834253402, 0.813777275701432, 2.086203264256316, -1.136586440595859, 1.570421948665754, -1.0637956325795928, -1.1329114553977253, -1.1329301255011117, -1.1329283867670765, -1.13292786974727, 1.02405185386608, 1.0240598692505307, -2.2078539390816725, 1.9750834864986777, 1.4971997680631717, 1.209586092001773, -2.161931899621382, 0.5162841337981346, -0.946700587099041, 1.0240543512916143, -1.6406399307464732, 0.7338134724732633, -2.157094556453834, 1.038723191079625, 0.8558805207132945, 1.5732366353037466, 1.8428493046170715, -2.2369598885409943, 1.024052994302432, 1.7024314636666662, -1.1328958405252996, 1.6573140128863992, 1.0240620388185402, 0.6467835252351049, -0.9474143168367556, -1.6406451673660174, -2.045242005564159, -1.6406408065822218, 1.209560064870769, 1.618109246954914, 1.576603757644375, 1.8449495807791856, -1.8172614754144638, 1.024039393677781, -2.2282789626426247, -2.207829333547967, -2.048400775840638, 1.363097747740649, 1.4922029008548554, -0.9475302290458638, -2.236716256895229, 1.0089209131832804, 1.024010843244291, -1.13274449373198, 1.2095963588000935, -1.2420815008732387, -0.947381303125025, -1.6406360500950132, 1.4921728758124388, -1.6406627193287477, -1.132909574429175, 1.0240297278112935, 1.0240591198761595, 0.9993018553408751, -0.9473803703729491, -1.3010947101022072, -1.160657419353081, 1.5144417017358036, -0.0984663950780899, 0.22133901436473472, -2.532386645532518, -2.161528414432399, 1.024091552994735, -2.2078800833905716, -1.1315786673723962, -2.2369047240271733, -1.212947339536306, 1.6344805810552006, 3.0900359696504394, 2.8490569046721888, -1.132917135020016, -1.1323526832061634, -0.9474494151299442, 0.996311991692055, 1.62219955319492, 1.2095843303340545, 1.4622896100607323, 0.8137432799695404, 1.5229282438331893, -2.047307003761739, -2.2081386849094664, -1.1329145284054407, -2.125311988396066, 1.5733751625537362, 1.0240586684148596, 1.0240581305662946, -2.1570855466931813, 0.8137284134528456, -2.1770641915854685, 1.4295372227835499, 1.5704213418330712, 1.024053578345103, 1.5672740720449219, -0.9473960670456693, 1.7024841556895236, 1.570418923602155, -2.207825834001952, 0.6563083753082705, 1.0229440045704195, -0.5835796122586036, -2.213341238412701, 1.016356494905712, -2.294052175412517, 0.8137839524917181, -2.176972633608495, -2.208037234608172, -2.2609394641570195, -2.2523143724230765, 1.025416392964125, 0.8137626290756566, -2.0744946827942354, 1.9434586783263732, -2.2079066885137353, 1.0240403288913258, 1.6794613849454603, 0.22220607640496035, 1.491975366985163, 0.6455789229227001, 1.5501158876942134, -1.2903652894488675, -2.239251856696699, -0.947381354186873, 0.8665958994150205, 1.4921977789239993, 1.7024877261297964, 0.8078627810123464, 0.9440832934157326, 1.4921986101062632, -1.132916197944591, 1.0237116806513398, -2.2371848410560804, -2.307047096174518, -0.6947244530062053, -2.277392321623447, 0.9992971298947236, 1.2095893979503207, 0.8137353705009379, 1.5703725473726664, -1.3008179937933997, 1.0096436903603396, 0.9992742333365324, -0.9473827441089878, 1.018267229134216, 2.830312851921785, -1.2903917950244097, 0.13126205416584255, -2.157710568167029, 1.2520112318723697, -2.1769951632302735, -1.3010960526244477, 1.1075364113755597, 1.0076244421409846, -2.209754754292191, 1.7024848223456805, -2.283021644887856, -2.2829867679060185, -0.21044228505010337, -2.128441841868415, -1.1329341166861366, 1.0240590972051786, -2.157170311155215, 1.7024888294794023, -2.1570941775556016, 1.4921979634451639, 1.0127589713252154, -1.5861251378719645, 0.9993005265497145, 1.0240398200794383, 1.4622314457725414, 1.9421596330670903, 1.2094523897209521, -1.3010945355631391, -0.31203418924141035, -1.3011153411335932, 1.2095930220937323, 1.6182781840421234, 1.0192043066081913, -1.1672409675158324, 1.2097092720071716, -1.640185026126361, 1.0239909716370414, -2.2854259919848405, 1.0240502521183725, 0.6455808671532592, 1.024063965101996, 1.2096278027609728, -1.132882314804105, 1.0208557527324567, 0.8644745783131893, 1.2094806582155573, -1.3011009939497162, 1.0240830541530315, -1.1361236024742845, 1.0241146154777645, -1.1571271954776614, 1.2096165055765182, 1.0240533511103624, 1.5704402849610746, -1.132908449787439, -1.132939206647897, 0.5193410855382762, 0.8558703724931522, 1.618147127204548, 0.8151018489003984, 1.0240760294747862, 0.5163154313759282, 4.657987939586972, -1.8172625009448193, 1.8449344575592064, -2.2233180439186757, 1.6186383543752259, -2.0451468449259913, 1.6186875714142472, 0.6457191467989375, 2.085408422589754, 1.5704430527709992, 1.904321780941724, 1.6498554905063523, 0.7138839035545892, 1.0239789661084686, -2.207843815747054, -2.1570993438264625, 0.8137740639819179], \"z\": [-0.33270710217718263, -0.3160303906023759, 2.3061473625591415, -0.14687592845534514, -0.14967616855220153, -0.1630178750961053, -0.39685790549858063, -0.15086168680346912, -0.148117412202251, -0.14941311788531636, -0.27409795966233524, 0.15503077569717938, -0.31539489390051784, -0.27195046075059115, -0.16416503774370736, -0.24223027773227135, -0.22852359341971934, -0.1637813522485126, -0.33236640640685333, -0.32493660549929854, -0.09855954417760308, 2.5590016492975867, -0.14395847384560823, -0.16103467648274447, -0.16358532022239552, -0.33120218762869175, -0.22893764799524774, -0.20482229145698166, -0.1636339431312335, -0.3327030362153081, -0.16414728578848461, -0.3326873036454709, -0.1642337988047163, -0.22861301869369852, 0.6711593790732104, -0.37427507056657633, 0.1788210174244854, 0.23127359641878323, 0.0846971481350345, -0.16397986657735275, -0.1595817896474735, -0.16391914073126038, -0.3453954562965477, -0.26991583167476774, -0.1642908522903152, -0.17665543480121604, -0.1434975007502649, -0.16308496084441002, -0.1633626982606063, -0.33076441372415893, -0.3332171398712381, 1.5860454185166686, -0.39675249754579234, -0.14683725873404524, -0.1606500790071227, -0.16400633116456861, -0.16436143341316853, -0.4243851552482047, -0.1636200875850199, -0.1639747770343585, -0.0289262053832531, -0.16424261245691674, -0.27867400553215266, -0.2890136084994563, -0.2791629736686254, -0.029067993416874105, -0.14691494793372253, -0.15790135193463659, -0.27978579746260357, -0.34984664724464587, -0.3270053151070671, -0.3311076359765525, 0.025788290538150186, -0.16422207492140822, -0.16231535120814594, -0.16370841278436013, -0.35312339834354206, -0.3971243536031676, -0.13405730902013163, -0.2566402408865098, -0.14637827162046474, -0.3153821058443165, -0.3970359436966346, -0.14666574853913858, -0.1466488609490444, -0.14723986224265304, -0.22878702076565638, -0.3079207447378082, -0.3313835694607223, -0.16393828461689533, -0.29164979768888394, -0.20238382028693874, -0.16103945395476024, -0.39700036765117014, -0.25710806439306744, -0.146445626940167, -0.2795664443358937, -0.32380520252005646, 3.856406756557286, 0.452592918665701, 0.011106670509248273, -0.3555223976440936, -0.16280504390713604, -0.31460600326713833, -0.3736960453713271, -0.1473943329685823, -0.28899378735288617, -0.16152279649960205, -0.2798613040058208, -0.16436364983157745, -0.28364442695618824, -0.16138767476796304, -0.3326891529952771, -0.2798134346584891, -0.1476005496277455, -0.1302531090569575, -0.35356875793752635, -0.13259297877513207, -0.16164513374476103, -0.16423660164877107, -0.33242334766568393, -0.03708387795635827, -0.12038683762404441, -0.16437254373759508, -0.14694275362655435, 0.48809450045521074, -0.3971058642439643, -0.43672909760734396, -0.22817371127137542, -0.1466957118085898, -0.14668247698039244, -0.4443145866039658, -0.22845885324867687, -0.3559254134544577, -0.16249522288612217, -0.16168679714587172, -0.28739412295774935, -0.1507447739218162, -0.27933475032292726, 0.3802780107438614, -0.3079479596994091, -0.24467291392111057, -0.2284942668332284, -0.14683838222371323, -0.07806823533726938, -0.1603271043663949, -0.09570508299962159, -0.31536577911221225, -0.07435553427033581, -0.1629347574199787, -0.31542949303621465, 0.271987409135618, -0.2354452161560328, -0.3322991884319999, -0.2872634961132164, -0.2276543970896097, -0.14447877975451653, -0.16318275654972855, -0.15832732087320445, -0.39427372008604644, 0.8649121192037461, -0.31522946982935557, -0.06018875005107189, -0.3450784926646245, -0.16416231627936403, -0.2284575073841712, -0.39494701282241007, -0.3139724632018602, -0.31163953603639, -0.3569241064625881, -0.3958403324438431, -0.16437260228020076, -0.36086360864345335, -0.3085796235901784, -0.3323373325822687, -0.33077500379789393, -0.23511068688925144, -0.2286076306533581, -0.3410496025651348, -0.25904321739250735, -0.3965794393959761, -0.3315409453448906, 0.29737842693429134, -0.3154104659334963, -0.1470986880890028, -0.3970950565043412, -0.332526593308825, -0.11264981675640426, -0.33268338039560186, -0.16153720072467456, -0.28725222773341164, -0.14705727922555795, -0.23898399542079016, -0.1640357732005015, 0.030637708920073732, -0.3440347456837046, -0.3322971560962001, -0.3832494372614999, -0.15545503493682078, -0.343362592953089, -0.23654195650804385, -0.41362301288608605, -0.34311227309194625, -0.2841516739189021, -0.1504867047231471, -0.1494347568949179, 3.728135283666889, -0.396687299211317, -0.09106250149310259, -0.21517914450828882, 0.8534685059644654, -0.3970499249931867, -0.34449886290739196, -0.33222478547967, -0.33237927713594595, -0.22643435372674667, -0.3450784926646245, -0.3966246232731067, -0.3152729994334268, -0.33222550105535686, -0.37262708783916415, -0.3323730183617834, -0.32795905422737776, -0.39707895184968534, 0.29737274289780297, -0.3315833815061316, 0.35477003403424934, -0.332572434464697, -0.33264303865623096, -0.35857019960757774, -0.32911680261041903, -0.16435432963829116, 0.29750357626070767, -0.1472364912175291, -0.3288679585479012, -0.3153868563291041, -0.39698883091013615, -0.33242069393393403, 0.4869800294035838, -0.332547779797175, -0.14962584677224502, -0.2889004136383306, -0.28497133364802524, -0.1643225870450788, -0.23630962684565804, -0.22133805338581086, -0.1494471289068812, -0.3133861110809281, -0.16245432841096705, -0.14695462753044586, -0.2886412105807148, -0.15165194248655223, -0.3962541947841843, -0.4226011756633201, -0.39499135706636973, -0.1352320864312355, -0.3433236564881503, -0.39615197912952993, -0.18979430594603816, -0.3377191336536429, -0.3920904719622645, -0.3324910075764774, -0.3324902247859158, -0.32560883710779726, 0.2609551157415039, -0.3966307029395045, -0.16388464342892506, -0.2715327546988116, -0.11339918962008767, -0.34511285870286407, -0.33170123416819686, 0.8904814134375689, -0.27064028995037837, -0.16370666785622184, -0.35964100513966885, -0.1494831305001611, 0.6024670094808712, -0.15892132039862547, -0.020432970342061436, -0.1564448644770761, 0.333523834045288, -0.35846096907805064, -0.22766286070220262, -0.3569621349897173, -0.42188874100196216, -0.16402605073329257, -0.27949829357625955, -0.16378940541153014, -0.22805778776058858, -0.22863566825000559, 0.13250948740356835, 0.297768004746195, -0.2795690936980159, -0.11742143862697685, 3.2480205508750455, -0.13128291678675905, -0.3595854925220363, -0.21950268311978097, -0.4213931373986348, -0.14687509182354377, -0.3969032405766655, -0.288974546446349, 4.41236091843142, -0.0899109887256374, -0.3449791208592405, 1.5844212344741584, -0.16412400045649742, -0.16357533282765765, -0.16327606585566645, -0.16326298350407115, -0.33212594599233486, -0.33262595482265545, 0.2979516667869271, -0.3322061078537554, 0.6509053552715173, -0.3968440762433848, 0.06301409466449796, -0.34484245262090135, -0.1829831214119301, -0.33258156994276106, -0.18134774569440468, -0.3280833619889878, -0.14929303917313883, 0.43719984031776177, -0.3137317928281164, -0.3432172818269137, -0.3943870077601279, -0.14323710135515283, -0.3325318796164312, -0.4003920859408814, -0.16245253574638724, -0.3602690360235162, -0.3324021273434824, -0.09829687463289412, -0.2241768449722791, -0.18119306989528625, -0.14885122374439527, -0.18129332596996334, -0.3956359807568004, 3.7329946680275468, 0.20147031878848629, -0.27623738211003507, -0.12281741275522114, -0.32986063143331057, 1.1358390378879246, 0.29735552781326013, -0.07370160465581199, -0.31484345635249417, -0.3584560096713147, -0.22391892738294214, -0.13858758384369643, 0.08196242319415244, -0.3315403207419274, -0.08044617079826459, -0.3962173392589842, 1.0962340910090214, -0.22860964390652883, -0.18134527874145714, -0.35762030043791887, -0.17437792167269897, -0.16337441002011488, -0.3190966437881912, -0.33264810742034456, -0.35354066348632834, -0.22853498789815785, -0.14685446507594935, -0.19668857341500462, -0.361145771365419, -0.2759034692091081, -0.27994296637776533, 8.03920187299903, -0.12675779147595975, -0.3281898263359521, 0.30123264780786246, 0.02882540641037796, -0.14273959503328937, -0.18793111222384415, -0.22810025140613668, -0.19827921337077867, -0.36012829652536943, -0.16394862523747175, 0.14336887956226624, -0.22267178392862327, -0.36504525198431287, -0.39589398481866334, -0.39692056129042536, -0.3045618378502692, -0.2881341037565477, -0.33945259073725964, -0.1018660240554484, 0.30528290506142725, -0.16418580351138695, -0.15712924629463815, -0.35805968471019567, -0.33267548536438896, -0.3326571858648293, -0.14828329393737882, -0.2825114057826957, -0.15323737021130457, -0.3432294206741102, -0.3445732778840897, -0.33237351135780663, 3.931976109370542, -0.22770367462611435, -0.3990587993623666, -0.344762102870713, 0.2975382093991849, -0.31418758074659514, -0.27921023077202844, -0.18985372258161418, -0.14708163524604995, -0.2635152680554911, -0.14456498658787598, -0.28866848681336427, -0.15553945512431785, 0.30146817157936245, 0.5924686495425852, 2.1071518115242185, -0.1356329855297217, -0.2889208614314553, -0.1789218729930924, -0.3495032773987447, 0.31115319934725155, -0.3318472273873523, -0.2006353712587504, 2.2510362181589967, -0.3541620868240301, -0.27076776542929887, 1.0188255816320166, -0.189362937333546, -0.14814585271314046, -0.22859179061059762, -0.3569045020847076, -0.35856965741872193, -0.40207716271624105, -0.1695979628887785, -0.37139256622568684, -0.3572882245677133, -0.1642104146471454, -0.3255488692894906, -0.1384702440108822, -0.1241936340905919, -0.13500022370782677, 3.116878884727853, -0.3531177821556345, -0.39639347232569305, -0.2861644356220284, -0.34386150069191346, -0.10667000919250698, -0.3598183408770738, -0.3529791925908525, -0.2285631425674867, -0.19208636736614393, -0.3172173398486434, -0.1887903792055973, -0.13832337468414102, -0.04396148532390267, -0.26117400368145904, -0.15493687915407375, -0.14687512942722789, 0.5576948649837759, -0.1432860828681781, 0.3773483460913747, -0.40137127962014457, -0.1297311330910558, -0.1301232471166494, -0.2736845779854606, -0.1600003260460317, -0.1631019633152016, -0.33237745551425507, -0.14735210489099262, -0.40182771678788143, -0.1491257261254132, -0.3586867208210452, 0.5747485155264457, -0.1608556912246297, -0.35359502717960994, -0.3318601020508008, -0.2990136356330491, -0.30419674198062696, -0.3939570998873594, -0.14615070152079157, -0.11161934706378715, -0.14501789065373805, -0.3966208581196059, 3.74524657062077, 0.1028504240747371, 0.532035042076015, -0.39415797505928585, -0.10645011012190128, -0.331245417453551, -0.0805652739285516, -0.33207068324827044, -0.2719831542742918, -0.33258932458063833, -0.38824220050593816, -0.14775128904095858, -0.2462462910337068, -0.09483713849878189, -0.383988233380689, -0.14666511834925927, -0.3318669902899327, 0.552000945583833, -0.32492592073483256, -0.20438292597798316, -0.39318675535300285, -0.330305183364489, -0.3453543537351514, -0.1642872650095233, -0.16224158101397998, -0.4091026576885285, -0.3139088049335642, 3.728527353538947, -0.09605064728489762, -0.3274977217141831, -0.3494723464513604, -0.5677955112051964, -0.13332862315470856, -0.2799685696169014, -0.1338275691813363, 3.738405654854833, -0.15051989036107086, 3.7396510125770046, -0.2528648097725242, -0.4128655926007058, -0.34529015586614764, 34.090531670475436, -0.29355439006339135, 2.473906921034945, -0.3307514757423725, 0.31912942268362277, -0.14941417590930547, -0.2893175607066995]}],\n",
       "                        {\"legend\": {\"tracegroupgap\": 0, \"x\": 0, \"y\": 1}, \"margin\": {\"t\": 60}, \"scene\": {\"domain\": {\"x\": [0.0, 1.0], \"y\": [0.0, 1.0]}, \"xaxis\": {\"title\": {\"text\": \"PC3\"}}, \"yaxis\": {\"title\": {\"text\": \"PC2\"}}, \"zaxis\": {\"title\": {\"text\": \"PC1\"}}}, \"template\": {\"data\": {\"bar\": [{\"error_x\": {\"color\": \"#2a3f5f\"}, \"error_y\": {\"color\": \"#2a3f5f\"}, \"marker\": {\"line\": {\"color\": \"#E5ECF6\", \"width\": 0.5}}, \"type\": \"bar\"}], \"barpolar\": [{\"marker\": {\"line\": {\"color\": \"#E5ECF6\", \"width\": 0.5}}, \"type\": \"barpolar\"}], \"carpet\": [{\"aaxis\": {\"endlinecolor\": \"#2a3f5f\", \"gridcolor\": \"white\", \"linecolor\": \"white\", \"minorgridcolor\": \"white\", \"startlinecolor\": \"#2a3f5f\"}, \"baxis\": {\"endlinecolor\": \"#2a3f5f\", \"gridcolor\": \"white\", \"linecolor\": \"white\", \"minorgridcolor\": \"white\", \"startlinecolor\": \"#2a3f5f\"}, \"type\": \"carpet\"}], \"choropleth\": [{\"colorbar\": {\"outlinewidth\": 0, \"ticks\": \"\"}, \"type\": \"choropleth\"}], \"contour\": [{\"colorbar\": {\"outlinewidth\": 0, \"ticks\": \"\"}, \"colorscale\": [[0.0, \"#0d0887\"], [0.1111111111111111, \"#46039f\"], [0.2222222222222222, \"#7201a8\"], [0.3333333333333333, \"#9c179e\"], [0.4444444444444444, \"#bd3786\"], [0.5555555555555556, \"#d8576b\"], [0.6666666666666666, \"#ed7953\"], [0.7777777777777778, \"#fb9f3a\"], [0.8888888888888888, \"#fdca26\"], [1.0, \"#f0f921\"]], \"type\": \"contour\"}], \"contourcarpet\": [{\"colorbar\": {\"outlinewidth\": 0, \"ticks\": \"\"}, \"type\": \"contourcarpet\"}], \"heatmap\": [{\"colorbar\": {\"outlinewidth\": 0, \"ticks\": \"\"}, \"colorscale\": [[0.0, \"#0d0887\"], [0.1111111111111111, \"#46039f\"], [0.2222222222222222, \"#7201a8\"], [0.3333333333333333, \"#9c179e\"], [0.4444444444444444, \"#bd3786\"], [0.5555555555555556, \"#d8576b\"], [0.6666666666666666, \"#ed7953\"], [0.7777777777777778, \"#fb9f3a\"], [0.8888888888888888, \"#fdca26\"], [1.0, \"#f0f921\"]], \"type\": \"heatmap\"}], \"heatmapgl\": [{\"colorbar\": {\"outlinewidth\": 0, \"ticks\": \"\"}, \"colorscale\": [[0.0, \"#0d0887\"], [0.1111111111111111, \"#46039f\"], [0.2222222222222222, \"#7201a8\"], [0.3333333333333333, \"#9c179e\"], [0.4444444444444444, \"#bd3786\"], [0.5555555555555556, \"#d8576b\"], [0.6666666666666666, \"#ed7953\"], [0.7777777777777778, \"#fb9f3a\"], [0.8888888888888888, \"#fdca26\"], [1.0, \"#f0f921\"]], \"type\": \"heatmapgl\"}], \"histogram\": [{\"marker\": {\"colorbar\": {\"outlinewidth\": 0, \"ticks\": \"\"}}, \"type\": \"histogram\"}], \"histogram2d\": [{\"colorbar\": {\"outlinewidth\": 0, \"ticks\": \"\"}, \"colorscale\": [[0.0, \"#0d0887\"], [0.1111111111111111, \"#46039f\"], [0.2222222222222222, \"#7201a8\"], [0.3333333333333333, \"#9c179e\"], [0.4444444444444444, \"#bd3786\"], [0.5555555555555556, \"#d8576b\"], [0.6666666666666666, \"#ed7953\"], [0.7777777777777778, \"#fb9f3a\"], [0.8888888888888888, \"#fdca26\"], [1.0, \"#f0f921\"]], \"type\": \"histogram2d\"}], \"histogram2dcontour\": [{\"colorbar\": {\"outlinewidth\": 0, \"ticks\": \"\"}, \"colorscale\": [[0.0, \"#0d0887\"], [0.1111111111111111, \"#46039f\"], [0.2222222222222222, \"#7201a8\"], [0.3333333333333333, \"#9c179e\"], [0.4444444444444444, \"#bd3786\"], [0.5555555555555556, \"#d8576b\"], [0.6666666666666666, \"#ed7953\"], [0.7777777777777778, \"#fb9f3a\"], [0.8888888888888888, \"#fdca26\"], [1.0, \"#f0f921\"]], \"type\": \"histogram2dcontour\"}], \"mesh3d\": [{\"colorbar\": {\"outlinewidth\": 0, \"ticks\": \"\"}, \"type\": \"mesh3d\"}], \"parcoords\": [{\"line\": {\"colorbar\": {\"outlinewidth\": 0, \"ticks\": \"\"}}, \"type\": \"parcoords\"}], \"pie\": [{\"automargin\": true, \"type\": \"pie\"}], \"scatter\": [{\"marker\": {\"colorbar\": {\"outlinewidth\": 0, \"ticks\": \"\"}}, \"type\": \"scatter\"}], \"scatter3d\": [{\"line\": {\"colorbar\": {\"outlinewidth\": 0, \"ticks\": \"\"}}, \"marker\": {\"colorbar\": {\"outlinewidth\": 0, \"ticks\": \"\"}}, \"type\": \"scatter3d\"}], \"scattercarpet\": [{\"marker\": {\"colorbar\": {\"outlinewidth\": 0, \"ticks\": \"\"}}, \"type\": \"scattercarpet\"}], \"scattergeo\": [{\"marker\": {\"colorbar\": {\"outlinewidth\": 0, \"ticks\": \"\"}}, \"type\": \"scattergeo\"}], \"scattergl\": [{\"marker\": {\"colorbar\": {\"outlinewidth\": 0, \"ticks\": \"\"}}, \"type\": \"scattergl\"}], \"scattermapbox\": [{\"marker\": {\"colorbar\": {\"outlinewidth\": 0, \"ticks\": \"\"}}, \"type\": \"scattermapbox\"}], \"scatterpolar\": [{\"marker\": {\"colorbar\": {\"outlinewidth\": 0, \"ticks\": \"\"}}, \"type\": \"scatterpolar\"}], \"scatterpolargl\": [{\"marker\": {\"colorbar\": {\"outlinewidth\": 0, \"ticks\": \"\"}}, \"type\": \"scatterpolargl\"}], \"scatterternary\": [{\"marker\": {\"colorbar\": {\"outlinewidth\": 0, \"ticks\": \"\"}}, \"type\": \"scatterternary\"}], \"surface\": [{\"colorbar\": {\"outlinewidth\": 0, \"ticks\": \"\"}, \"colorscale\": [[0.0, \"#0d0887\"], [0.1111111111111111, \"#46039f\"], [0.2222222222222222, \"#7201a8\"], [0.3333333333333333, \"#9c179e\"], [0.4444444444444444, \"#bd3786\"], [0.5555555555555556, \"#d8576b\"], [0.6666666666666666, \"#ed7953\"], [0.7777777777777778, \"#fb9f3a\"], [0.8888888888888888, \"#fdca26\"], [1.0, \"#f0f921\"]], \"type\": \"surface\"}], \"table\": [{\"cells\": {\"fill\": {\"color\": \"#EBF0F8\"}, \"line\": {\"color\": \"white\"}}, \"header\": {\"fill\": {\"color\": \"#C8D4E3\"}, \"line\": {\"color\": \"white\"}}, \"type\": \"table\"}]}, \"layout\": {\"annotationdefaults\": {\"arrowcolor\": \"#2a3f5f\", \"arrowhead\": 0, \"arrowwidth\": 1}, \"coloraxis\": {\"colorbar\": {\"outlinewidth\": 0, \"ticks\": \"\"}}, \"colorscale\": {\"diverging\": [[0, \"#8e0152\"], [0.1, \"#c51b7d\"], [0.2, \"#de77ae\"], [0.3, \"#f1b6da\"], [0.4, \"#fde0ef\"], [0.5, \"#f7f7f7\"], [0.6, \"#e6f5d0\"], [0.7, \"#b8e186\"], [0.8, \"#7fbc41\"], [0.9, \"#4d9221\"], [1, \"#276419\"]], \"sequential\": [[0.0, \"#0d0887\"], [0.1111111111111111, \"#46039f\"], [0.2222222222222222, \"#7201a8\"], [0.3333333333333333, \"#9c179e\"], [0.4444444444444444, \"#bd3786\"], [0.5555555555555556, \"#d8576b\"], [0.6666666666666666, \"#ed7953\"], [0.7777777777777778, \"#fb9f3a\"], [0.8888888888888888, \"#fdca26\"], [1.0, \"#f0f921\"]], \"sequentialminus\": [[0.0, \"#0d0887\"], [0.1111111111111111, \"#46039f\"], [0.2222222222222222, \"#7201a8\"], [0.3333333333333333, \"#9c179e\"], [0.4444444444444444, \"#bd3786\"], [0.5555555555555556, \"#d8576b\"], [0.6666666666666666, \"#ed7953\"], [0.7777777777777778, \"#fb9f3a\"], [0.8888888888888888, \"#fdca26\"], [1.0, \"#f0f921\"]]}, \"colorway\": [\"#636efa\", \"#EF553B\", \"#00cc96\", \"#ab63fa\", \"#FFA15A\", \"#19d3f3\", \"#FF6692\", \"#B6E880\", \"#FF97FF\", \"#FECB52\"], \"font\": {\"color\": \"#2a3f5f\"}, \"geo\": {\"bgcolor\": \"white\", \"lakecolor\": \"white\", \"landcolor\": \"#E5ECF6\", \"showlakes\": true, \"showland\": true, \"subunitcolor\": \"white\"}, \"hoverlabel\": {\"align\": \"left\"}, \"hovermode\": \"closest\", \"mapbox\": {\"style\": \"light\"}, \"paper_bgcolor\": \"white\", \"plot_bgcolor\": \"#E5ECF6\", \"polar\": {\"angularaxis\": {\"gridcolor\": \"white\", \"linecolor\": \"white\", \"ticks\": \"\"}, \"bgcolor\": \"#E5ECF6\", \"radialaxis\": {\"gridcolor\": \"white\", \"linecolor\": \"white\", \"ticks\": \"\"}}, \"scene\": {\"xaxis\": {\"backgroundcolor\": \"#E5ECF6\", \"gridcolor\": \"white\", \"gridwidth\": 2, \"linecolor\": \"white\", \"showbackground\": true, \"ticks\": \"\", \"zerolinecolor\": \"white\"}, \"yaxis\": {\"backgroundcolor\": \"#E5ECF6\", \"gridcolor\": \"white\", \"gridwidth\": 2, \"linecolor\": \"white\", \"showbackground\": true, \"ticks\": \"\", \"zerolinecolor\": \"white\"}, \"zaxis\": {\"backgroundcolor\": \"#E5ECF6\", \"gridcolor\": \"white\", \"gridwidth\": 2, \"linecolor\": \"white\", \"showbackground\": true, \"ticks\": \"\", \"zerolinecolor\": \"white\"}}, \"shapedefaults\": {\"line\": {\"color\": \"#2a3f5f\"}}, \"ternary\": {\"aaxis\": {\"gridcolor\": \"white\", \"linecolor\": \"white\", \"ticks\": \"\"}, \"baxis\": {\"gridcolor\": \"white\", \"linecolor\": \"white\", \"ticks\": \"\"}, \"bgcolor\": \"#E5ECF6\", \"caxis\": {\"gridcolor\": \"white\", \"linecolor\": \"white\", \"ticks\": \"\"}}, \"title\": {\"x\": 0.05}, \"xaxis\": {\"automargin\": true, \"gridcolor\": \"white\", \"linecolor\": \"white\", \"ticks\": \"\", \"title\": {\"standoff\": 15}, \"zerolinecolor\": \"white\", \"zerolinewidth\": 2}, \"yaxis\": {\"automargin\": true, \"gridcolor\": \"white\", \"linecolor\": \"white\", \"ticks\": \"\", \"title\": {\"standoff\": 15}, \"zerolinecolor\": \"white\", \"zerolinewidth\": 2}}}, \"width\": 800},\n",
       "                        {\"responsive\": true}\n",
       "                    ).then(function(){\n",
       "                            \n",
       "var gd = document.getElementById('73f3df42-521c-4f27-a0dd-d4c00e96db4a');\n",
       "var x = new MutationObserver(function (mutations, observer) {{\n",
       "        var display = window.getComputedStyle(gd).display;\n",
       "        if (!display || display === 'none') {{\n",
       "            console.log([gd, 'removed!']);\n",
       "            Plotly.purge(gd);\n",
       "            observer.disconnect();\n",
       "        }}\n",
       "}});\n",
       "\n",
       "// Listen for the removal of the full notebook cells\n",
       "var notebookContainer = gd.closest('#notebook-container');\n",
       "if (notebookContainer) {{\n",
       "    x.observe(notebookContainer, {childList: true});\n",
       "}}\n",
       "\n",
       "// Listen for the clearing of the current output cell\n",
       "var outputEl = gd.closest('.output');\n",
       "if (outputEl) {{\n",
       "    x.observe(outputEl, {childList: true});\n",
       "}}\n",
       "\n",
       "                        })\n",
       "                };\n",
       "                });\n",
       "            </script>\n",
       "        </div>"
      ]
     },
     "metadata": {},
     "output_type": "display_data"
    }
   ],
   "source": [
    "# Create a 3D-Scatter with the PCA data and the clusters\n",
    "fig = px.scatter_3d(\n",
    "    crypto_cluster_df,\n",
    "    x=\"PC3\",\n",
    "    y=\"PC2\",\n",
    "    z=\"PC1\",\n",
    "    hover_name = coin_names,\n",
    "    hover_data = [\"Algorithm\"],\n",
    "    width=800,\n",
    ")\n",
    "\n",
    "fig.update_layout(legend=dict(x=0, y=1))\n",
    "fig.show()"
   ]
  },
  {
   "cell_type": "markdown",
   "metadata": {},
   "source": [
    "#### Table of Tradable Cryptocurrencies"
   ]
  },
  {
   "cell_type": "code",
   "execution_count": 82,
   "metadata": {},
   "outputs": [],
   "source": [
    "# Table with tradable cryptos\n",
    "# Add coin names back\n",
    "#crypto_cluster_df.insert(0, 'CoinName', coin_names)\n",
    "\n",
    "# Table with tradable cryptos\n",
    "#crypto_cluster_df.plot.table(columns=['CoinName', 'Algorithm', 'ProofType', 'TotalCoinSupply', \n",
    "                                 #'TotalCoinsMined','cluster'], width=800)"
   ]
  },
  {
   "cell_type": "code",
   "execution_count": 83,
   "metadata": {},
   "outputs": [
    {
     "name": "stdout",
     "output_type": "stream",
     "text": [
      "There are 533 tradable cryptos\n"
     ]
    }
   ],
   "source": [
    "# Print the total number of tradable cryptocurrencies\n",
    "print(f'There are {crypto_cluster_df.cluster.count()} tradable cryptos')"
   ]
  },
  {
   "cell_type": "markdown",
   "metadata": {},
   "source": [
    "#### Scatter Plot with Tradable Cryptocurrencies"
   ]
  },
  {
   "cell_type": "code",
   "execution_count": 43,
   "metadata": {},
   "outputs": [],
   "source": [
    "# Scale data to create the scatter plot\n"
   ]
  },
  {
   "cell_type": "code",
   "execution_count": 86,
   "metadata": {},
   "outputs": [],
   "source": [
    "# Plot the scatter with x=\"TotalCoinsMined\" and y=\"TotalCoinSupply\"\n",
    "#crypto_cluster_df.plot(kind='scatter', x = 'TotalCoinsMined', y = 'TotalCoinSupply')"
   ]
  },
  {
   "cell_type": "code",
   "execution_count": null,
   "metadata": {},
   "outputs": [],
   "source": []
  },
  {
   "cell_type": "code",
   "execution_count": null,
   "metadata": {},
   "outputs": [],
   "source": []
  }
 ],
 "metadata": {
  "file_extension": ".py",
  "kernelspec": {
   "display_name": "Python 3",
   "language": "python",
   "name": "python3"
  },
  "language_info": {
   "codemirror_mode": {
    "name": "ipython",
    "version": 3
   },
   "file_extension": ".py",
   "mimetype": "text/x-python",
   "name": "python",
   "nbconvert_exporter": "python",
   "pygments_lexer": "ipython3",
   "version": "3.7.4"
  },
  "mimetype": "text/x-python",
  "name": "python",
  "npconvert_exporter": "python",
  "pygments_lexer": "ipython3",
  "version": 3
 },
 "nbformat": 4,
 "nbformat_minor": 4
}
